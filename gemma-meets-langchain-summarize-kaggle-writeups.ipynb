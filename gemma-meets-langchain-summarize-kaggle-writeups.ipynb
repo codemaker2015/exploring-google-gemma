{
 "cells": [
  {
   "cell_type": "markdown",
   "id": "a05942eb",
   "metadata": {
    "papermill": {
     "duration": 0.009847,
     "end_time": "2024-03-02T12:03:31.368895",
     "exception": false,
     "start_time": "2024-03-02T12:03:31.359048",
     "status": "completed"
    },
    "tags": []
   },
   "source": [
    "# 1. Introduction\n",
    "\n",
    "In this notebook, gemma_2b is integrated with LangChain to summarize Kaggle solution write-ups.<br>\n",
    "To accomplish this, the Keras model of gemma_2b is wrapped as a custom model within LangChain.<br>\n",
    "I hope this aids Kagglers in incorporating modern techniques such as RAG, CoT, and so on, through LangChain."
   ]
  },
  {
   "cell_type": "markdown",
   "id": "4ac55bc5",
   "metadata": {
    "papermill": {
     "duration": 0.008986,
     "end_time": "2024-03-02T12:03:31.387383",
     "exception": false,
     "start_time": "2024-03-02T12:03:31.378397",
     "status": "completed"
    },
    "tags": []
   },
   "source": [
    "# 2. Install packages\n",
    "\n",
    "First of all, necesarry packages are installed as follows,"
   ]
  },
  {
   "cell_type": "code",
   "execution_count": 1,
   "id": "22ead693",
   "metadata": {
    "_cell_guid": "b1076dfc-b9ad-4769-8c92-a6c4dae69d19",
    "_kg_hide-output": true,
    "_uuid": "8f2839f25d086af736a60e9eeb907d3b93b6e0e5",
    "execution": {
     "iopub.execute_input": "2024-03-02T12:03:31.407322Z",
     "iopub.status.busy": "2024-03-02T12:03:31.407035Z",
     "iopub.status.idle": "2024-03-02T12:04:17.130903Z",
     "shell.execute_reply": "2024-03-02T12:04:17.129969Z"
    },
    "papermill": {
     "duration": 45.736506,
     "end_time": "2024-03-02T12:04:17.133263",
     "exception": false,
     "start_time": "2024-03-02T12:03:31.396757",
     "status": "completed"
    },
    "tags": []
   },
   "outputs": [
    {
     "name": "stdout",
     "output_type": "stream",
     "text": [
      "\u001b[31mERROR: pip's dependency resolver does not currently take into account all the packages that are installed. This behaviour is the source of the following dependency conflicts.\r\n",
      "cudf 23.8.0 requires cubinlinker, which is not installed.\r\n",
      "cudf 23.8.0 requires cupy-cuda11x>=12.0.0, which is not installed.\r\n",
      "cudf 23.8.0 requires ptxcompiler, which is not installed.\r\n",
      "cuml 23.8.0 requires cupy-cuda11x>=12.0.0, which is not installed.\r\n",
      "dask-cudf 23.8.0 requires cupy-cuda11x>=12.0.0, which is not installed.\r\n",
      "apache-beam 2.46.0 requires dill<0.3.2,>=0.3.1.1, but you have dill 0.3.7 which is incompatible.\r\n",
      "apache-beam 2.46.0 requires pyarrow<10.0.0,>=3.0.0, but you have pyarrow 11.0.0 which is incompatible.\r\n",
      "cudf 23.8.0 requires cuda-python<12.0a0,>=11.7.1, but you have cuda-python 12.3.0 which is incompatible.\r\n",
      "cudf 23.8.0 requires pandas<1.6.0dev0,>=1.3, but you have pandas 2.1.4 which is incompatible.\r\n",
      "cudf 23.8.0 requires protobuf<5,>=4.21, but you have protobuf 3.20.3 which is incompatible.\r\n",
      "cuml 23.8.0 requires dask==2023.7.1, but you have dask 2024.1.0 which is incompatible.\r\n",
      "cuml 23.8.0 requires distributed==2023.7.1, but you have distributed 2024.1.0 which is incompatible.\r\n",
      "dask-cuda 23.8.0 requires dask==2023.7.1, but you have dask 2024.1.0 which is incompatible.\r\n",
      "dask-cuda 23.8.0 requires distributed==2023.7.1, but you have distributed 2024.1.0 which is incompatible.\r\n",
      "dask-cuda 23.8.0 requires pandas<1.6.0dev0,>=1.3, but you have pandas 2.1.4 which is incompatible.\r\n",
      "dask-cudf 23.8.0 requires dask==2023.7.1, but you have dask 2024.1.0 which is incompatible.\r\n",
      "dask-cudf 23.8.0 requires distributed==2023.7.1, but you have distributed 2024.1.0 which is incompatible.\r\n",
      "dask-cudf 23.8.0 requires pandas<1.6.0dev0,>=1.3, but you have pandas 2.1.4 which is incompatible.\r\n",
      "google-cloud-bigquery 2.34.4 requires packaging<22.0dev,>=14.3, but you have packaging 23.2 which is incompatible.\r\n",
      "jupyterlab 4.0.11 requires jupyter-lsp>=2.0.0, but you have jupyter-lsp 1.5.1 which is incompatible.\r\n",
      "jupyterlab-lsp 5.0.2 requires jupyter-lsp>=2.0.0, but you have jupyter-lsp 1.5.1 which is incompatible.\r\n",
      "libpysal 4.9.2 requires shapely>=2.0.1, but you have shapely 1.8.5.post1 which is incompatible.\r\n",
      "momepy 0.7.0 requires shapely>=2, but you have shapely 1.8.5.post1 which is incompatible.\r\n",
      "osmnx 1.8.1 requires shapely>=2.0, but you have shapely 1.8.5.post1 which is incompatible.\r\n",
      "raft-dask 23.8.0 requires dask==2023.7.1, but you have dask 2024.1.0 which is incompatible.\r\n",
      "raft-dask 23.8.0 requires distributed==2023.7.1, but you have distributed 2024.1.0 which is incompatible.\r\n",
      "spopt 0.6.0 requires shapely>=2.0.1, but you have shapely 1.8.5.post1 which is incompatible.\u001b[0m\u001b[31m\r\n",
      "\u001b[0m\u001b[31mERROR: pip's dependency resolver does not currently take into account all the packages that are installed. This behaviour is the source of the following dependency conflicts.\r\n",
      "tensorflow 2.15.0 requires keras<2.16,>=2.15.0, but you have keras 3.0.5 which is incompatible.\u001b[0m\u001b[31m\r\n",
      "\u001b[0m"
     ]
    }
   ],
   "source": [
    "!pip install -q -U langchain\n",
    "!pip install -q -U keras-nlp\n",
    "!pip install -q -U keras>3"
   ]
  },
  {
   "cell_type": "markdown",
   "id": "20da707f",
   "metadata": {
    "papermill": {
     "duration": 0.009261,
     "end_time": "2024-03-02T12:04:17.152665",
     "exception": false,
     "start_time": "2024-03-02T12:04:17.143404",
     "status": "completed"
    },
    "tags": []
   },
   "source": [
    "# 3. Prepare Gemma Model\n",
    "## 3.1 Import Model\n",
    "In this notebook, Gemma Model is used locally. Gemma model can be imported as a keras Model."
   ]
  },
  {
   "cell_type": "code",
   "execution_count": 2,
   "id": "8588b471",
   "metadata": {
    "_kg_hide-output": true,
    "execution": {
     "iopub.execute_input": "2024-03-02T12:04:17.173284Z",
     "iopub.status.busy": "2024-03-02T12:04:17.172662Z",
     "iopub.status.idle": "2024-03-02T12:04:29.394167Z",
     "shell.execute_reply": "2024-03-02T12:04:29.393396Z"
    },
    "papermill": {
     "duration": 12.234232,
     "end_time": "2024-03-02T12:04:29.396417",
     "exception": false,
     "start_time": "2024-03-02T12:04:17.162185",
     "status": "completed"
    },
    "tags": []
   },
   "outputs": [
    {
     "name": "stderr",
     "output_type": "stream",
     "text": [
      "2024-03-02 12:04:20.985459: E external/local_xla/xla/stream_executor/cuda/cuda_dnn.cc:9261] Unable to register cuDNN factory: Attempting to register factory for plugin cuDNN when one has already been registered\n",
      "2024-03-02 12:04:20.985579: E external/local_xla/xla/stream_executor/cuda/cuda_fft.cc:607] Unable to register cuFFT factory: Attempting to register factory for plugin cuFFT when one has already been registered\n",
      "2024-03-02 12:04:21.087460: E external/local_xla/xla/stream_executor/cuda/cuda_blas.cc:1515] Unable to register cuBLAS factory: Attempting to register factory for plugin cuBLAS when one has already been registered\n"
     ]
    }
   ],
   "source": [
    "import os\n",
    "\n",
    "os.environ[\"KERAS_BACKEND\"] = \"jax\"  # Or \"torch\" or \"tensorflow\".\n",
    "# Avoid memory fragmentation on JAX backend.\n",
    "os.environ[\"XLA_PYTHON_CLIENT_MEM_FRACTION\"]=\"1.00\"\n",
    "\n",
    "import keras\n",
    "import keras_nlp"
   ]
  },
  {
   "cell_type": "code",
   "execution_count": 3,
   "id": "febcdfd0",
   "metadata": {
    "execution": {
     "iopub.execute_input": "2024-03-02T12:04:29.419359Z",
     "iopub.status.busy": "2024-03-02T12:04:29.418856Z",
     "iopub.status.idle": "2024-03-02T12:05:30.070268Z",
     "shell.execute_reply": "2024-03-02T12:05:30.069410Z"
    },
    "papermill": {
     "duration": 60.664421,
     "end_time": "2024-03-02T12:05:30.072695",
     "exception": false,
     "start_time": "2024-03-02T12:04:29.408274",
     "status": "completed"
    },
    "tags": []
   },
   "outputs": [
    {
     "name": "stderr",
     "output_type": "stream",
     "text": [
      "Attaching 'config.json' from model 'keras/gemma/keras/gemma_instruct_2b_en/2' to your Kaggle notebook...\n",
      "Attaching 'config.json' from model 'keras/gemma/keras/gemma_instruct_2b_en/2' to your Kaggle notebook...\n",
      "Attaching 'model.weights.h5' from model 'keras/gemma/keras/gemma_instruct_2b_en/2' to your Kaggle notebook...\n",
      "Attaching 'tokenizer.json' from model 'keras/gemma/keras/gemma_instruct_2b_en/2' to your Kaggle notebook...\n",
      "Attaching 'assets/tokenizer/vocabulary.spm' from model 'keras/gemma/keras/gemma_instruct_2b_en/2' to your Kaggle notebook...\n",
      "normalizer.cc(51) LOG(INFO) precompiled_charsmap is empty. use identity normalization.\n"
     ]
    },
    {
     "name": "stdout",
     "output_type": "stream",
     "text": [
      "CPU times: user 6.59 s, sys: 9.26 s, total: 15.9 s\n",
      "Wall time: 1min\n"
     ]
    }
   ],
   "source": [
    "%%time\n",
    "gemma_lm = keras_nlp.models.GemmaCausalLM.from_preset(\"gemma_instruct_2b_en\")"
   ]
  },
  {
   "cell_type": "markdown",
   "id": "ef43c0d4",
   "metadata": {
    "papermill": {
     "duration": 0.00998,
     "end_time": "2024-03-02T12:05:30.093452",
     "exception": false,
     "start_time": "2024-03-02T12:05:30.083472",
     "status": "completed"
    },
    "tags": []
   },
   "source": [
    "## 3.2 Run gemma model directly\n",
    "Gemma models can generate sentences as follows,"
   ]
  },
  {
   "cell_type": "code",
   "execution_count": 4,
   "id": "93f64985",
   "metadata": {
    "execution": {
     "iopub.execute_input": "2024-03-02T12:05:30.115433Z",
     "iopub.status.busy": "2024-03-02T12:05:30.114724Z",
     "iopub.status.idle": "2024-03-02T12:05:41.993305Z",
     "shell.execute_reply": "2024-03-02T12:05:41.992236Z"
    },
    "papermill": {
     "duration": 11.891869,
     "end_time": "2024-03-02T12:05:41.995480",
     "exception": false,
     "start_time": "2024-03-02T12:05:30.103611",
     "status": "completed"
    },
    "tags": []
   },
   "outputs": [
    {
     "name": "stdout",
     "output_type": "stream",
     "text": [
      "hi, how are you doing?\n",
      "\n",
      "I'm doing well, thank you for asking! I'm always happy to hear from you. How about yourself? How are you doing today?\n",
      "CPU times: user 12.8 s, sys: 118 ms, total: 12.9 s\n",
      "Wall time: 11.9 s\n"
     ]
    }
   ],
   "source": [
    "%%time\n",
    "print(gemma_lm.generate(\"hi, how are you doing?\", max_length=256))"
   ]
  },
  {
   "cell_type": "markdown",
   "id": "4d3b3499",
   "metadata": {
    "papermill": {
     "duration": 0.010041,
     "end_time": "2024-03-02T12:05:42.016101",
     "exception": false,
     "start_time": "2024-03-02T12:05:42.006060",
     "status": "completed"
    },
    "tags": []
   },
   "source": [
    "## 3.3 Define the custom model for LangChain\n",
    "\n",
    "Since keras_nlp is not compatible with LangChain, we need to define a custom model.\n",
    "\n",
    "The details are described on the page below.<br>\n",
    "https://python.langchain.com/docs/modules/model_io/llms/custom_llm"
   ]
  },
  {
   "cell_type": "code",
   "execution_count": 5,
   "id": "5587f1af",
   "metadata": {
    "execution": {
     "iopub.execute_input": "2024-03-02T12:05:42.037729Z",
     "iopub.status.busy": "2024-03-02T12:05:42.037421Z",
     "iopub.status.idle": "2024-03-02T12:05:42.477740Z",
     "shell.execute_reply": "2024-03-02T12:05:42.476936Z"
    },
    "papermill": {
     "duration": 0.453735,
     "end_time": "2024-03-02T12:05:42.480092",
     "exception": false,
     "start_time": "2024-03-02T12:05:42.026357",
     "status": "completed"
    },
    "tags": []
   },
   "outputs": [],
   "source": [
    "from typing import Any, Optional, List, Mapping\n",
    "from langchain_core.callbacks.manager import CallbackManagerForLLMRun\n",
    "from langchain_core.language_models.llms import LLM\n",
    "\n",
    "class GemmaLC(LLM):\n",
    "\n",
    "    model: Any = None\n",
    "    n: int = None\n",
    "\n",
    "    def __init__(self, keras_model, n):\n",
    "        super(GemmaLC, self).__init__()\n",
    "        self.model = keras_model\n",
    "        self.n = n\n",
    "\n",
    "    @property\n",
    "    def _llm_type(self) -> str:\n",
    "        return \"Gemma\"\n",
    "\n",
    "    def _call(self, prompt: str, stop: Optional[List[str]] = None, **kwargs) -> str:\n",
    "\n",
    "        generated = self.model.generate(prompt, max_length=self.n)\n",
    "\n",
    "        # post-processing to extract the result of summarization\n",
    "        split_string = generated.split(\"SUMMARY:\", 1)\n",
    "        if len(split_string) > 1:            \n",
    "            return split_string[1].lstrip('\\n')\n",
    "        else:\n",
    "            return generated.lstrip('\\n')\n",
    "\n",
    "    @property\n",
    "    def _identifying_params(self) -> Mapping[str, Any]:\n",
    "        \"\"\"Get the identifying parameters.\"\"\"\n",
    "        return {\"n\": self.n}"
   ]
  },
  {
   "cell_type": "code",
   "execution_count": 6,
   "id": "3c6ce9a0",
   "metadata": {
    "execution": {
     "iopub.execute_input": "2024-03-02T12:05:42.502498Z",
     "iopub.status.busy": "2024-03-02T12:05:42.502148Z",
     "iopub.status.idle": "2024-03-02T12:05:42.512169Z",
     "shell.execute_reply": "2024-03-02T12:05:42.511492Z"
    },
    "papermill": {
     "duration": 0.023185,
     "end_time": "2024-03-02T12:05:42.513965",
     "exception": false,
     "start_time": "2024-03-02T12:05:42.490780",
     "status": "completed"
    },
    "tags": []
   },
   "outputs": [],
   "source": [
    "gemma_lc = GemmaLC(gemma_lm, 1024)"
   ]
  },
  {
   "cell_type": "markdown",
   "id": "5da2fb41",
   "metadata": {
    "papermill": {
     "duration": 0.009893,
     "end_time": "2024-03-02T12:05:42.534243",
     "exception": false,
     "start_time": "2024-03-02T12:05:42.524350",
     "status": "completed"
    },
    "tags": []
   },
   "source": [
    "# 4. Create a summarizer\n",
    "## 4.1 Prompt Engneering\n",
    "Since solution write-ups include many technical terms, similar to scientific papers, the default prompt tends to yield outputs like \"The paper introduces ...\".\n",
    "To address this, I've created the following prompt that processes summarization with the consideration that the document is a part of Kaggle write-up.\n",
    "\n",
    "In addition, we used a prompt which specifies the number of tokens to control the length of final summary."
   ]
  },
  {
   "cell_type": "code",
   "execution_count": 7,
   "id": "ff54ce77",
   "metadata": {
    "execution": {
     "iopub.execute_input": "2024-03-02T12:05:42.555624Z",
     "iopub.status.busy": "2024-03-02T12:05:42.555301Z",
     "iopub.status.idle": "2024-03-02T12:05:42.620627Z",
     "shell.execute_reply": "2024-03-02T12:05:42.619770Z"
    },
    "papermill": {
     "duration": 0.078069,
     "end_time": "2024-03-02T12:05:42.622560",
     "exception": false,
     "start_time": "2024-03-02T12:05:42.544491",
     "status": "completed"
    },
    "tags": []
   },
   "outputs": [],
   "source": [
    "from langchain_core.prompts import PromptTemplate\n",
    "\n",
    "map_prompt_template = \"\"\"Write a concise summary of the following kaggle solution writeup:\n",
    "\n",
    "\n",
    "\"{text}\"\n",
    "\n",
    "\n",
    "CONCISE SUMMARY:\"\"\"\n",
    "MAP_PROMPT = PromptTemplate(template=map_prompt_template, input_variables=[\"text\"])\n",
    "\n",
    "combine_prompt_template = \"\"\"Write a 300 letters summary of the following kaggle solution writeup:\n",
    "\n",
    "\n",
    "\"{text}\"\n",
    "\n",
    "\n",
    "300 LETTERS SUMMARY:\"\"\"\n",
    "COMBINE_PROMPT = PromptTemplate(template=combine_prompt_template, input_variables=[\"text\"])"
   ]
  },
  {
   "cell_type": "markdown",
   "id": "b8072771",
   "metadata": {
    "papermill": {
     "duration": 0.009917,
     "end_time": "2024-03-02T12:05:42.642610",
     "exception": false,
     "start_time": "2024-03-02T12:05:42.632693",
     "status": "completed"
    },
    "tags": []
   },
   "source": [
    "## 4.2 summarization chain\n",
    "To summarize documents using LangChain, a summarization chain needs to be defined.\n",
    "\n",
    "The details are described on the following page:<br>\n",
    "https://python.langchain.com/docs/use_cases/summarization\n",
    "\n",
    "Make sure that the maximum token length for gemma_2b is 1024."
   ]
  },
  {
   "cell_type": "code",
   "execution_count": 8,
   "id": "795bef57",
   "metadata": {
    "execution": {
     "iopub.execute_input": "2024-03-02T12:05:42.663832Z",
     "iopub.status.busy": "2024-03-02T12:05:42.663548Z",
     "iopub.status.idle": "2024-03-02T12:05:44.678601Z",
     "shell.execute_reply": "2024-03-02T12:05:44.677821Z"
    },
    "papermill": {
     "duration": 2.028048,
     "end_time": "2024-03-02T12:05:44.680773",
     "exception": false,
     "start_time": "2024-03-02T12:05:42.652725",
     "status": "completed"
    },
    "tags": []
   },
   "outputs": [],
   "source": [
    "from langchain.chains.summarize import load_summarize_chain\n",
    "\n",
    "chain = load_summarize_chain(\n",
    "    gemma_lc, chain_type=\"map_reduce\",\n",
    "    map_prompt=MAP_PROMPT,\n",
    "    combine_prompt=COMBINE_PROMPT,\n",
    "    token_max=1024\n",
    ")"
   ]
  },
  {
   "cell_type": "code",
   "execution_count": 9,
   "id": "afcc9d81",
   "metadata": {
    "execution": {
     "iopub.execute_input": "2024-03-02T12:05:44.703291Z",
     "iopub.status.busy": "2024-03-02T12:05:44.702781Z",
     "iopub.status.idle": "2024-03-02T12:05:44.718943Z",
     "shell.execute_reply": "2024-03-02T12:05:44.718004Z"
    },
    "papermill": {
     "duration": 0.02948,
     "end_time": "2024-03-02T12:05:44.720883",
     "exception": false,
     "start_time": "2024-03-02T12:05:44.691403",
     "status": "completed"
    },
    "tags": []
   },
   "outputs": [],
   "source": [
    "from langchain import OpenAI, PromptTemplate, LLMChain\n",
    "from langchain.chains.mapreduce import MapReduceChain\n",
    "from langchain.prompts import PromptTemplate\n",
    "from langchain.text_splitter import RecursiveCharacterTextSplitter\n",
    "from langchain.docstore.document import Document\n",
    "\n",
    "\n",
    "def summarize(text):\n",
    "    text_splitter = RecursiveCharacterTextSplitter(chunk_size = 1000, chunk_overlap=50)\n",
    "    texts = text_splitter.split_text(text)\n",
    "    paged_docs = [Document(page_content=t) for t in texts]\n",
    "    return chain.invoke(paged_docs)[\"output_text\"]"
   ]
  },
  {
   "cell_type": "markdown",
   "id": "fab6308e",
   "metadata": {
    "papermill": {
     "duration": 0.01007,
     "end_time": "2024-03-02T12:05:44.741990",
     "exception": false,
     "start_time": "2024-03-02T12:05:44.731920",
     "status": "completed"
    },
    "tags": []
   },
   "source": [
    "# 5. Prepare solution write-ups\n",
    "\n",
    "I'm following [Darek's way](https://www.kaggle.com/datasets/thedrcat/kaggle-winning-solutions-methods/) to prepare solution write-ups, which scrapes the list of solutions from [Kaggle Solutions](https://farid.one/kaggle-solutions/) and merges with kaggle-ai-report.\n",
    "\n",
    "I found some areas for improvement to gather more solutions, so I made a few modifications as shown below.\n",
    "\n",
    "## 5.1 Scraping\n",
    "\n",
    "There's already a wealth of information collected on the amazing [Kaggle Solutions](https://farid.one/kaggle-solutions/) website, so let's start there - we'll scrape all the top solution description links along with the competition data. "
   ]
  },
  {
   "cell_type": "code",
   "execution_count": 10,
   "id": "bec5bda2",
   "metadata": {
    "_kg_hide-output": true,
    "execution": {
     "iopub.execute_input": "2024-03-02T12:05:44.764200Z",
     "iopub.status.busy": "2024-03-02T12:05:44.763708Z",
     "iopub.status.idle": "2024-03-02T12:05:47.442779Z",
     "shell.execute_reply": "2024-03-02T12:05:47.441701Z"
    },
    "papermill": {
     "duration": 2.692371,
     "end_time": "2024-03-02T12:05:47.444814",
     "exception": false,
     "start_time": "2024-03-02T12:05:44.752443",
     "status": "completed"
    },
    "tags": []
   },
   "outputs": [
    {
     "name": "stdout",
     "output_type": "stream",
     "text": [
      "3101\n"
     ]
    }
   ],
   "source": [
    "from bs4 import BeautifulSoup\n",
    "import requests\n",
    "\n",
    "url = \"https://farid.one/kaggle-solutions/\"\n",
    "\n",
    "response = requests.get(url)\n",
    "html = response.text\n",
    "\n",
    "soup = BeautifulSoup(html, 'html.parser')\n",
    "\n",
    "links = []\n",
    "for li_tag in soup.find_all('li', class_='secondary'):\n",
    "    link = li_tag.find('a')\n",
    "    if link is None:\n",
    "        continue\n",
    "\n",
    "    if 'discussion' in link['href']:\n",
    "        medal_img = li_tag.find('img')\n",
    "        if medal_img is None:\n",
    "            continue\n",
    "        if medal_img.next_sibling is not None:\n",
    "            # case:1 <img />\n",
    "            place = medal_img.next_sibling.strip().split(' ')[0]\n",
    "        else:\n",
    "            # case:2 <img></img>\n",
    "            place = list(li_tag.find('img').children)[0].strip().split(' ')[0]\n",
    "\n",
    "        competition_name = li_tag.find_previous('b').text.split('. ')[-1].strip()\n",
    "\n",
    "        info_tuple = (link['href'], int(place[:-2]), place, competition_name)\n",
    "        links.append(info_tuple)\n",
    "\n",
    "print(len(links))"
   ]
  },
  {
   "cell_type": "code",
   "execution_count": 11,
   "id": "3ededd6e",
   "metadata": {
    "execution": {
     "iopub.execute_input": "2024-03-02T12:05:47.467807Z",
     "iopub.status.busy": "2024-03-02T12:05:47.467230Z",
     "iopub.status.idle": "2024-03-02T12:05:47.489422Z",
     "shell.execute_reply": "2024-03-02T12:05:47.488526Z"
    },
    "papermill": {
     "duration": 0.035839,
     "end_time": "2024-03-02T12:05:47.491521",
     "exception": false,
     "start_time": "2024-03-02T12:05:47.455682",
     "status": "completed"
    },
    "tags": []
   },
   "outputs": [
    {
     "data": {
      "text/html": [
       "<div>\n",
       "<style scoped>\n",
       "    .dataframe tbody tr th:only-of-type {\n",
       "        vertical-align: middle;\n",
       "    }\n",
       "\n",
       "    .dataframe tbody tr th {\n",
       "        vertical-align: top;\n",
       "    }\n",
       "\n",
       "    .dataframe thead th {\n",
       "        text-align: right;\n",
       "    }\n",
       "</style>\n",
       "<table border=\"1\" class=\"dataframe\">\n",
       "  <thead>\n",
       "    <tr style=\"text-align: right;\">\n",
       "      <th></th>\n",
       "      <th>link</th>\n",
       "      <th>place</th>\n",
       "      <th>place_order</th>\n",
       "      <th>competition_name</th>\n",
       "    </tr>\n",
       "  </thead>\n",
       "  <tbody>\n",
       "    <tr>\n",
       "      <th>0</th>\n",
       "      <td>https://www.kaggle.com/c/playground-series-s4e...</td>\n",
       "      <td>2</td>\n",
       "      <td>2nd</td>\n",
       "      <td>Playground Series - Season 4, Episode 1</td>\n",
       "    </tr>\n",
       "    <tr>\n",
       "      <th>1</th>\n",
       "      <td>https://www.kaggle.com/c/playground-series-s4e...</td>\n",
       "      <td>3</td>\n",
       "      <td>3rd</td>\n",
       "      <td>Playground Series - Season 4, Episode 1</td>\n",
       "    </tr>\n",
       "    <tr>\n",
       "      <th>2</th>\n",
       "      <td>https://www.kaggle.com/c/playground-series-s4e...</td>\n",
       "      <td>17</td>\n",
       "      <td>17th</td>\n",
       "      <td>Playground Series - Season 4, Episode 1</td>\n",
       "    </tr>\n",
       "    <tr>\n",
       "      <th>3</th>\n",
       "      <td>https://www.kaggle.com/c/santa-2023/discussion...</td>\n",
       "      <td>1</td>\n",
       "      <td>1st</td>\n",
       "      <td>Santa 2023 - The Polytope Permutation Puzzle</td>\n",
       "    </tr>\n",
       "    <tr>\n",
       "      <th>4</th>\n",
       "      <td>https://www.kaggle.com/c/santa-2023/discussion...</td>\n",
       "      <td>12</td>\n",
       "      <td>12th</td>\n",
       "      <td>Santa 2023 - The Polytope Permutation Puzzle</td>\n",
       "    </tr>\n",
       "  </tbody>\n",
       "</table>\n",
       "</div>"
      ],
      "text/plain": [
       "                                                link  place place_order  \\\n",
       "0  https://www.kaggle.com/c/playground-series-s4e...      2         2nd   \n",
       "1  https://www.kaggle.com/c/playground-series-s4e...      3         3rd   \n",
       "2  https://www.kaggle.com/c/playground-series-s4e...     17        17th   \n",
       "3  https://www.kaggle.com/c/santa-2023/discussion...      1         1st   \n",
       "4  https://www.kaggle.com/c/santa-2023/discussion...     12        12th   \n",
       "\n",
       "                               competition_name  \n",
       "0       Playground Series - Season 4, Episode 1  \n",
       "1       Playground Series - Season 4, Episode 1  \n",
       "2       Playground Series - Season 4, Episode 1  \n",
       "3  Santa 2023 - The Polytope Permutation Puzzle  \n",
       "4  Santa 2023 - The Polytope Permutation Puzzle  "
      ]
     },
     "execution_count": 11,
     "metadata": {},
     "output_type": "execute_result"
    }
   ],
   "source": [
    "import pandas as pd\n",
    "scraped = pd.DataFrame(data=links, columns=['link', 'place', 'place_order', 'competition_name'])\n",
    "scraped.head()"
   ]
  },
  {
   "cell_type": "markdown",
   "id": "7e2ca077",
   "metadata": {
    "papermill": {
     "duration": 0.01021,
     "end_time": "2024-03-02T12:05:47.512902",
     "exception": false,
     "start_time": "2024-03-02T12:05:47.502692",
     "status": "completed"
    },
    "tags": []
   },
   "source": [
    "## 5.2 Combining with Kaggle Writeups\n",
    "\n",
    "Kaggle doesn't like scraping discussion posts, but fortunately they provided us a bunch of writeups in the competition data. Let's merge it with the scraped data. "
   ]
  },
  {
   "cell_type": "code",
   "execution_count": 12,
   "id": "b5c30b6b",
   "metadata": {
    "execution": {
     "iopub.execute_input": "2024-03-02T12:05:47.535192Z",
     "iopub.status.busy": "2024-03-02T12:05:47.534921Z",
     "iopub.status.idle": "2024-03-02T12:05:47.962865Z",
     "shell.execute_reply": "2024-03-02T12:05:47.961914Z"
    },
    "papermill": {
     "duration": 0.441445,
     "end_time": "2024-03-02T12:05:47.965017",
     "exception": false,
     "start_time": "2024-03-02T12:05:47.523572",
     "status": "completed"
    },
    "tags": []
   },
   "outputs": [
    {
     "data": {
      "text/html": [
       "<div>\n",
       "<style scoped>\n",
       "    .dataframe tbody tr th:only-of-type {\n",
       "        vertical-align: middle;\n",
       "    }\n",
       "\n",
       "    .dataframe tbody tr th {\n",
       "        vertical-align: top;\n",
       "    }\n",
       "\n",
       "    .dataframe thead th {\n",
       "        text-align: right;\n",
       "    }\n",
       "</style>\n",
       "<table border=\"1\" class=\"dataframe\">\n",
       "  <thead>\n",
       "    <tr style=\"text-align: right;\">\n",
       "      <th></th>\n",
       "      <th>link</th>\n",
       "      <th>place</th>\n",
       "      <th>place_order</th>\n",
       "      <th>competition_name</th>\n",
       "      <th>nm</th>\n",
       "      <th>writeup</th>\n",
       "    </tr>\n",
       "  </thead>\n",
       "  <tbody>\n",
       "    <tr>\n",
       "      <th>458</th>\n",
       "      <td>https://www.kaggle.com/c/asl-signs/discussion/...</td>\n",
       "      <td>1</td>\n",
       "      <td>1st</td>\n",
       "      <td>Google - Isolated Sign Language Recognition</td>\n",
       "      <td>406684</td>\n",
       "      <td>&lt;p&gt;First of all, I would like to express my gr...</td>\n",
       "    </tr>\n",
       "    <tr>\n",
       "      <th>459</th>\n",
       "      <td>https://www.kaggle.com/c/asl-signs/discussion/...</td>\n",
       "      <td>2</td>\n",
       "      <td>2nd</td>\n",
       "      <td>Google - Isolated Sign Language Recognition</td>\n",
       "      <td>406306</td>\n",
       "      <td>&lt;h2&gt;TLDR&lt;/h2&gt;\\n&lt;p&gt;We used an approach similar ...</td>\n",
       "    </tr>\n",
       "    <tr>\n",
       "      <th>460</th>\n",
       "      <td>https://www.kaggle.com/c/asl-signs/discussion/...</td>\n",
       "      <td>3</td>\n",
       "      <td>3rd</td>\n",
       "      <td>Google - Isolated Sign Language Recognition</td>\n",
       "      <td>406568</td>\n",
       "      <td>&lt;p&gt;We used an &lt;strong&gt;ensemble of six conv1d m...</td>\n",
       "    </tr>\n",
       "    <tr>\n",
       "      <th>461</th>\n",
       "      <td>https://www.kaggle.com/c/asl-signs/discussion/...</td>\n",
       "      <td>4</td>\n",
       "      <td>4th</td>\n",
       "      <td>Google - Isolated Sign Language Recognition</td>\n",
       "      <td>406673</td>\n",
       "      <td>&lt;p&gt;I would like to thank the organizers and al...</td>\n",
       "    </tr>\n",
       "    <tr>\n",
       "      <th>462</th>\n",
       "      <td>https://www.kaggle.com/c/asl-signs/discussion/...</td>\n",
       "      <td>5</td>\n",
       "      <td>5th</td>\n",
       "      <td>Google - Isolated Sign Language Recognition</td>\n",
       "      <td>406491</td>\n",
       "      <td>&lt;p&gt;Here is a quick overview of the 5th-place s...</td>\n",
       "    </tr>\n",
       "  </tbody>\n",
       "</table>\n",
       "</div>"
      ],
      "text/plain": [
       "                                                  link  place place_order  \\\n",
       "458  https://www.kaggle.com/c/asl-signs/discussion/...      1         1st   \n",
       "459  https://www.kaggle.com/c/asl-signs/discussion/...      2         2nd   \n",
       "460  https://www.kaggle.com/c/asl-signs/discussion/...      3         3rd   \n",
       "461  https://www.kaggle.com/c/asl-signs/discussion/...      4         4th   \n",
       "462  https://www.kaggle.com/c/asl-signs/discussion/...      5         5th   \n",
       "\n",
       "                                competition_name      nm  \\\n",
       "458  Google - Isolated Sign Language Recognition  406684   \n",
       "459  Google - Isolated Sign Language Recognition  406306   \n",
       "460  Google - Isolated Sign Language Recognition  406568   \n",
       "461  Google - Isolated Sign Language Recognition  406673   \n",
       "462  Google - Isolated Sign Language Recognition  406491   \n",
       "\n",
       "                                               writeup  \n",
       "458  <p>First of all, I would like to express my gr...  \n",
       "459  <h2>TLDR</h2>\\n<p>We used an approach similar ...  \n",
       "460  <p>We used an <strong>ensemble of six conv1d m...  \n",
       "461  <p>I would like to thank the organizers and al...  \n",
       "462  <p>Here is a quick overview of the 5th-place s...  "
      ]
     },
     "execution_count": 12,
     "metadata": {},
     "output_type": "execute_result"
    }
   ],
   "source": [
    "import numpy as np\n",
    "import pandas as pd\n",
    "\n",
    "df = pd.read_csv('../input/2023-kaggle-ai-report/kaggle_writeups_20230510.csv')\n",
    "\n",
    "scraped['nm'] = scraped.link.apply(lambda x: x.split('/')[-1])\n",
    "df['nm'] = df['Writeup URL'].apply(lambda x: x.split('/')[-1])\n",
    "writeup_mapping = dict(zip(df.nm, df['Writeup']))\n",
    "scraped['writeup'] = scraped.nm.apply(lambda x: writeup_mapping[x] if x in writeup_mapping else np.nan)\n",
    "\n",
    "writeups = scraped.dropna()\n",
    "writeups.head()"
   ]
  },
  {
   "cell_type": "markdown",
   "id": "41238b38",
   "metadata": {
    "papermill": {
     "duration": 0.010444,
     "end_time": "2024-03-02T12:05:47.986648",
     "exception": false,
     "start_time": "2024-03-02T12:05:47.976204",
     "status": "completed"
    },
    "tags": []
   },
   "source": [
    "## 5.3 Combining with Meta Kaggle\n",
    "To add the data of teams and private/public scores, use meta-kaggle and merge with the writeup data."
   ]
  },
  {
   "cell_type": "code",
   "execution_count": 13,
   "id": "5d99eddd",
   "metadata": {
    "_kg_hide-output": true,
    "execution": {
     "iopub.execute_input": "2024-03-02T12:05:48.009339Z",
     "iopub.status.busy": "2024-03-02T12:05:48.009026Z",
     "iopub.status.idle": "2024-03-02T12:06:09.737648Z",
     "shell.execute_reply": "2024-03-02T12:06:09.736622Z"
    },
    "papermill": {
     "duration": 21.742534,
     "end_time": "2024-03-02T12:06:09.740064",
     "exception": false,
     "start_time": "2024-03-02T12:05:47.997530",
     "status": "completed"
    },
    "tags": []
   },
   "outputs": [
    {
     "data": {
      "text/html": [
       "<div>\n",
       "<style scoped>\n",
       "    .dataframe tbody tr th:only-of-type {\n",
       "        vertical-align: middle;\n",
       "    }\n",
       "\n",
       "    .dataframe tbody tr th {\n",
       "        vertical-align: top;\n",
       "    }\n",
       "\n",
       "    .dataframe thead th {\n",
       "        text-align: right;\n",
       "    }\n",
       "</style>\n",
       "<table border=\"1\" class=\"dataframe\">\n",
       "  <thead>\n",
       "    <tr style=\"text-align: right;\">\n",
       "      <th></th>\n",
       "      <th>Id</th>\n",
       "      <th>CompetitionId</th>\n",
       "      <th>TeamName</th>\n",
       "      <th>TeamLeaderId</th>\n",
       "      <th>PrivateLeaderboardSubmissionId</th>\n",
       "      <th>PrivateLeaderboardRank</th>\n",
       "    </tr>\n",
       "  </thead>\n",
       "  <tbody>\n",
       "    <tr>\n",
       "      <th>0</th>\n",
       "      <td>496</td>\n",
       "      <td>2435</td>\n",
       "      <td>team1</td>\n",
       "      <td>647</td>\n",
       "      <td>2192</td>\n",
       "      <td>83</td>\n",
       "    </tr>\n",
       "    <tr>\n",
       "      <th>1</th>\n",
       "      <td>497</td>\n",
       "      <td>2435</td>\n",
       "      <td>jonp</td>\n",
       "      <td>619</td>\n",
       "      <td>2182</td>\n",
       "      <td>25</td>\n",
       "    </tr>\n",
       "    <tr>\n",
       "      <th>2</th>\n",
       "      <td>499</td>\n",
       "      <td>2435</td>\n",
       "      <td>Bwaas</td>\n",
       "      <td>663</td>\n",
       "      <td>2184</td>\n",
       "      <td>100</td>\n",
       "    </tr>\n",
       "    <tr>\n",
       "      <th>3</th>\n",
       "      <td>500</td>\n",
       "      <td>2435</td>\n",
       "      <td>Thylacoleo</td>\n",
       "      <td>673</td>\n",
       "      <td>2187</td>\n",
       "      <td>23</td>\n",
       "    </tr>\n",
       "    <tr>\n",
       "      <th>4</th>\n",
       "      <td>501</td>\n",
       "      <td>2435</td>\n",
       "      <td>pjonesdotcda</td>\n",
       "      <td>435</td>\n",
       "      <td>2191</td>\n",
       "      <td>80</td>\n",
       "    </tr>\n",
       "  </tbody>\n",
       "</table>\n",
       "</div>"
      ],
      "text/plain": [
       "    Id  CompetitionId      TeamName  TeamLeaderId  \\\n",
       "0  496           2435         team1           647   \n",
       "1  497           2435          jonp           619   \n",
       "2  499           2435         Bwaas           663   \n",
       "3  500           2435    Thylacoleo           673   \n",
       "4  501           2435  pjonesdotcda           435   \n",
       "\n",
       "   PrivateLeaderboardSubmissionId  PrivateLeaderboardRank  \n",
       "0                            2192                      83  \n",
       "1                            2182                      25  \n",
       "2                            2184                     100  \n",
       "3                            2187                      23  \n",
       "4                            2191                      80  "
      ]
     },
     "execution_count": 13,
     "metadata": {},
     "output_type": "execute_result"
    }
   ],
   "source": [
    "teams = pd.read_csv('../input/meta-kaggle/Teams.csv')\n",
    "teams = teams.dropna(axis=0, subset=['PrivateLeaderboardRank'])\n",
    "int_columns = ['TeamLeaderId', 'PrivateLeaderboardSubmissionId', 'PrivateLeaderboardRank']\n",
    "teams[int_columns] = teams[int_columns].astype(int)\n",
    "teams = teams.loc[:, ['Id', 'CompetitionId', 'TeamName'] + int_columns]\n",
    "teams.head()"
   ]
  },
  {
   "cell_type": "code",
   "execution_count": 14,
   "id": "f745e6e1",
   "metadata": {
    "_kg_hide-output": true,
    "execution": {
     "iopub.execute_input": "2024-03-02T12:06:09.764154Z",
     "iopub.status.busy": "2024-03-02T12:06:09.763840Z",
     "iopub.status.idle": "2024-03-02T12:06:48.918182Z",
     "shell.execute_reply": "2024-03-02T12:06:48.917045Z"
    },
    "papermill": {
     "duration": 39.179843,
     "end_time": "2024-03-02T12:06:48.931550",
     "exception": false,
     "start_time": "2024-03-02T12:06:09.751707",
     "status": "completed"
    },
    "tags": []
   },
   "outputs": [
    {
     "data": {
      "text/html": [
       "<div>\n",
       "<style scoped>\n",
       "    .dataframe tbody tr th:only-of-type {\n",
       "        vertical-align: middle;\n",
       "    }\n",
       "\n",
       "    .dataframe tbody tr th {\n",
       "        vertical-align: top;\n",
       "    }\n",
       "\n",
       "    .dataframe thead th {\n",
       "        text-align: right;\n",
       "    }\n",
       "</style>\n",
       "<table border=\"1\" class=\"dataframe\">\n",
       "  <thead>\n",
       "    <tr style=\"text-align: right;\">\n",
       "      <th></th>\n",
       "      <th>UserId</th>\n",
       "      <th>UserName</th>\n",
       "      <th>DisplayName</th>\n",
       "    </tr>\n",
       "  </thead>\n",
       "  <tbody>\n",
       "    <tr>\n",
       "      <th>0</th>\n",
       "      <td>1</td>\n",
       "      <td>kaggleteam</td>\n",
       "      <td>Kaggle Team</td>\n",
       "    </tr>\n",
       "    <tr>\n",
       "      <th>1</th>\n",
       "      <td>368</td>\n",
       "      <td>antgoldbloom</td>\n",
       "      <td>Anthony Goldbloom</td>\n",
       "    </tr>\n",
       "    <tr>\n",
       "      <th>2</th>\n",
       "      <td>381</td>\n",
       "      <td>iguyon</td>\n",
       "      <td>Isabelle</td>\n",
       "    </tr>\n",
       "    <tr>\n",
       "      <th>3</th>\n",
       "      <td>383</td>\n",
       "      <td>davidstephan</td>\n",
       "      <td>David Stephan</td>\n",
       "    </tr>\n",
       "    <tr>\n",
       "      <th>4</th>\n",
       "      <td>384</td>\n",
       "      <td>gabewarren</td>\n",
       "      <td>Gabe Warren</td>\n",
       "    </tr>\n",
       "  </tbody>\n",
       "</table>\n",
       "</div>"
      ],
      "text/plain": [
       "   UserId      UserName        DisplayName\n",
       "0       1    kaggleteam        Kaggle Team\n",
       "1     368  antgoldbloom  Anthony Goldbloom\n",
       "2     381        iguyon           Isabelle\n",
       "3     383  davidstephan      David Stephan\n",
       "4     384    gabewarren        Gabe Warren"
      ]
     },
     "execution_count": 14,
     "metadata": {},
     "output_type": "execute_result"
    }
   ],
   "source": [
    "users = pd.read_csv('../input/meta-kaggle/Users.csv')\n",
    "users = users.loc[:, ['Id', 'UserName', 'DisplayName']]\n",
    "users.columns = ['UserId', 'UserName', 'DisplayName']\n",
    "users.head()"
   ]
  },
  {
   "cell_type": "code",
   "execution_count": 15,
   "id": "0b242bfa",
   "metadata": {
    "_kg_hide-output": true,
    "execution": {
     "iopub.execute_input": "2024-03-02T12:06:48.955472Z",
     "iopub.status.busy": "2024-03-02T12:06:48.954730Z",
     "iopub.status.idle": "2024-03-02T12:06:49.076951Z",
     "shell.execute_reply": "2024-03-02T12:06:49.076033Z"
    },
    "papermill": {
     "duration": 0.136387,
     "end_time": "2024-03-02T12:06:49.079072",
     "exception": false,
     "start_time": "2024-03-02T12:06:48.942685",
     "status": "completed"
    },
    "tags": []
   },
   "outputs": [
    {
     "data": {
      "text/html": [
       "<div>\n",
       "<style scoped>\n",
       "    .dataframe tbody tr th:only-of-type {\n",
       "        vertical-align: middle;\n",
       "    }\n",
       "\n",
       "    .dataframe tbody tr th {\n",
       "        vertical-align: top;\n",
       "    }\n",
       "\n",
       "    .dataframe thead th {\n",
       "        text-align: right;\n",
       "    }\n",
       "</style>\n",
       "<table border=\"1\" class=\"dataframe\">\n",
       "  <thead>\n",
       "    <tr style=\"text-align: right;\">\n",
       "      <th></th>\n",
       "      <th>CompetitionId</th>\n",
       "      <th>competition_name</th>\n",
       "    </tr>\n",
       "  </thead>\n",
       "  <tbody>\n",
       "    <tr>\n",
       "      <th>0</th>\n",
       "      <td>2408</td>\n",
       "      <td>Forecast Eurovision Voting</td>\n",
       "    </tr>\n",
       "    <tr>\n",
       "      <th>1</th>\n",
       "      <td>2435</td>\n",
       "      <td>Predict HIV Progression</td>\n",
       "    </tr>\n",
       "    <tr>\n",
       "      <th>2</th>\n",
       "      <td>2438</td>\n",
       "      <td>World Cup 2010 - Take on the Quants</td>\n",
       "    </tr>\n",
       "    <tr>\n",
       "      <th>3</th>\n",
       "      <td>2439</td>\n",
       "      <td>INFORMS Data Mining Contest 2010</td>\n",
       "    </tr>\n",
       "    <tr>\n",
       "      <th>4</th>\n",
       "      <td>2442</td>\n",
       "      <td>World Cup 2010 - Confidence Challenge</td>\n",
       "    </tr>\n",
       "  </tbody>\n",
       "</table>\n",
       "</div>"
      ],
      "text/plain": [
       "   CompetitionId                       competition_name\n",
       "0           2408             Forecast Eurovision Voting\n",
       "1           2435                Predict HIV Progression\n",
       "2           2438    World Cup 2010 - Take on the Quants\n",
       "3           2439       INFORMS Data Mining Contest 2010\n",
       "4           2442  World Cup 2010 - Confidence Challenge"
      ]
     },
     "execution_count": 15,
     "metadata": {},
     "output_type": "execute_result"
    }
   ],
   "source": [
    "competitions = pd.read_csv('../input/meta-kaggle/Competitions.csv')\n",
    "competitions = competitions[['Id', 'Title']]\n",
    "competitions.columns = ['CompetitionId', 'competition_name']\n",
    "competitions.head()"
   ]
  },
  {
   "cell_type": "code",
   "execution_count": 16,
   "id": "23ae1f38",
   "metadata": {
    "_kg_hide-output": true,
    "execution": {
     "iopub.execute_input": "2024-03-02T12:06:49.103378Z",
     "iopub.status.busy": "2024-03-02T12:06:49.103077Z",
     "iopub.status.idle": "2024-03-02T12:07:29.650554Z",
     "shell.execute_reply": "2024-03-02T12:07:29.649612Z"
    },
    "papermill": {
     "duration": 40.574417,
     "end_time": "2024-03-02T12:07:29.665125",
     "exception": false,
     "start_time": "2024-03-02T12:06:49.090708",
     "status": "completed"
    },
    "tags": []
   },
   "outputs": [
    {
     "data": {
      "text/html": [
       "<div>\n",
       "<style scoped>\n",
       "    .dataframe tbody tr th:only-of-type {\n",
       "        vertical-align: middle;\n",
       "    }\n",
       "\n",
       "    .dataframe tbody tr th {\n",
       "        vertical-align: top;\n",
       "    }\n",
       "\n",
       "    .dataframe thead th {\n",
       "        text-align: right;\n",
       "    }\n",
       "</style>\n",
       "<table border=\"1\" class=\"dataframe\">\n",
       "  <thead>\n",
       "    <tr style=\"text-align: right;\">\n",
       "      <th></th>\n",
       "      <th>PrivateLeaderboardSubmissionId</th>\n",
       "      <th>PublicScoreLeaderboardDisplay</th>\n",
       "      <th>PrivateScoreLeaderboardDisplay</th>\n",
       "    </tr>\n",
       "  </thead>\n",
       "  <tbody>\n",
       "    <tr>\n",
       "      <th>0</th>\n",
       "      <td>269177</td>\n",
       "      <td>0.78117</td>\n",
       "      <td>0.76231</td>\n",
       "    </tr>\n",
       "    <tr>\n",
       "      <th>1</th>\n",
       "      <td>270257</td>\n",
       "      <td>0.84569</td>\n",
       "      <td>0.84469</td>\n",
       "    </tr>\n",
       "    <tr>\n",
       "      <th>2</th>\n",
       "      <td>271144</td>\n",
       "      <td>0.90246</td>\n",
       "      <td>0.91024</td>\n",
       "    </tr>\n",
       "    <tr>\n",
       "      <th>3</th>\n",
       "      <td>269508</td>\n",
       "      <td>0.90101</td>\n",
       "      <td>0.88353</td>\n",
       "    </tr>\n",
       "    <tr>\n",
       "      <th>4</th>\n",
       "      <td>269504</td>\n",
       "      <td>0.89230</td>\n",
       "      <td>0.87690</td>\n",
       "    </tr>\n",
       "  </tbody>\n",
       "</table>\n",
       "</div>"
      ],
      "text/plain": [
       "   PrivateLeaderboardSubmissionId  PublicScoreLeaderboardDisplay  \\\n",
       "0                          269177                        0.78117   \n",
       "1                          270257                        0.84569   \n",
       "2                          271144                        0.90246   \n",
       "3                          269508                        0.90101   \n",
       "4                          269504                        0.89230   \n",
       "\n",
       "   PrivateScoreLeaderboardDisplay  \n",
       "0                         0.76231  \n",
       "1                         0.84469  \n",
       "2                         0.91024  \n",
       "3                         0.88353  \n",
       "4                         0.87690  "
      ]
     },
     "execution_count": 16,
     "metadata": {},
     "output_type": "execute_result"
    }
   ],
   "source": [
    "submissions = pd.read_csv('../input/meta-kaggle/Submissions.csv')\n",
    "submissions = submissions[['Id', 'PublicScoreLeaderboardDisplay', 'PrivateScoreLeaderboardDisplay']]\n",
    "submissions.columns = ['PrivateLeaderboardSubmissionId', 'PublicScoreLeaderboardDisplay', 'PrivateScoreLeaderboardDisplay']\n",
    "submissions.head()"
   ]
  },
  {
   "cell_type": "markdown",
   "id": "51c698cf",
   "metadata": {
    "papermill": {
     "duration": 0.011458,
     "end_time": "2024-03-02T12:07:29.688199",
     "exception": false,
     "start_time": "2024-03-02T12:07:29.676741",
     "status": "completed"
    },
    "tags": []
   },
   "source": [
    "Loaded datasets are merged for each teams."
   ]
  },
  {
   "cell_type": "code",
   "execution_count": 17,
   "id": "b4fe0c60",
   "metadata": {
    "_kg_hide-output": true,
    "execution": {
     "iopub.execute_input": "2024-03-02T12:07:29.712355Z",
     "iopub.status.busy": "2024-03-02T12:07:29.712043Z",
     "iopub.status.idle": "2024-03-02T12:07:36.603578Z",
     "shell.execute_reply": "2024-03-02T12:07:36.602689Z"
    },
    "papermill": {
     "duration": 6.906241,
     "end_time": "2024-03-02T12:07:36.605895",
     "exception": false,
     "start_time": "2024-03-02T12:07:29.699654",
     "status": "completed"
    },
    "tags": []
   },
   "outputs": [
    {
     "data": {
      "text/html": [
       "<div>\n",
       "<style scoped>\n",
       "    .dataframe tbody tr th:only-of-type {\n",
       "        vertical-align: middle;\n",
       "    }\n",
       "\n",
       "    .dataframe tbody tr th {\n",
       "        vertical-align: top;\n",
       "    }\n",
       "\n",
       "    .dataframe thead th {\n",
       "        text-align: right;\n",
       "    }\n",
       "</style>\n",
       "<table border=\"1\" class=\"dataframe\">\n",
       "  <thead>\n",
       "    <tr style=\"text-align: right;\">\n",
       "      <th></th>\n",
       "      <th>Id</th>\n",
       "      <th>CompetitionId</th>\n",
       "      <th>TeamName</th>\n",
       "      <th>TeamLeaderId</th>\n",
       "      <th>PrivateLeaderboardSubmissionId</th>\n",
       "      <th>PrivateLeaderboardRank</th>\n",
       "      <th>competition_name</th>\n",
       "      <th>UserId</th>\n",
       "      <th>UserName</th>\n",
       "      <th>DisplayName</th>\n",
       "      <th>PublicScoreLeaderboardDisplay</th>\n",
       "      <th>PrivateScoreLeaderboardDisplay</th>\n",
       "    </tr>\n",
       "  </thead>\n",
       "  <tbody>\n",
       "    <tr>\n",
       "      <th>0</th>\n",
       "      <td>496</td>\n",
       "      <td>2435</td>\n",
       "      <td>team1</td>\n",
       "      <td>647</td>\n",
       "      <td>2192</td>\n",
       "      <td>83</td>\n",
       "      <td>Predict HIV Progression</td>\n",
       "      <td>647.0</td>\n",
       "      <td>bradpennington</td>\n",
       "      <td>Brad Pennington</td>\n",
       "      <td>57.21149</td>\n",
       "      <td>56.35839</td>\n",
       "    </tr>\n",
       "    <tr>\n",
       "      <th>1</th>\n",
       "      <td>497</td>\n",
       "      <td>2435</td>\n",
       "      <td>jonp</td>\n",
       "      <td>619</td>\n",
       "      <td>2182</td>\n",
       "      <td>25</td>\n",
       "      <td>Predict HIV Progression</td>\n",
       "      <td>NaN</td>\n",
       "      <td>NaN</td>\n",
       "      <td>NaN</td>\n",
       "      <td>61.05770</td>\n",
       "      <td>65.60690</td>\n",
       "    </tr>\n",
       "    <tr>\n",
       "      <th>2</th>\n",
       "      <td>499</td>\n",
       "      <td>2435</td>\n",
       "      <td>Bwaas</td>\n",
       "      <td>663</td>\n",
       "      <td>2184</td>\n",
       "      <td>100</td>\n",
       "      <td>Predict HIV Progression</td>\n",
       "      <td>663.0</td>\n",
       "      <td>bwaas663</td>\n",
       "      <td>Bwaas</td>\n",
       "      <td>47.11539</td>\n",
       "      <td>50.00000</td>\n",
       "    </tr>\n",
       "    <tr>\n",
       "      <th>3</th>\n",
       "      <td>500</td>\n",
       "      <td>2435</td>\n",
       "      <td>Thylacoleo</td>\n",
       "      <td>673</td>\n",
       "      <td>2187</td>\n",
       "      <td>23</td>\n",
       "      <td>Predict HIV Progression</td>\n",
       "      <td>673.0</td>\n",
       "      <td>brucetabor</td>\n",
       "      <td>Bruce Tabor</td>\n",
       "      <td>62.50000</td>\n",
       "      <td>65.75140</td>\n",
       "    </tr>\n",
       "    <tr>\n",
       "      <th>4</th>\n",
       "      <td>501</td>\n",
       "      <td>2435</td>\n",
       "      <td>pjonesdotcda</td>\n",
       "      <td>435</td>\n",
       "      <td>2191</td>\n",
       "      <td>80</td>\n",
       "      <td>Predict HIV Progression</td>\n",
       "      <td>NaN</td>\n",
       "      <td>NaN</td>\n",
       "      <td>NaN</td>\n",
       "      <td>55.28850</td>\n",
       "      <td>56.50289</td>\n",
       "    </tr>\n",
       "  </tbody>\n",
       "</table>\n",
       "</div>"
      ],
      "text/plain": [
       "    Id  CompetitionId      TeamName  TeamLeaderId  \\\n",
       "0  496           2435         team1           647   \n",
       "1  497           2435          jonp           619   \n",
       "2  499           2435         Bwaas           663   \n",
       "3  500           2435    Thylacoleo           673   \n",
       "4  501           2435  pjonesdotcda           435   \n",
       "\n",
       "   PrivateLeaderboardSubmissionId  PrivateLeaderboardRank  \\\n",
       "0                            2192                      83   \n",
       "1                            2182                      25   \n",
       "2                            2184                     100   \n",
       "3                            2187                      23   \n",
       "4                            2191                      80   \n",
       "\n",
       "          competition_name  UserId        UserName      DisplayName  \\\n",
       "0  Predict HIV Progression   647.0  bradpennington  Brad Pennington   \n",
       "1  Predict HIV Progression     NaN             NaN              NaN   \n",
       "2  Predict HIV Progression   663.0        bwaas663            Bwaas   \n",
       "3  Predict HIV Progression   673.0      brucetabor      Bruce Tabor   \n",
       "4  Predict HIV Progression     NaN             NaN              NaN   \n",
       "\n",
       "   PublicScoreLeaderboardDisplay  PrivateScoreLeaderboardDisplay  \n",
       "0                       57.21149                        56.35839  \n",
       "1                       61.05770                        65.60690  \n",
       "2                       47.11539                        50.00000  \n",
       "3                       62.50000                        65.75140  \n",
       "4                       55.28850                        56.50289  "
      ]
     },
     "execution_count": 17,
     "metadata": {},
     "output_type": "execute_result"
    }
   ],
   "source": [
    "teams = pd.merge(teams, competitions, how='left', on='CompetitionId')\n",
    "teams = pd.merge(teams, users, how='left', left_on='TeamLeaderId', right_on='UserId')\n",
    "teams = pd.merge(teams, submissions, how='left', on='PrivateLeaderboardSubmissionId')\n",
    "teams.head()"
   ]
  },
  {
   "cell_type": "markdown",
   "id": "9e07c8a3",
   "metadata": {
    "papermill": {
     "duration": 0.011852,
     "end_time": "2024-03-02T12:07:36.630095",
     "exception": false,
     "start_time": "2024-03-02T12:07:36.618243",
     "status": "completed"
    },
    "tags": []
   },
   "source": [
    "Finally, the writeup data is merged with the teams data."
   ]
  },
  {
   "cell_type": "code",
   "execution_count": 18,
   "id": "d58ff4fc",
   "metadata": {
    "_kg_hide-output": false,
    "execution": {
     "iopub.execute_input": "2024-03-02T12:07:36.654592Z",
     "iopub.status.busy": "2024-03-02T12:07:36.654295Z",
     "iopub.status.idle": "2024-03-02T12:07:36.969472Z",
     "shell.execute_reply": "2024-03-02T12:07:36.968338Z"
    },
    "papermill": {
     "duration": 0.330041,
     "end_time": "2024-03-02T12:07:36.971776",
     "exception": false,
     "start_time": "2024-03-02T12:07:36.641735",
     "status": "completed"
    },
    "tags": []
   },
   "outputs": [
    {
     "data": {
      "text/html": [
       "<div>\n",
       "<style scoped>\n",
       "    .dataframe tbody tr th:only-of-type {\n",
       "        vertical-align: middle;\n",
       "    }\n",
       "\n",
       "    .dataframe tbody tr th {\n",
       "        vertical-align: top;\n",
       "    }\n",
       "\n",
       "    .dataframe thead th {\n",
       "        text-align: right;\n",
       "    }\n",
       "</style>\n",
       "<table border=\"1\" class=\"dataframe\">\n",
       "  <thead>\n",
       "    <tr style=\"text-align: right;\">\n",
       "      <th></th>\n",
       "      <th>link</th>\n",
       "      <th>place</th>\n",
       "      <th>place_order</th>\n",
       "      <th>competition_name</th>\n",
       "      <th>nm</th>\n",
       "      <th>writeup</th>\n",
       "      <th>Id</th>\n",
       "      <th>CompetitionId</th>\n",
       "      <th>TeamName</th>\n",
       "      <th>TeamLeaderId</th>\n",
       "      <th>PrivateLeaderboardSubmissionId</th>\n",
       "      <th>PrivateLeaderboardRank</th>\n",
       "      <th>UserId</th>\n",
       "      <th>UserName</th>\n",
       "      <th>DisplayName</th>\n",
       "      <th>PublicScoreLeaderboardDisplay</th>\n",
       "      <th>PrivateScoreLeaderboardDisplay</th>\n",
       "    </tr>\n",
       "  </thead>\n",
       "  <tbody>\n",
       "    <tr>\n",
       "      <th>0</th>\n",
       "      <td>https://www.kaggle.com/c/asl-signs/discussion/...</td>\n",
       "      <td>1</td>\n",
       "      <td>1st</td>\n",
       "      <td>Google - Isolated Sign Language Recognition</td>\n",
       "      <td>406684</td>\n",
       "      <td>&lt;p&gt;First of all, I would like to express my gr...</td>\n",
       "      <td>9972071.0</td>\n",
       "      <td>46105.0</td>\n",
       "      <td>Hoyeol Sohn</td>\n",
       "      <td>5003978.0</td>\n",
       "      <td>31484928.0</td>\n",
       "      <td>1.0</td>\n",
       "      <td>5003978.0</td>\n",
       "      <td>hoyso48</td>\n",
       "      <td>hoyso48</td>\n",
       "      <td>0.810313</td>\n",
       "      <td>0.892929</td>\n",
       "    </tr>\n",
       "    <tr>\n",
       "      <th>1</th>\n",
       "      <td>https://www.kaggle.com/c/asl-signs/discussion/...</td>\n",
       "      <td>2</td>\n",
       "      <td>2nd</td>\n",
       "      <td>Google - Isolated Sign Language Recognition</td>\n",
       "      <td>406306</td>\n",
       "      <td>&lt;h2&gt;TLDR&lt;/h2&gt;\\n&lt;p&gt;We used an approach similar ...</td>\n",
       "      <td>9940724.0</td>\n",
       "      <td>46105.0</td>\n",
       "      <td>✌️</td>\n",
       "      <td>4212496.0</td>\n",
       "      <td>31443842.0</td>\n",
       "      <td>2.0</td>\n",
       "      <td>4212496.0</td>\n",
       "      <td>kolyaforrat</td>\n",
       "      <td>Kolya Forrat</td>\n",
       "      <td>0.812955</td>\n",
       "      <td>0.888290</td>\n",
       "    </tr>\n",
       "    <tr>\n",
       "      <th>2</th>\n",
       "      <td>https://www.kaggle.com/c/asl-signs/discussion/...</td>\n",
       "      <td>3</td>\n",
       "      <td>3rd</td>\n",
       "      <td>Google - Isolated Sign Language Recognition</td>\n",
       "      <td>406568</td>\n",
       "      <td>&lt;p&gt;We used an &lt;strong&gt;ensemble of six conv1d m...</td>\n",
       "      <td>9978686.0</td>\n",
       "      <td>46105.0</td>\n",
       "      <td>SabaiSabai</td>\n",
       "      <td>1187467.0</td>\n",
       "      <td>31463896.0</td>\n",
       "      <td>3.0</td>\n",
       "      <td>1187467.0</td>\n",
       "      <td>mrnnnn</td>\n",
       "      <td>Ruslan Grimov</td>\n",
       "      <td>0.804671</td>\n",
       "      <td>0.884242</td>\n",
       "    </tr>\n",
       "    <tr>\n",
       "      <th>3</th>\n",
       "      <td>https://www.kaggle.com/c/asl-signs/discussion/...</td>\n",
       "      <td>4</td>\n",
       "      <td>4th</td>\n",
       "      <td>Google - Isolated Sign Language Recognition</td>\n",
       "      <td>406673</td>\n",
       "      <td>&lt;p&gt;I would like to thank the organizers and al...</td>\n",
       "      <td>9971211.0</td>\n",
       "      <td>46105.0</td>\n",
       "      <td>ohkawa3</td>\n",
       "      <td>1630583.0</td>\n",
       "      <td>31484241.0</td>\n",
       "      <td>4.0</td>\n",
       "      <td>1630583.0</td>\n",
       "      <td>chack3</td>\n",
       "      <td>ohkawa3</td>\n",
       "      <td>0.799886</td>\n",
       "      <td>0.882355</td>\n",
       "    </tr>\n",
       "    <tr>\n",
       "      <th>4</th>\n",
       "      <td>https://www.kaggle.com/c/asl-signs/discussion/...</td>\n",
       "      <td>5</td>\n",
       "      <td>5th</td>\n",
       "      <td>Google - Isolated Sign Language Recognition</td>\n",
       "      <td>406491</td>\n",
       "      <td>&lt;p&gt;Here is a quick overview of the 5th-place s...</td>\n",
       "      <td>9963304.0</td>\n",
       "      <td>46105.0</td>\n",
       "      <td>⭐⭐⭐in the prize line⭐⭐⭐</td>\n",
       "      <td>4578277.0</td>\n",
       "      <td>31484310.0</td>\n",
       "      <td>5.0</td>\n",
       "      <td>4578277.0</td>\n",
       "      <td>yuanzhezhou</td>\n",
       "      <td>yuanzhe zhou</td>\n",
       "      <td>0.804457</td>\n",
       "      <td>0.880901</td>\n",
       "    </tr>\n",
       "  </tbody>\n",
       "</table>\n",
       "</div>"
      ],
      "text/plain": [
       "                                                link  place place_order  \\\n",
       "0  https://www.kaggle.com/c/asl-signs/discussion/...      1         1st   \n",
       "1  https://www.kaggle.com/c/asl-signs/discussion/...      2         2nd   \n",
       "2  https://www.kaggle.com/c/asl-signs/discussion/...      3         3rd   \n",
       "3  https://www.kaggle.com/c/asl-signs/discussion/...      4         4th   \n",
       "4  https://www.kaggle.com/c/asl-signs/discussion/...      5         5th   \n",
       "\n",
       "                              competition_name      nm  \\\n",
       "0  Google - Isolated Sign Language Recognition  406684   \n",
       "1  Google - Isolated Sign Language Recognition  406306   \n",
       "2  Google - Isolated Sign Language Recognition  406568   \n",
       "3  Google - Isolated Sign Language Recognition  406673   \n",
       "4  Google - Isolated Sign Language Recognition  406491   \n",
       "\n",
       "                                             writeup         Id  \\\n",
       "0  <p>First of all, I would like to express my gr...  9972071.0   \n",
       "1  <h2>TLDR</h2>\\n<p>We used an approach similar ...  9940724.0   \n",
       "2  <p>We used an <strong>ensemble of six conv1d m...  9978686.0   \n",
       "3  <p>I would like to thank the organizers and al...  9971211.0   \n",
       "4  <p>Here is a quick overview of the 5th-place s...  9963304.0   \n",
       "\n",
       "   CompetitionId                 TeamName  TeamLeaderId  \\\n",
       "0        46105.0              Hoyeol Sohn     5003978.0   \n",
       "1        46105.0                       ✌️     4212496.0   \n",
       "2        46105.0               SabaiSabai     1187467.0   \n",
       "3        46105.0                  ohkawa3     1630583.0   \n",
       "4        46105.0  ⭐⭐⭐in the prize line⭐⭐⭐     4578277.0   \n",
       "\n",
       "   PrivateLeaderboardSubmissionId  PrivateLeaderboardRank     UserId  \\\n",
       "0                      31484928.0                     1.0  5003978.0   \n",
       "1                      31443842.0                     2.0  4212496.0   \n",
       "2                      31463896.0                     3.0  1187467.0   \n",
       "3                      31484241.0                     4.0  1630583.0   \n",
       "4                      31484310.0                     5.0  4578277.0   \n",
       "\n",
       "      UserName    DisplayName  PublicScoreLeaderboardDisplay  \\\n",
       "0      hoyso48        hoyso48                       0.810313   \n",
       "1  kolyaforrat   Kolya Forrat                       0.812955   \n",
       "2       mrnnnn  Ruslan Grimov                       0.804671   \n",
       "3       chack3        ohkawa3                       0.799886   \n",
       "4  yuanzhezhou   yuanzhe zhou                       0.804457   \n",
       "\n",
       "   PrivateScoreLeaderboardDisplay  \n",
       "0                        0.892929  \n",
       "1                        0.888290  \n",
       "2                        0.884242  \n",
       "3                        0.882355  \n",
       "4                        0.880901  "
      ]
     },
     "execution_count": 18,
     "metadata": {},
     "output_type": "execute_result"
    }
   ],
   "source": [
    "writeups = pd.merge(writeups, teams, how='left',\n",
    "                    left_on=['place', 'competition_name'],\n",
    "                    right_on=['PrivateLeaderboardRank', 'competition_name'])\n",
    "writeups.head()"
   ]
  },
  {
   "cell_type": "markdown",
   "id": "ec14a1ae",
   "metadata": {
    "papermill": {
     "duration": 0.014281,
     "end_time": "2024-03-02T12:07:37.000919",
     "exception": false,
     "start_time": "2024-03-02T12:07:36.986638",
     "status": "completed"
    },
    "tags": []
   },
   "source": [
    "# 6. Summarize solution write-ups\n",
    "\n",
    "Now, we can summarize kaggle solultion write-ups.\n",
    "\n",
    "Each solution is summarized by the summarization chain.\n",
    "**Overall Summary** and **Comparision Table** are also created by Gemma at the end of the procedure."
   ]
  },
  {
   "cell_type": "code",
   "execution_count": 19,
   "id": "25aa2803",
   "metadata": {
    "execution": {
     "iopub.execute_input": "2024-03-02T12:07:37.030894Z",
     "iopub.status.busy": "2024-03-02T12:07:37.030573Z",
     "iopub.status.idle": "2024-03-02T12:07:37.042339Z",
     "shell.execute_reply": "2024-03-02T12:07:37.041328Z"
    },
    "papermill": {
     "duration": 0.029323,
     "end_time": "2024-03-02T12:07:37.044485",
     "exception": false,
     "start_time": "2024-03-02T12:07:37.015162",
     "status": "completed"
    },
    "tags": []
   },
   "outputs": [],
   "source": [
    "from IPython.display import display, Markdown\n",
    "\n",
    "\n",
    "def create_overall_summary(solutions_md):\n",
    "    overall_summary_md = gemma_lm.generate(f\"\"\"\n",
    "Create an overall summary of the kaggle competition from the following solution writeups:\n",
    "\n",
    "{solutions_md}\n",
    "\n",
    "OVERALL SUMMARY:\"\"\", max_length=2048).split(\"SUMMARY:\", 1)[1]\n",
    "    overall_summary_md = \"### Overall Summary\" + overall_summary_md\n",
    "    return overall_summary_md\n",
    "\n",
    "\n",
    "def create_comparision_table(solutions_md):\n",
    "    comparison_table_md = gemma_lm.generate(f\"\"\"\n",
    "Create an approach comparison table by Markdown format from the following kaggle solutions (each row corresponds to each solution):\n",
    "\n",
    "{solutions_md}\n",
    "\n",
    "APPROACH COMPARISON TABLE:\"\"\", max_length=2048).split(\"TABLE:\", 1)[1]\n",
    "    comparison_table_md = \"### Comparison Table\" + comparison_table_md\n",
    "    return comparison_table_md\n",
    "\n",
    "\n",
    "def top_solutions(writeups, competition_name):\n",
    "    '''summarize top10 solutions'''\n",
    "\n",
    "    # filter target rows\n",
    "    df = writeups.query('competition_name == @competition_name').drop_duplicates(subset=['place'])\n",
    "    df = df.query('place <= 10').reset_index(inplace=False)\n",
    "\n",
    "    solutions_md = ''\n",
    "    display_solutions_md = ''\n",
    "    for i, row in df.iterrows():\n",
    "\n",
    "        solution_title = f'{row[\"place_order\"]} place solution'\n",
    "        solution_txt = summarize(row[\"writeup\"])\n",
    "        solutions_md += f'''### {solution_title}\n",
    "{solution_txt}\n",
    "'''\n",
    "\n",
    "        if row[\"place\"] <= 3:\n",
    "            # display raw summaries for top 3 solutions\n",
    "            display_solutions_md += f'''### [{solution_title}]({row[\"link\"]})\n",
    "#### Team: {row[\"TeamName\"]} &nbsp; Leader: [{row[\"DisplayName\"]}](https://www.kaggle.com/{row[\"UserName\"]}) &nbsp; Public Score: {row[\"PublicScoreLeaderboardDisplay\"]} &nbsp; Private Score: {row[\"PrivateScoreLeaderboardDisplay\"]}\n",
    "{solution_txt}\n",
    "'''\n",
    "\n",
    "    # display the overall summary\n",
    "    overall_summary_md = create_overall_summary(solutions_md)\n",
    "    display(Markdown(overall_summary_md))\n",
    "\n",
    "    # display the comparision table\n",
    "    comparison_table_md = create_comparision_table(solutions_md)\n",
    "    display(Markdown(comparison_table_md))\n",
    "\n",
    "    # display raw summaries for top 3 solutions\n",
    "    display(Markdown(display_solutions_md))"
   ]
  },
  {
   "cell_type": "markdown",
   "id": "f18714bf",
   "metadata": {
    "papermill": {
     "duration": 0.014101,
     "end_time": "2024-03-02T12:07:37.072899",
     "exception": false,
     "start_time": "2024-03-02T12:07:37.058798",
     "status": "completed"
    },
    "tags": []
   },
   "source": [
    "Four exapmles are shown as follows,\n",
    "\n",
    "## 6.1 OTTO – Multi-Objective Recommender System"
   ]
  },
  {
   "cell_type": "code",
   "execution_count": 20,
   "id": "4f355229",
   "metadata": {
    "execution": {
     "iopub.execute_input": "2024-03-02T12:07:37.102872Z",
     "iopub.status.busy": "2024-03-02T12:07:37.102565Z",
     "iopub.status.idle": "2024-03-02T12:12:00.352998Z",
     "shell.execute_reply": "2024-03-02T12:12:00.352074Z"
    },
    "papermill": {
     "duration": 263.268163,
     "end_time": "2024-03-02T12:12:00.355396",
     "exception": false,
     "start_time": "2024-03-02T12:07:37.087233",
     "status": "completed"
    },
    "tags": []
   },
   "outputs": [
    {
     "data": {
      "application/vnd.jupyter.widget-view+json": {
       "model_id": "5299373934da4ab3abd74a00be3e1436",
       "version_major": 2,
       "version_minor": 0
      },
      "text/plain": [
       "tokenizer_config.json:   0%|          | 0.00/26.0 [00:00<?, ?B/s]"
      ]
     },
     "metadata": {},
     "output_type": "display_data"
    },
    {
     "data": {
      "application/vnd.jupyter.widget-view+json": {
       "model_id": "699ac849ed6f40d88d4359e80807f846",
       "version_major": 2,
       "version_minor": 0
      },
      "text/plain": [
       "vocab.json:   0%|          | 0.00/1.04M [00:00<?, ?B/s]"
      ]
     },
     "metadata": {},
     "output_type": "display_data"
    },
    {
     "data": {
      "application/vnd.jupyter.widget-view+json": {
       "model_id": "71bfc262c7994f00a140be2f0d97f85a",
       "version_major": 2,
       "version_minor": 0
      },
      "text/plain": [
       "merges.txt:   0%|          | 0.00/456k [00:00<?, ?B/s]"
      ]
     },
     "metadata": {},
     "output_type": "display_data"
    },
    {
     "data": {
      "application/vnd.jupyter.widget-view+json": {
       "model_id": "36bb5149eef84420bf954c754b12afbc",
       "version_major": 2,
       "version_minor": 0
      },
      "text/plain": [
       "tokenizer.json:   0%|          | 0.00/1.36M [00:00<?, ?B/s]"
      ]
     },
     "metadata": {},
     "output_type": "display_data"
    },
    {
     "data": {
      "application/vnd.jupyter.widget-view+json": {
       "model_id": "db2f8262b58f40f4befff2abb81ce26a",
       "version_major": 2,
       "version_minor": 0
      },
      "text/plain": [
       "config.json:   0%|          | 0.00/665 [00:00<?, ?B/s]"
      ]
     },
     "metadata": {},
     "output_type": "display_data"
    },
    {
     "name": "stderr",
     "output_type": "stream",
     "text": [
      "Token indices sequence length is longer than the specified maximum sequence length for this model (1339 > 1024). Running this sequence through the model will result in indexing errors\n"
     ]
    },
    {
     "data": {
      "text/markdown": [
       "### Overall Summary\n",
       "\n",
       "The Kaggle competition showcased a diverse range of approaches to improving recommendation systems. While some solutions focused on improving features related to item2item, others addressed broader aspects such as session ranking and candidate generation. The competition also highlighted the importance of ensemble methods and the effectiveness of different similarity measures and candidate selection techniques."
      ],
      "text/plain": [
       "<IPython.core.display.Markdown object>"
      ]
     },
     "metadata": {},
     "output_type": "display_data"
    },
    {
     "data": {
      "text/markdown": [
       "### Comparison Table\n",
       "\n",
       "| **Solution** | **Focus** | **Model** | **Feature Engineering** | **Ensemble** | **Similarity Measures** |\n",
       "|---|---|---|---|---|---|\n",
       "| 1 | Covisitation Matrix | Neural Networks | Candidate Generation | N/A | Co-occurrence matrices |\n",
       "| 2 | Item2item | XGBoost & CatBoost | Feature Engineering | Blending | XGBoost & CatBoost |\n",
       "| 3 | Landing Page Rank | XGB reranker | Feature Engineering | Ensemble | LightGBM |\n",
       "| 4 | Team Collaboration | Two Teams | Different Train-Valid Splits | Ensemble | N/A |\n",
       "| 5 | Candidate Set | Feature Creation & Selection | N/A | Ensemble | Lightgbm |\n",
       "| 6 | Data Retrieval | Kaggle Forum | N/A | N/A | N/A |\n",
       "| 7 | Image Classification | LightGBM | Co-visitation Matrix | Ensemble | N/A |\n",
       "| 8 | Click Prediction | ProNE | N/A | N/A | N/A |\n",
       "| 9 | Candidate Reranking | Feature Engineering | N/A | N/A | N/A |\n",
       "| 10 | Cart/Order Reranking | Co-visit Features | N/A | N/A | N/A |"
      ],
      "text/plain": [
       "<IPython.core.display.Markdown object>"
      ]
     },
     "metadata": {},
     "output_type": "display_data"
    },
    {
     "data": {
      "text/markdown": [
       "### [1st place solution](https://www.kaggle.com/c/otto-recommender-system/discussion/384022)\n",
       "#### Team: mrkmakr &nbsp; Leader: [mrkmakr](https://www.kaggle.com/mrkmakr) &nbsp; Public Score: 0.60541 &nbsp; Private Score: 0.60503\n",
       "The solution focuses on using a covisitation matrix to model the relationships between different features. It uses multiple versions of the covisitation matrix, with different weighting and aggregation periods. It also uses neural networks to predict subsequent aids and focuses on samples that are not predicted well. The solution uses different techniques to adjust the session embedding based on the prediction target aid type. Some models are trained by using only non visited aids as targets to avoid overlapping information with revisitation based candidates and features. The solution averaged the predicted scores of the rankers and tested if it was a better method than voting.\n",
       "### [2nd place solution](https://www.kaggle.com/c/otto-recommender-system/discussion/382790)\n",
       "#### Team: SOS3 &nbsp; Leader: [ONODERA](https://www.kaggle.com/onodera) &nbsp; Public Score: 0.60401 &nbsp; Private Score: 0.60446\n",
       "The candidate focused on improving features related to item2item, including count, time difference, sequence difference, weighted above features, and aggregation of these features. They used XGBoost and CatBoost for model building and then blended the results by rank. The candidate acknowledged the contributions of cuDF and cuML and expressed gratitude to RAPIDS for their assistance.\n",
       "### [3rd place solution](https://www.kaggle.com/c/otto-recommender-system/discussion/383013)\n",
       "#### Team: G & B & D & T &nbsp; Leader: [Giba](https://www.kaggle.com/titericz) &nbsp; Public Score: 0.60437 &nbsp; Private Score: 0.60382\n",
       "The solution focuses on improving the landing page rank (LB) of a recommender system by addressing 3 significant ideas. It uses candidate generation and co-occurrence count extraction to improve the CV and LB scores of an XGB reranker. The code creates more\n"
      ],
      "text/plain": [
       "<IPython.core.display.Markdown object>"
      ]
     },
     "metadata": {},
     "output_type": "display_data"
    },
    {
     "name": "stdout",
     "output_type": "stream",
     "text": [
      "CPU times: user 4min 19s, sys: 667 ms, total: 4min 20s\n",
      "Wall time: 4min 23s\n"
     ]
    }
   ],
   "source": [
    "%%time\n",
    "top_solutions(writeups, \"OTTO – Multi-Objective Recommender System\")"
   ]
  },
  {
   "cell_type": "markdown",
   "id": "d3bb986f",
   "metadata": {
    "papermill": {
     "duration": 0.013759,
     "end_time": "2024-03-02T12:12:00.383452",
     "exception": false,
     "start_time": "2024-03-02T12:12:00.369693",
     "status": "completed"
    },
    "tags": []
   },
   "source": [
    "## 6.2 Foursquare - Location Matching"
   ]
  },
  {
   "cell_type": "code",
   "execution_count": 21,
   "id": "7d3d9e27",
   "metadata": {
    "_kg_hide-input": true,
    "_kg_hide-output": false,
    "execution": {
     "iopub.execute_input": "2024-03-02T12:12:00.459254Z",
     "iopub.status.busy": "2024-03-02T12:12:00.458331Z",
     "iopub.status.idle": "2024-03-02T12:14:48.210668Z",
     "shell.execute_reply": "2024-03-02T12:14:48.209805Z"
    },
    "papermill": {
     "duration": 167.770011,
     "end_time": "2024-03-02T12:14:48.212891",
     "exception": false,
     "start_time": "2024-03-02T12:12:00.442880",
     "status": "completed"
    },
    "tags": []
   },
   "outputs": [
    {
     "data": {
      "text/markdown": [
       "### Overall Summary\n",
       "\n",
       "The Kaggle competition showcased diverse approaches to various natural language processing (NLP) tasks. While some solutions relied heavily on feature engineering and ensemble methods, others employed more advanced techniques such as BERT, graph neural networks, and multi-lingual representation. The competition also highlighted the importance of optimizing model hyperparameters and selecting appropriate feature sets for optimal performance."
      ],
      "text/plain": [
       "<IPython.core.display.Markdown object>"
      ]
     },
     "metadata": {},
     "output_type": "display_data"
    },
    {
     "data": {
      "text/markdown": [
       "### Comparison Table\n",
       "\n",
       "| **Solution** | **Focus** | **Candidate Generation** | **Feature Engineering** | **Model** | **Evaluation** |\n",
       "|---|---|---|---|---|---|\n",
       "| 1 | Generating new candidates | Cross-validation with 2 folds | Feature selection | LightGBM and Forestinference | F1 score |\n",
       "| 2 | Matching locations | K-nearest neighbors | String similarity measures | SVM | Accuracy |\n",
       "| 3 | Text classification | NLP deep learning | Bi-encoder models |  | F1 score |\n",
       "| 4 | Sentiment analysis | BERT model | Feature engineering |  | Accuracy |\n",
       "| 6 | Generating candidate data | Graph probability convolution |  | CatBoost |  |  |\n",
       "| 7 | Pre-processing and generating candidates | Various techniques | LightGBM |  |  |\n",
       "| 8 | Multi-lingual text representation |  |  | LightGBM |  |  |\n",
       "| 9 | Selecting candidate features | Two-fold cross-validation | Feature engineering and post-processing | CatBoost | F1 score |"
      ],
      "text/plain": [
       "<IPython.core.display.Markdown object>"
      ]
     },
     "metadata": {},
     "output_type": "display_data"
    },
    {
     "data": {
      "text/markdown": [
       "### [1st place solution](https://www.kaggle.com/c/foursquare-location-matching/discussion/336055)\n",
       "#### Team: re:waiwai &nbsp; Leader: [Takoi](https://www.kaggle.com/takoihiraokazu) &nbsp; Public Score: 0.97808 &nbsp; Private Score: 0.97768\n",
       "The Kaggle solution aimed to generate new candidates by dividing the process into four stages: creating candidates, feature engineering and LightGBM, ensemble methods, and post-processing. However, due to leakage, the team had to spend significant time searching for leaks in the final stages.\n",
       "\n",
       "The solution used a cross-validation strategy with 2 folds to evaluate the performance of different feature selection methods. The top 20 candidates were selected for each feature selection method, and the LightGBM and Forestinference algorithms were used to make predictions.\n",
       "\n",
       "The solution focused on building a predictive model for Foursquare lightgbm baseline using different transformer models with different feature sets. The results showed that merging the training and validation data (1 + 2) generally led to the best performance, while merging with the test data (1 + 2 + 3) was less effective.\n",
       "### [2nd place solution](https://www.kaggle.com/c/foursquare-location-matching/discussion/336090)\n",
       "#### Team: 2:30 &nbsp; Leader: [T0m](https://www.kaggle.com/tomyanabe) &nbsp; Public Score: 0.97285 &nbsp; Private Score: 0.9726\n",
       "This script focuses on the task of matching locations in a dataset of foursquare location coordinates. It employs a two-step approach to achieve this: candidate generation and binary classification. The candidate generation step utilizes a k-nearest neighbors approach to identify potential matches between locations, while the binary classification step utilizes a support vector machine (SVM) to determine whether the matches are valid or not.\n",
       "\n",
       "The script uses various string similarity measures and token-based approaches to address the task of modeling the similarity between names and categories. It employs\n",
       "### [3rd place solution](https://www.kaggle.com/c/foursquare-location-matching/discussion/338112)\n",
       "#### Team: Psi &nbsp; Leader: [Psi](https://www.kaggle.com/philippsinger) &nbsp; Public Score: 0.96866 &nbsp; Private Score: 0.96847\n",
       "The solution is based on a two-stage approach using NLP deep learning models. The first stage uses an ArcFace model to predict the point-of-interest of a record and put similar records into a similar embedding space. The second stage trains a bi-encoder model based on the proposed candidates from the first stage. The solution uses various bi-encoder models to train for TP/FP of pairs. The training data consists of records where each record represents a pair of entities. The solution uses cross-validation to select the best set of candidates to train on.\n"
      ],
      "text/plain": [
       "<IPython.core.display.Markdown object>"
      ]
     },
     "metadata": {},
     "output_type": "display_data"
    },
    {
     "name": "stdout",
     "output_type": "stream",
     "text": [
      "CPU times: user 2min 47s, sys: 122 ms, total: 2min 47s\n",
      "Wall time: 2min 47s\n"
     ]
    }
   ],
   "source": [
    "%%time\n",
    "top_solutions(writeups, \"Foursquare - Location Matching\")"
   ]
  },
  {
   "cell_type": "markdown",
   "id": "5b970995",
   "metadata": {
    "papermill": {
     "duration": 0.014414,
     "end_time": "2024-03-02T12:14:48.242308",
     "exception": false,
     "start_time": "2024-03-02T12:14:48.227894",
     "status": "completed"
    },
    "tags": []
   },
   "source": [
    "## 6.3 G2Net Detecting Continuous Gravitational Waves"
   ]
  },
  {
   "cell_type": "code",
   "execution_count": 22,
   "id": "1584c32d",
   "metadata": {
    "_kg_hide-input": true,
    "execution": {
     "iopub.execute_input": "2024-03-02T12:14:48.273150Z",
     "iopub.status.busy": "2024-03-02T12:14:48.272348Z",
     "iopub.status.idle": "2024-03-02T12:17:24.600730Z",
     "shell.execute_reply": "2024-03-02T12:17:24.599781Z"
    },
    "papermill": {
     "duration": 156.346636,
     "end_time": "2024-03-02T12:17:24.603588",
     "exception": false,
     "start_time": "2024-03-02T12:14:48.256952",
     "status": "completed"
    },
    "tags": []
   },
   "outputs": [
    {
     "data": {
      "text/markdown": [
       "### Overall Summary\n",
       "\n",
       "The Kaggle competition focused on deep learning and creative denoising. The solutions explored different approaches to address the challenges of gravitational wave detection, including noise reduction, signal enhancement, and parameter estimation. The best solution achieved an accuracy of 0.855/0.849, demonstrating the effectiveness of deep learning techniques for gravitational wave detection."
      ],
      "text/plain": [
       "<IPython.core.display.Markdown object>"
      ]
     },
     "metadata": {},
     "output_type": "display_data"
    },
    {
     "data": {
      "text/markdown": [
       "### Comparison Table\n",
       "\n",
       "| **Solution** | **Focus** | **Noise Removal** | **Signal Generation** | **Model Architecture** | **Loss Function** |\n",
       "|---|---|---|---|---|---|\n",
       "| 1 | Signal extraction | Random search | Simulated data | 1D CNN | AUC ROC |\n",
       "| 2 | Signal enhancement | None | Real data | None | Mean score |\n",
       "| 3 | Deep learning | None | Real data | CNNs | Mean score |\n",
       "| 4 | Candidate CW parameter generation | Dynamic programming | None | None | AUC ROC |\n",
       "| 5 | Signal analysis | None | Real data | Logistic function | None |\n",
       "| 6 | Waveform analysis | None | Real data | SA | kth percentile |\n",
       "| 7 | Matched filter | Synthetic and pseudo-labeled data | None | CNN | Precision, AUC |\n",
       "| 8 | Matching filter | Synthetic and pseudo-labeled data | None | CNN | Precision, AUC |\n",
       "| 9 | Data augmentation | Gaussian noise | Time-varying Gaussian noise | CNN | Mean, standard deviation |\n",
       "| 10 | CNN with normalization | None | Time-varying Gaussian noise | CNN | RobustScaler, multitask learning |"
      ],
      "text/plain": [
       "<IPython.core.display.Markdown object>"
      ]
     },
     "metadata": {},
     "output_type": "display_data"
    },
    {
     "data": {
      "text/markdown": [
       "### [1st place solution](https://www.kaggle.com/c/g2net-detecting-continuous-gravitational-waves/discussion/375910)\n",
       "#### Team: 🐢 Jun Koda &nbsp; Leader: [🐢 Jun Koda](https://www.kaggle.com/junkoda) &nbsp; Public Score: 0.84866 &nbsp; Private Score: 0.86376\n",
       "The author attempted to build a deep neural network model to detect gravitational waves from the Earth's rotation. Despite using 1-dimensional convolutional neural networks, they failed to achieve the same accuracy as the top-performing solutions. The solution focuses on calculating the maximum power of the signal patterns by extracting the power from the simulations and then summing the weighted power along the frequency axis. The solution addresses the issue of highly skewed values due to the large number of templates and frequencies by employing several normalization techniques. The solution uses a sinc kernel to collect the signal and recompute the power sum with this kernel around the largest-power line. It then applies a sigmoid to the standardized power sum and submits the result.\n",
       "### [2nd place solution](https://www.kaggle.com/c/g2net-detecting-continuous-gravitational-waves/discussion/376504)\n",
       "#### Team: PreferredWave &nbsp; Leader: [charmq](https://www.kaggle.com/charmq) &nbsp; Public Score: 0.84992 &nbsp; Private Score: 0.85545\n",
       "The Kaggle solution focused on identifying and removing noise from a dataset to improve the performance of a machine learning model. By identifying and removing noise, the model was able to achieve a higher accuracy of 0.855/0.849 (1st in the public LB). The solution uses random search to find the optimal combination of parameters that maximizes the mean power of the signal. The best settings are then used to calculate the mean score of the two detectors for each data.\n",
       "### [3rd place solution](https://www.kaggle.com/c/g2net-detecting-continuous-gravitational-waves/discussion/376233)\n",
       "#### Team: BearWaves (not prize eligible) &nbsp; Leader: [RabotniKuma](https://www.kaggle.com/analokamus) &nbsp; Public Score: 0.80717 &nbsp; Private Score: 0.82634\n",
       "The Kaggle competition focuses on deep learning and creative denoising. The solution focuses on generating realistic noise patterns for a fixed and infinite dataset approach. It explores the distribution of background noise and generates noise with similar statistics to the real data. Additionally, it generates signal templates with frequency dependency and injects them into the generated noise during training. The model uses CNNs with various modifications to improve the spectrogram image classification task.\n"
      ],
      "text/plain": [
       "<IPython.core.display.Markdown object>"
      ]
     },
     "metadata": {},
     "output_type": "display_data"
    },
    {
     "name": "stdout",
     "output_type": "stream",
     "text": [
      "CPU times: user 2min 36s, sys: 137 ms, total: 2min 36s\n",
      "Wall time: 2min 36s\n"
     ]
    }
   ],
   "source": [
    "%%time\n",
    "top_solutions(writeups, \"G2Net Detecting Continuous Gravitational Waves\")"
   ]
  },
  {
   "cell_type": "markdown",
   "id": "baff7012",
   "metadata": {
    "papermill": {
     "duration": 0.014983,
     "end_time": "2024-03-02T12:17:24.633969",
     "exception": false,
     "start_time": "2024-03-02T12:17:24.618986",
     "status": "completed"
    },
    "tags": []
   },
   "source": [
    "# 7. For further improvement\n",
    "\n",
    "LangChain can summarize the input solution write-ups, but there seems to be room for improvement.\n",
    "\n",
    "Upon consideration, we can suggest the following improvements:\n",
    "\n",
    "* Using larger models\n",
    "* Adjusting system prompts\n",
    "* Adding preprocessing and postprocessing\n",
    "* Optimizing chunk size\n",
    "* Utilizing HTML tags (document structures) in write-ups\n",
    "\n",
    "Thank you for reading this to the end. Please don't forget to upvote :)"
   ]
  }
 ],
 "metadata": {
  "kaggle": {
   "accelerator": "gpu",
   "dataSources": [
    {
     "databundleVersionId": 5741538,
     "sourceId": 50947,
     "sourceType": "competition"
    },
    {
     "databundleVersionId": 7669720,
     "sourceId": 64148,
     "sourceType": "competition"
    },
    {
     "datasetId": 9,
     "sourceId": 7740489,
     "sourceType": "datasetVersion"
    },
    {
     "isSourceIdPinned": true,
     "modelInstanceId": 5388,
     "sourceId": 11372,
     "sourceType": "modelInstanceVersion"
    }
   ],
   "dockerImageVersionId": 30646,
   "isGpuEnabled": true,
   "isInternetEnabled": true,
   "language": "python",
   "sourceType": "notebook"
  },
  "kernelspec": {
   "display_name": "Python 3",
   "language": "python",
   "name": "python3"
  },
  "language_info": {
   "codemirror_mode": {
    "name": "ipython",
    "version": 3
   },
   "file_extension": ".py",
   "mimetype": "text/x-python",
   "name": "python",
   "nbconvert_exporter": "python",
   "pygments_lexer": "ipython3",
   "version": "3.10.13"
  },
  "papermill": {
   "default_parameters": {},
   "duration": 840.465929,
   "end_time": "2024-03-02T12:17:29.200909",
   "environment_variables": {},
   "exception": null,
   "input_path": "__notebook__.ipynb",
   "output_path": "__notebook__.ipynb",
   "parameters": {},
   "start_time": "2024-03-02T12:03:28.734980",
   "version": "2.5.0"
  },
  "widgets": {
   "application/vnd.jupyter.widget-state+json": {
    "state": {
     "0968331e67ec4d3a8401ccfdffeaeee6": {
      "model_module": "@jupyter-widgets/controls",
      "model_module_version": "1.5.0",
      "model_name": "HTMLModel",
      "state": {
       "_dom_classes": [],
       "_model_module": "@jupyter-widgets/controls",
       "_model_module_version": "1.5.0",
       "_model_name": "HTMLModel",
       "_view_count": null,
       "_view_module": "@jupyter-widgets/controls",
       "_view_module_version": "1.5.0",
       "_view_name": "HTMLView",
       "description": "",
       "description_tooltip": null,
       "layout": "IPY_MODEL_be15bfee9feb4270867577d61f7abf05",
       "placeholder": "​",
       "style": "IPY_MODEL_876ffe9364454814bb34adfe8b9eea04",
       "value": "tokenizer_config.json: 100%"
      }
     },
     "0cb1d7721bd14c3ba33459d2b0758b87": {
      "model_module": "@jupyter-widgets/base",
      "model_module_version": "1.2.0",
      "model_name": "LayoutModel",
      "state": {
       "_model_module": "@jupyter-widgets/base",
       "_model_module_version": "1.2.0",
       "_model_name": "LayoutModel",
       "_view_count": null,
       "_view_module": "@jupyter-widgets/base",
       "_view_module_version": "1.2.0",
       "_view_name": "LayoutView",
       "align_content": null,
       "align_items": null,
       "align_self": null,
       "border": null,
       "bottom": null,
       "display": null,
       "flex": null,
       "flex_flow": null,
       "grid_area": null,
       "grid_auto_columns": null,
       "grid_auto_flow": null,
       "grid_auto_rows": null,
       "grid_column": null,
       "grid_gap": null,
       "grid_row": null,
       "grid_template_areas": null,
       "grid_template_columns": null,
       "grid_template_rows": null,
       "height": null,
       "justify_content": null,
       "justify_items": null,
       "left": null,
       "margin": null,
       "max_height": null,
       "max_width": null,
       "min_height": null,
       "min_width": null,
       "object_fit": null,
       "object_position": null,
       "order": null,
       "overflow": null,
       "overflow_x": null,
       "overflow_y": null,
       "padding": null,
       "right": null,
       "top": null,
       "visibility": null,
       "width": null
      }
     },
     "144870af55644852a14937cd625f672a": {
      "model_module": "@jupyter-widgets/controls",
      "model_module_version": "1.5.0",
      "model_name": "HTMLModel",
      "state": {
       "_dom_classes": [],
       "_model_module": "@jupyter-widgets/controls",
       "_model_module_version": "1.5.0",
       "_model_name": "HTMLModel",
       "_view_count": null,
       "_view_module": "@jupyter-widgets/controls",
       "_view_module_version": "1.5.0",
       "_view_name": "HTMLView",
       "description": "",
       "description_tooltip": null,
       "layout": "IPY_MODEL_ef84cd7c0ea246f8b077d59c58d03bcd",
       "placeholder": "​",
       "style": "IPY_MODEL_7a38a8f3131f48aa9e04daf6383a3502",
       "value": " 1.04M/1.04M [00:00&lt;00:00, 28.9MB/s]"
      }
     },
     "19c74c08470740859f398b5e92185d88": {
      "model_module": "@jupyter-widgets/controls",
      "model_module_version": "1.5.0",
      "model_name": "ProgressStyleModel",
      "state": {
       "_model_module": "@jupyter-widgets/controls",
       "_model_module_version": "1.5.0",
       "_model_name": "ProgressStyleModel",
       "_view_count": null,
       "_view_module": "@jupyter-widgets/base",
       "_view_module_version": "1.2.0",
       "_view_name": "StyleView",
       "bar_color": null,
       "description_width": ""
      }
     },
     "2e5002e8693e4eaeba4fa218acfefab6": {
      "model_module": "@jupyter-widgets/base",
      "model_module_version": "1.2.0",
      "model_name": "LayoutModel",
      "state": {
       "_model_module": "@jupyter-widgets/base",
       "_model_module_version": "1.2.0",
       "_model_name": "LayoutModel",
       "_view_count": null,
       "_view_module": "@jupyter-widgets/base",
       "_view_module_version": "1.2.0",
       "_view_name": "LayoutView",
       "align_content": null,
       "align_items": null,
       "align_self": null,
       "border": null,
       "bottom": null,
       "display": null,
       "flex": null,
       "flex_flow": null,
       "grid_area": null,
       "grid_auto_columns": null,
       "grid_auto_flow": null,
       "grid_auto_rows": null,
       "grid_column": null,
       "grid_gap": null,
       "grid_row": null,
       "grid_template_areas": null,
       "grid_template_columns": null,
       "grid_template_rows": null,
       "height": null,
       "justify_content": null,
       "justify_items": null,
       "left": null,
       "margin": null,
       "max_height": null,
       "max_width": null,
       "min_height": null,
       "min_width": null,
       "object_fit": null,
       "object_position": null,
       "order": null,
       "overflow": null,
       "overflow_x": null,
       "overflow_y": null,
       "padding": null,
       "right": null,
       "top": null,
       "visibility": null,
       "width": null
      }
     },
     "2f07d45e8f874692b1da0c65c833c383": {
      "model_module": "@jupyter-widgets/controls",
      "model_module_version": "1.5.0",
      "model_name": "DescriptionStyleModel",
      "state": {
       "_model_module": "@jupyter-widgets/controls",
       "_model_module_version": "1.5.0",
       "_model_name": "DescriptionStyleModel",
       "_view_count": null,
       "_view_module": "@jupyter-widgets/base",
       "_view_module_version": "1.2.0",
       "_view_name": "StyleView",
       "description_width": ""
      }
     },
     "3064299b3d4e4dfc868b9e49c1a2d299": {
      "model_module": "@jupyter-widgets/controls",
      "model_module_version": "1.5.0",
      "model_name": "DescriptionStyleModel",
      "state": {
       "_model_module": "@jupyter-widgets/controls",
       "_model_module_version": "1.5.0",
       "_model_name": "DescriptionStyleModel",
       "_view_count": null,
       "_view_module": "@jupyter-widgets/base",
       "_view_module_version": "1.2.0",
       "_view_name": "StyleView",
       "description_width": ""
      }
     },
     "34a9cdc6f8e94bbe8195e149079add98": {
      "model_module": "@jupyter-widgets/controls",
      "model_module_version": "1.5.0",
      "model_name": "HTMLModel",
      "state": {
       "_dom_classes": [],
       "_model_module": "@jupyter-widgets/controls",
       "_model_module_version": "1.5.0",
       "_model_name": "HTMLModel",
       "_view_count": null,
       "_view_module": "@jupyter-widgets/controls",
       "_view_module_version": "1.5.0",
       "_view_name": "HTMLView",
       "description": "",
       "description_tooltip": null,
       "layout": "IPY_MODEL_2e5002e8693e4eaeba4fa218acfefab6",
       "placeholder": "​",
       "style": "IPY_MODEL_53b7549ad52746059957d603435cc30a",
       "value": " 665/665 [00:00&lt;00:00, 57.2kB/s]"
      }
     },
     "36bb5149eef84420bf954c754b12afbc": {
      "model_module": "@jupyter-widgets/controls",
      "model_module_version": "1.5.0",
      "model_name": "HBoxModel",
      "state": {
       "_dom_classes": [],
       "_model_module": "@jupyter-widgets/controls",
       "_model_module_version": "1.5.0",
       "_model_name": "HBoxModel",
       "_view_count": null,
       "_view_module": "@jupyter-widgets/controls",
       "_view_module_version": "1.5.0",
       "_view_name": "HBoxView",
       "box_style": "",
       "children": [
        "IPY_MODEL_ca2e7283d1334e8fa24309e81c90594b",
        "IPY_MODEL_5adbfec5f54440ba84eeab36b3827edb",
        "IPY_MODEL_fa4ac45b9d47426793273b7889a2bc76"
       ],
       "layout": "IPY_MODEL_70a42b040b0b472c8efb542ba8d4f159"
      }
     },
     "3a96fb9f55844b0d8daaa8f1495c9aa6": {
      "model_module": "@jupyter-widgets/controls",
      "model_module_version": "1.5.0",
      "model_name": "DescriptionStyleModel",
      "state": {
       "_model_module": "@jupyter-widgets/controls",
       "_model_module_version": "1.5.0",
       "_model_name": "DescriptionStyleModel",
       "_view_count": null,
       "_view_module": "@jupyter-widgets/base",
       "_view_module_version": "1.2.0",
       "_view_name": "StyleView",
       "description_width": ""
      }
     },
     "3f50d7c155ec44a79fe2cab0e64ec7f9": {
      "model_module": "@jupyter-widgets/controls",
      "model_module_version": "1.5.0",
      "model_name": "DescriptionStyleModel",
      "state": {
       "_model_module": "@jupyter-widgets/controls",
       "_model_module_version": "1.5.0",
       "_model_name": "DescriptionStyleModel",
       "_view_count": null,
       "_view_module": "@jupyter-widgets/base",
       "_view_module_version": "1.2.0",
       "_view_name": "StyleView",
       "description_width": ""
      }
     },
     "509f5292fab84b239a1364231b173449": {
      "model_module": "@jupyter-widgets/base",
      "model_module_version": "1.2.0",
      "model_name": "LayoutModel",
      "state": {
       "_model_module": "@jupyter-widgets/base",
       "_model_module_version": "1.2.0",
       "_model_name": "LayoutModel",
       "_view_count": null,
       "_view_module": "@jupyter-widgets/base",
       "_view_module_version": "1.2.0",
       "_view_name": "LayoutView",
       "align_content": null,
       "align_items": null,
       "align_self": null,
       "border": null,
       "bottom": null,
       "display": null,
       "flex": null,
       "flex_flow": null,
       "grid_area": null,
       "grid_auto_columns": null,
       "grid_auto_flow": null,
       "grid_auto_rows": null,
       "grid_column": null,
       "grid_gap": null,
       "grid_row": null,
       "grid_template_areas": null,
       "grid_template_columns": null,
       "grid_template_rows": null,
       "height": null,
       "justify_content": null,
       "justify_items": null,
       "left": null,
       "margin": null,
       "max_height": null,
       "max_width": null,
       "min_height": null,
       "min_width": null,
       "object_fit": null,
       "object_position": null,
       "order": null,
       "overflow": null,
       "overflow_x": null,
       "overflow_y": null,
       "padding": null,
       "right": null,
       "top": null,
       "visibility": null,
       "width": null
      }
     },
     "5147a81a007749d49aa420435be6e82d": {
      "model_module": "@jupyter-widgets/controls",
      "model_module_version": "1.5.0",
      "model_name": "FloatProgressModel",
      "state": {
       "_dom_classes": [],
       "_model_module": "@jupyter-widgets/controls",
       "_model_module_version": "1.5.0",
       "_model_name": "FloatProgressModel",
       "_view_count": null,
       "_view_module": "@jupyter-widgets/controls",
       "_view_module_version": "1.5.0",
       "_view_name": "ProgressView",
       "bar_style": "success",
       "description": "",
       "description_tooltip": null,
       "layout": "IPY_MODEL_99b478dd873a491985e26173e1ec6362",
       "max": 665.0,
       "min": 0.0,
       "orientation": "horizontal",
       "style": "IPY_MODEL_f96d6721ba7e4690896bd2f8e64702de",
       "value": 665.0
      }
     },
     "5299373934da4ab3abd74a00be3e1436": {
      "model_module": "@jupyter-widgets/controls",
      "model_module_version": "1.5.0",
      "model_name": "HBoxModel",
      "state": {
       "_dom_classes": [],
       "_model_module": "@jupyter-widgets/controls",
       "_model_module_version": "1.5.0",
       "_model_name": "HBoxModel",
       "_view_count": null,
       "_view_module": "@jupyter-widgets/controls",
       "_view_module_version": "1.5.0",
       "_view_name": "HBoxView",
       "box_style": "",
       "children": [
        "IPY_MODEL_0968331e67ec4d3a8401ccfdffeaeee6",
        "IPY_MODEL_dc21b2aa5f2f4030a52ad6de836c8b6f",
        "IPY_MODEL_b45c5e20709c4c8b8a5158bf54f89d0f"
       ],
       "layout": "IPY_MODEL_c15cdc5d82594af0b9a43e4536dea965"
      }
     },
     "52cae3c82859463fbba754143d7ad116": {
      "model_module": "@jupyter-widgets/base",
      "model_module_version": "1.2.0",
      "model_name": "LayoutModel",
      "state": {
       "_model_module": "@jupyter-widgets/base",
       "_model_module_version": "1.2.0",
       "_model_name": "LayoutModel",
       "_view_count": null,
       "_view_module": "@jupyter-widgets/base",
       "_view_module_version": "1.2.0",
       "_view_name": "LayoutView",
       "align_content": null,
       "align_items": null,
       "align_self": null,
       "border": null,
       "bottom": null,
       "display": null,
       "flex": null,
       "flex_flow": null,
       "grid_area": null,
       "grid_auto_columns": null,
       "grid_auto_flow": null,
       "grid_auto_rows": null,
       "grid_column": null,
       "grid_gap": null,
       "grid_row": null,
       "grid_template_areas": null,
       "grid_template_columns": null,
       "grid_template_rows": null,
       "height": null,
       "justify_content": null,
       "justify_items": null,
       "left": null,
       "margin": null,
       "max_height": null,
       "max_width": null,
       "min_height": null,
       "min_width": null,
       "object_fit": null,
       "object_position": null,
       "order": null,
       "overflow": null,
       "overflow_x": null,
       "overflow_y": null,
       "padding": null,
       "right": null,
       "top": null,
       "visibility": null,
       "width": null
      }
     },
     "53b7549ad52746059957d603435cc30a": {
      "model_module": "@jupyter-widgets/controls",
      "model_module_version": "1.5.0",
      "model_name": "DescriptionStyleModel",
      "state": {
       "_model_module": "@jupyter-widgets/controls",
       "_model_module_version": "1.5.0",
       "_model_name": "DescriptionStyleModel",
       "_view_count": null,
       "_view_module": "@jupyter-widgets/base",
       "_view_module_version": "1.2.0",
       "_view_name": "StyleView",
       "description_width": ""
      }
     },
     "5adbfec5f54440ba84eeab36b3827edb": {
      "model_module": "@jupyter-widgets/controls",
      "model_module_version": "1.5.0",
      "model_name": "FloatProgressModel",
      "state": {
       "_dom_classes": [],
       "_model_module": "@jupyter-widgets/controls",
       "_model_module_version": "1.5.0",
       "_model_name": "FloatProgressModel",
       "_view_count": null,
       "_view_module": "@jupyter-widgets/controls",
       "_view_module_version": "1.5.0",
       "_view_name": "ProgressView",
       "bar_style": "success",
       "description": "",
       "description_tooltip": null,
       "layout": "IPY_MODEL_509f5292fab84b239a1364231b173449",
       "max": 1355256.0,
       "min": 0.0,
       "orientation": "horizontal",
       "style": "IPY_MODEL_8c4242c23ee444ae907b76c8c2e3b4cc",
       "value": 1355256.0
      }
     },
     "61ac298031884636a581a4131535f864": {
      "model_module": "@jupyter-widgets/controls",
      "model_module_version": "1.5.0",
      "model_name": "HTMLModel",
      "state": {
       "_dom_classes": [],
       "_model_module": "@jupyter-widgets/controls",
       "_model_module_version": "1.5.0",
       "_model_name": "HTMLModel",
       "_view_count": null,
       "_view_module": "@jupyter-widgets/controls",
       "_view_module_version": "1.5.0",
       "_view_name": "HTMLView",
       "description": "",
       "description_tooltip": null,
       "layout": "IPY_MODEL_d4579a16176942eebc9f7a3bfb7fcf5d",
       "placeholder": "​",
       "style": "IPY_MODEL_2f07d45e8f874692b1da0c65c833c383",
       "value": " 456k/456k [00:00&lt;00:00, 27.3MB/s]"
      }
     },
     "62813019586948a89051becf3ebc5dfc": {
      "model_module": "@jupyter-widgets/controls",
      "model_module_version": "1.5.0",
      "model_name": "DescriptionStyleModel",
      "state": {
       "_model_module": "@jupyter-widgets/controls",
       "_model_module_version": "1.5.0",
       "_model_name": "DescriptionStyleModel",
       "_view_count": null,
       "_view_module": "@jupyter-widgets/base",
       "_view_module_version": "1.2.0",
       "_view_name": "StyleView",
       "description_width": ""
      }
     },
     "699ac849ed6f40d88d4359e80807f846": {
      "model_module": "@jupyter-widgets/controls",
      "model_module_version": "1.5.0",
      "model_name": "HBoxModel",
      "state": {
       "_dom_classes": [],
       "_model_module": "@jupyter-widgets/controls",
       "_model_module_version": "1.5.0",
       "_model_name": "HBoxModel",
       "_view_count": null,
       "_view_module": "@jupyter-widgets/controls",
       "_view_module_version": "1.5.0",
       "_view_name": "HBoxView",
       "box_style": "",
       "children": [
        "IPY_MODEL_8545f93d1c5e4b27bb461a33b9bf086f",
        "IPY_MODEL_906e404348df467db79ddfc82dff0bb9",
        "IPY_MODEL_144870af55644852a14937cd625f672a"
       ],
       "layout": "IPY_MODEL_c4f5d5e82d594bd18a4d9cb3ab67d7d8"
      }
     },
     "70a42b040b0b472c8efb542ba8d4f159": {
      "model_module": "@jupyter-widgets/base",
      "model_module_version": "1.2.0",
      "model_name": "LayoutModel",
      "state": {
       "_model_module": "@jupyter-widgets/base",
       "_model_module_version": "1.2.0",
       "_model_name": "LayoutModel",
       "_view_count": null,
       "_view_module": "@jupyter-widgets/base",
       "_view_module_version": "1.2.0",
       "_view_name": "LayoutView",
       "align_content": null,
       "align_items": null,
       "align_self": null,
       "border": null,
       "bottom": null,
       "display": null,
       "flex": null,
       "flex_flow": null,
       "grid_area": null,
       "grid_auto_columns": null,
       "grid_auto_flow": null,
       "grid_auto_rows": null,
       "grid_column": null,
       "grid_gap": null,
       "grid_row": null,
       "grid_template_areas": null,
       "grid_template_columns": null,
       "grid_template_rows": null,
       "height": null,
       "justify_content": null,
       "justify_items": null,
       "left": null,
       "margin": null,
       "max_height": null,
       "max_width": null,
       "min_height": null,
       "min_width": null,
       "object_fit": null,
       "object_position": null,
       "order": null,
       "overflow": null,
       "overflow_x": null,
       "overflow_y": null,
       "padding": null,
       "right": null,
       "top": null,
       "visibility": null,
       "width": null
      }
     },
     "71bfc262c7994f00a140be2f0d97f85a": {
      "model_module": "@jupyter-widgets/controls",
      "model_module_version": "1.5.0",
      "model_name": "HBoxModel",
      "state": {
       "_dom_classes": [],
       "_model_module": "@jupyter-widgets/controls",
       "_model_module_version": "1.5.0",
       "_model_name": "HBoxModel",
       "_view_count": null,
       "_view_module": "@jupyter-widgets/controls",
       "_view_module_version": "1.5.0",
       "_view_name": "HBoxView",
       "box_style": "",
       "children": [
        "IPY_MODEL_7a8e59af371245e28f3c12769ae1196d",
        "IPY_MODEL_d9160966e9ee437a89deb730a0ba57a9",
        "IPY_MODEL_61ac298031884636a581a4131535f864"
       ],
       "layout": "IPY_MODEL_d86cc174c621458782f322ca45964b8b"
      }
     },
     "7355872a091d4fcaa052b692e91ce3fd": {
      "model_module": "@jupyter-widgets/base",
      "model_module_version": "1.2.0",
      "model_name": "LayoutModel",
      "state": {
       "_model_module": "@jupyter-widgets/base",
       "_model_module_version": "1.2.0",
       "_model_name": "LayoutModel",
       "_view_count": null,
       "_view_module": "@jupyter-widgets/base",
       "_view_module_version": "1.2.0",
       "_view_name": "LayoutView",
       "align_content": null,
       "align_items": null,
       "align_self": null,
       "border": null,
       "bottom": null,
       "display": null,
       "flex": null,
       "flex_flow": null,
       "grid_area": null,
       "grid_auto_columns": null,
       "grid_auto_flow": null,
       "grid_auto_rows": null,
       "grid_column": null,
       "grid_gap": null,
       "grid_row": null,
       "grid_template_areas": null,
       "grid_template_columns": null,
       "grid_template_rows": null,
       "height": null,
       "justify_content": null,
       "justify_items": null,
       "left": null,
       "margin": null,
       "max_height": null,
       "max_width": null,
       "min_height": null,
       "min_width": null,
       "object_fit": null,
       "object_position": null,
       "order": null,
       "overflow": null,
       "overflow_x": null,
       "overflow_y": null,
       "padding": null,
       "right": null,
       "top": null,
       "visibility": null,
       "width": null
      }
     },
     "7618dbe358b44ca6b9ce8aa100657125": {
      "model_module": "@jupyter-widgets/base",
      "model_module_version": "1.2.0",
      "model_name": "LayoutModel",
      "state": {
       "_model_module": "@jupyter-widgets/base",
       "_model_module_version": "1.2.0",
       "_model_name": "LayoutModel",
       "_view_count": null,
       "_view_module": "@jupyter-widgets/base",
       "_view_module_version": "1.2.0",
       "_view_name": "LayoutView",
       "align_content": null,
       "align_items": null,
       "align_self": null,
       "border": null,
       "bottom": null,
       "display": null,
       "flex": null,
       "flex_flow": null,
       "grid_area": null,
       "grid_auto_columns": null,
       "grid_auto_flow": null,
       "grid_auto_rows": null,
       "grid_column": null,
       "grid_gap": null,
       "grid_row": null,
       "grid_template_areas": null,
       "grid_template_columns": null,
       "grid_template_rows": null,
       "height": null,
       "justify_content": null,
       "justify_items": null,
       "left": null,
       "margin": null,
       "max_height": null,
       "max_width": null,
       "min_height": null,
       "min_width": null,
       "object_fit": null,
       "object_position": null,
       "order": null,
       "overflow": null,
       "overflow_x": null,
       "overflow_y": null,
       "padding": null,
       "right": null,
       "top": null,
       "visibility": null,
       "width": null
      }
     },
     "7a38a8f3131f48aa9e04daf6383a3502": {
      "model_module": "@jupyter-widgets/controls",
      "model_module_version": "1.5.0",
      "model_name": "DescriptionStyleModel",
      "state": {
       "_model_module": "@jupyter-widgets/controls",
       "_model_module_version": "1.5.0",
       "_model_name": "DescriptionStyleModel",
       "_view_count": null,
       "_view_module": "@jupyter-widgets/base",
       "_view_module_version": "1.2.0",
       "_view_name": "StyleView",
       "description_width": ""
      }
     },
     "7a8e59af371245e28f3c12769ae1196d": {
      "model_module": "@jupyter-widgets/controls",
      "model_module_version": "1.5.0",
      "model_name": "HTMLModel",
      "state": {
       "_dom_classes": [],
       "_model_module": "@jupyter-widgets/controls",
       "_model_module_version": "1.5.0",
       "_model_name": "HTMLModel",
       "_view_count": null,
       "_view_module": "@jupyter-widgets/controls",
       "_view_module_version": "1.5.0",
       "_view_name": "HTMLView",
       "description": "",
       "description_tooltip": null,
       "layout": "IPY_MODEL_8cf390d35a004c4e965775a31985c4c0",
       "placeholder": "​",
       "style": "IPY_MODEL_dd6e73d630cd4890a9b5f17ebd82e45d",
       "value": "merges.txt: 100%"
      }
     },
     "80b29547c7f14f93a0faa223f1c4f87b": {
      "model_module": "@jupyter-widgets/base",
      "model_module_version": "1.2.0",
      "model_name": "LayoutModel",
      "state": {
       "_model_module": "@jupyter-widgets/base",
       "_model_module_version": "1.2.0",
       "_model_name": "LayoutModel",
       "_view_count": null,
       "_view_module": "@jupyter-widgets/base",
       "_view_module_version": "1.2.0",
       "_view_name": "LayoutView",
       "align_content": null,
       "align_items": null,
       "align_self": null,
       "border": null,
       "bottom": null,
       "display": null,
       "flex": null,
       "flex_flow": null,
       "grid_area": null,
       "grid_auto_columns": null,
       "grid_auto_flow": null,
       "grid_auto_rows": null,
       "grid_column": null,
       "grid_gap": null,
       "grid_row": null,
       "grid_template_areas": null,
       "grid_template_columns": null,
       "grid_template_rows": null,
       "height": null,
       "justify_content": null,
       "justify_items": null,
       "left": null,
       "margin": null,
       "max_height": null,
       "max_width": null,
       "min_height": null,
       "min_width": null,
       "object_fit": null,
       "object_position": null,
       "order": null,
       "overflow": null,
       "overflow_x": null,
       "overflow_y": null,
       "padding": null,
       "right": null,
       "top": null,
       "visibility": null,
       "width": null
      }
     },
     "8545f93d1c5e4b27bb461a33b9bf086f": {
      "model_module": "@jupyter-widgets/controls",
      "model_module_version": "1.5.0",
      "model_name": "HTMLModel",
      "state": {
       "_dom_classes": [],
       "_model_module": "@jupyter-widgets/controls",
       "_model_module_version": "1.5.0",
       "_model_name": "HTMLModel",
       "_view_count": null,
       "_view_module": "@jupyter-widgets/controls",
       "_view_module_version": "1.5.0",
       "_view_name": "HTMLView",
       "description": "",
       "description_tooltip": null,
       "layout": "IPY_MODEL_abc335389c7c483a90703101d2f3163e",
       "placeholder": "​",
       "style": "IPY_MODEL_86a532fb4b2647bbb7f968f72df54a5b",
       "value": "vocab.json: 100%"
      }
     },
     "86a532fb4b2647bbb7f968f72df54a5b": {
      "model_module": "@jupyter-widgets/controls",
      "model_module_version": "1.5.0",
      "model_name": "DescriptionStyleModel",
      "state": {
       "_model_module": "@jupyter-widgets/controls",
       "_model_module_version": "1.5.0",
       "_model_name": "DescriptionStyleModel",
       "_view_count": null,
       "_view_module": "@jupyter-widgets/base",
       "_view_module_version": "1.2.0",
       "_view_name": "StyleView",
       "description_width": ""
      }
     },
     "86a778ae6c9a49ad99e7ab954090d674": {
      "model_module": "@jupyter-widgets/controls",
      "model_module_version": "1.5.0",
      "model_name": "ProgressStyleModel",
      "state": {
       "_model_module": "@jupyter-widgets/controls",
       "_model_module_version": "1.5.0",
       "_model_name": "ProgressStyleModel",
       "_view_count": null,
       "_view_module": "@jupyter-widgets/base",
       "_view_module_version": "1.2.0",
       "_view_name": "StyleView",
       "bar_color": null,
       "description_width": ""
      }
     },
     "876ffe9364454814bb34adfe8b9eea04": {
      "model_module": "@jupyter-widgets/controls",
      "model_module_version": "1.5.0",
      "model_name": "DescriptionStyleModel",
      "state": {
       "_model_module": "@jupyter-widgets/controls",
       "_model_module_version": "1.5.0",
       "_model_name": "DescriptionStyleModel",
       "_view_count": null,
       "_view_module": "@jupyter-widgets/base",
       "_view_module_version": "1.2.0",
       "_view_name": "StyleView",
       "description_width": ""
      }
     },
     "8c4242c23ee444ae907b76c8c2e3b4cc": {
      "model_module": "@jupyter-widgets/controls",
      "model_module_version": "1.5.0",
      "model_name": "ProgressStyleModel",
      "state": {
       "_model_module": "@jupyter-widgets/controls",
       "_model_module_version": "1.5.0",
       "_model_name": "ProgressStyleModel",
       "_view_count": null,
       "_view_module": "@jupyter-widgets/base",
       "_view_module_version": "1.2.0",
       "_view_name": "StyleView",
       "bar_color": null,
       "description_width": ""
      }
     },
     "8cf390d35a004c4e965775a31985c4c0": {
      "model_module": "@jupyter-widgets/base",
      "model_module_version": "1.2.0",
      "model_name": "LayoutModel",
      "state": {
       "_model_module": "@jupyter-widgets/base",
       "_model_module_version": "1.2.0",
       "_model_name": "LayoutModel",
       "_view_count": null,
       "_view_module": "@jupyter-widgets/base",
       "_view_module_version": "1.2.0",
       "_view_name": "LayoutView",
       "align_content": null,
       "align_items": null,
       "align_self": null,
       "border": null,
       "bottom": null,
       "display": null,
       "flex": null,
       "flex_flow": null,
       "grid_area": null,
       "grid_auto_columns": null,
       "grid_auto_flow": null,
       "grid_auto_rows": null,
       "grid_column": null,
       "grid_gap": null,
       "grid_row": null,
       "grid_template_areas": null,
       "grid_template_columns": null,
       "grid_template_rows": null,
       "height": null,
       "justify_content": null,
       "justify_items": null,
       "left": null,
       "margin": null,
       "max_height": null,
       "max_width": null,
       "min_height": null,
       "min_width": null,
       "object_fit": null,
       "object_position": null,
       "order": null,
       "overflow": null,
       "overflow_x": null,
       "overflow_y": null,
       "padding": null,
       "right": null,
       "top": null,
       "visibility": null,
       "width": null
      }
     },
     "906e404348df467db79ddfc82dff0bb9": {
      "model_module": "@jupyter-widgets/controls",
      "model_module_version": "1.5.0",
      "model_name": "FloatProgressModel",
      "state": {
       "_dom_classes": [],
       "_model_module": "@jupyter-widgets/controls",
       "_model_module_version": "1.5.0",
       "_model_name": "FloatProgressModel",
       "_view_count": null,
       "_view_module": "@jupyter-widgets/controls",
       "_view_module_version": "1.5.0",
       "_view_name": "ProgressView",
       "bar_style": "success",
       "description": "",
       "description_tooltip": null,
       "layout": "IPY_MODEL_7618dbe358b44ca6b9ce8aa100657125",
       "max": 1042301.0,
       "min": 0.0,
       "orientation": "horizontal",
       "style": "IPY_MODEL_86a778ae6c9a49ad99e7ab954090d674",
       "value": 1042301.0
      }
     },
     "99b478dd873a491985e26173e1ec6362": {
      "model_module": "@jupyter-widgets/base",
      "model_module_version": "1.2.0",
      "model_name": "LayoutModel",
      "state": {
       "_model_module": "@jupyter-widgets/base",
       "_model_module_version": "1.2.0",
       "_model_name": "LayoutModel",
       "_view_count": null,
       "_view_module": "@jupyter-widgets/base",
       "_view_module_version": "1.2.0",
       "_view_name": "LayoutView",
       "align_content": null,
       "align_items": null,
       "align_self": null,
       "border": null,
       "bottom": null,
       "display": null,
       "flex": null,
       "flex_flow": null,
       "grid_area": null,
       "grid_auto_columns": null,
       "grid_auto_flow": null,
       "grid_auto_rows": null,
       "grid_column": null,
       "grid_gap": null,
       "grid_row": null,
       "grid_template_areas": null,
       "grid_template_columns": null,
       "grid_template_rows": null,
       "height": null,
       "justify_content": null,
       "justify_items": null,
       "left": null,
       "margin": null,
       "max_height": null,
       "max_width": null,
       "min_height": null,
       "min_width": null,
       "object_fit": null,
       "object_position": null,
       "order": null,
       "overflow": null,
       "overflow_x": null,
       "overflow_y": null,
       "padding": null,
       "right": null,
       "top": null,
       "visibility": null,
       "width": null
      }
     },
     "abc335389c7c483a90703101d2f3163e": {
      "model_module": "@jupyter-widgets/base",
      "model_module_version": "1.2.0",
      "model_name": "LayoutModel",
      "state": {
       "_model_module": "@jupyter-widgets/base",
       "_model_module_version": "1.2.0",
       "_model_name": "LayoutModel",
       "_view_count": null,
       "_view_module": "@jupyter-widgets/base",
       "_view_module_version": "1.2.0",
       "_view_name": "LayoutView",
       "align_content": null,
       "align_items": null,
       "align_self": null,
       "border": null,
       "bottom": null,
       "display": null,
       "flex": null,
       "flex_flow": null,
       "grid_area": null,
       "grid_auto_columns": null,
       "grid_auto_flow": null,
       "grid_auto_rows": null,
       "grid_column": null,
       "grid_gap": null,
       "grid_row": null,
       "grid_template_areas": null,
       "grid_template_columns": null,
       "grid_template_rows": null,
       "height": null,
       "justify_content": null,
       "justify_items": null,
       "left": null,
       "margin": null,
       "max_height": null,
       "max_width": null,
       "min_height": null,
       "min_width": null,
       "object_fit": null,
       "object_position": null,
       "order": null,
       "overflow": null,
       "overflow_x": null,
       "overflow_y": null,
       "padding": null,
       "right": null,
       "top": null,
       "visibility": null,
       "width": null
      }
     },
     "b45c5e20709c4c8b8a5158bf54f89d0f": {
      "model_module": "@jupyter-widgets/controls",
      "model_module_version": "1.5.0",
      "model_name": "HTMLModel",
      "state": {
       "_dom_classes": [],
       "_model_module": "@jupyter-widgets/controls",
       "_model_module_version": "1.5.0",
       "_model_name": "HTMLModel",
       "_view_count": null,
       "_view_module": "@jupyter-widgets/controls",
       "_view_module_version": "1.5.0",
       "_view_name": "HTMLView",
       "description": "",
       "description_tooltip": null,
       "layout": "IPY_MODEL_7355872a091d4fcaa052b692e91ce3fd",
       "placeholder": "​",
       "style": "IPY_MODEL_3064299b3d4e4dfc868b9e49c1a2d299",
       "value": " 26.0/26.0 [00:00&lt;00:00, 2.18kB/s]"
      }
     },
     "be15bfee9feb4270867577d61f7abf05": {
      "model_module": "@jupyter-widgets/base",
      "model_module_version": "1.2.0",
      "model_name": "LayoutModel",
      "state": {
       "_model_module": "@jupyter-widgets/base",
       "_model_module_version": "1.2.0",
       "_model_name": "LayoutModel",
       "_view_count": null,
       "_view_module": "@jupyter-widgets/base",
       "_view_module_version": "1.2.0",
       "_view_name": "LayoutView",
       "align_content": null,
       "align_items": null,
       "align_self": null,
       "border": null,
       "bottom": null,
       "display": null,
       "flex": null,
       "flex_flow": null,
       "grid_area": null,
       "grid_auto_columns": null,
       "grid_auto_flow": null,
       "grid_auto_rows": null,
       "grid_column": null,
       "grid_gap": null,
       "grid_row": null,
       "grid_template_areas": null,
       "grid_template_columns": null,
       "grid_template_rows": null,
       "height": null,
       "justify_content": null,
       "justify_items": null,
       "left": null,
       "margin": null,
       "max_height": null,
       "max_width": null,
       "min_height": null,
       "min_width": null,
       "object_fit": null,
       "object_position": null,
       "order": null,
       "overflow": null,
       "overflow_x": null,
       "overflow_y": null,
       "padding": null,
       "right": null,
       "top": null,
       "visibility": null,
       "width": null
      }
     },
     "c15cdc5d82594af0b9a43e4536dea965": {
      "model_module": "@jupyter-widgets/base",
      "model_module_version": "1.2.0",
      "model_name": "LayoutModel",
      "state": {
       "_model_module": "@jupyter-widgets/base",
       "_model_module_version": "1.2.0",
       "_model_name": "LayoutModel",
       "_view_count": null,
       "_view_module": "@jupyter-widgets/base",
       "_view_module_version": "1.2.0",
       "_view_name": "LayoutView",
       "align_content": null,
       "align_items": null,
       "align_self": null,
       "border": null,
       "bottom": null,
       "display": null,
       "flex": null,
       "flex_flow": null,
       "grid_area": null,
       "grid_auto_columns": null,
       "grid_auto_flow": null,
       "grid_auto_rows": null,
       "grid_column": null,
       "grid_gap": null,
       "grid_row": null,
       "grid_template_areas": null,
       "grid_template_columns": null,
       "grid_template_rows": null,
       "height": null,
       "justify_content": null,
       "justify_items": null,
       "left": null,
       "margin": null,
       "max_height": null,
       "max_width": null,
       "min_height": null,
       "min_width": null,
       "object_fit": null,
       "object_position": null,
       "order": null,
       "overflow": null,
       "overflow_x": null,
       "overflow_y": null,
       "padding": null,
       "right": null,
       "top": null,
       "visibility": null,
       "width": null
      }
     },
     "c4f5d5e82d594bd18a4d9cb3ab67d7d8": {
      "model_module": "@jupyter-widgets/base",
      "model_module_version": "1.2.0",
      "model_name": "LayoutModel",
      "state": {
       "_model_module": "@jupyter-widgets/base",
       "_model_module_version": "1.2.0",
       "_model_name": "LayoutModel",
       "_view_count": null,
       "_view_module": "@jupyter-widgets/base",
       "_view_module_version": "1.2.0",
       "_view_name": "LayoutView",
       "align_content": null,
       "align_items": null,
       "align_self": null,
       "border": null,
       "bottom": null,
       "display": null,
       "flex": null,
       "flex_flow": null,
       "grid_area": null,
       "grid_auto_columns": null,
       "grid_auto_flow": null,
       "grid_auto_rows": null,
       "grid_column": null,
       "grid_gap": null,
       "grid_row": null,
       "grid_template_areas": null,
       "grid_template_columns": null,
       "grid_template_rows": null,
       "height": null,
       "justify_content": null,
       "justify_items": null,
       "left": null,
       "margin": null,
       "max_height": null,
       "max_width": null,
       "min_height": null,
       "min_width": null,
       "object_fit": null,
       "object_position": null,
       "order": null,
       "overflow": null,
       "overflow_x": null,
       "overflow_y": null,
       "padding": null,
       "right": null,
       "top": null,
       "visibility": null,
       "width": null
      }
     },
     "c9b7dad14e6647dc98e7db757500a7c7": {
      "model_module": "@jupyter-widgets/base",
      "model_module_version": "1.2.0",
      "model_name": "LayoutModel",
      "state": {
       "_model_module": "@jupyter-widgets/base",
       "_model_module_version": "1.2.0",
       "_model_name": "LayoutModel",
       "_view_count": null,
       "_view_module": "@jupyter-widgets/base",
       "_view_module_version": "1.2.0",
       "_view_name": "LayoutView",
       "align_content": null,
       "align_items": null,
       "align_self": null,
       "border": null,
       "bottom": null,
       "display": null,
       "flex": null,
       "flex_flow": null,
       "grid_area": null,
       "grid_auto_columns": null,
       "grid_auto_flow": null,
       "grid_auto_rows": null,
       "grid_column": null,
       "grid_gap": null,
       "grid_row": null,
       "grid_template_areas": null,
       "grid_template_columns": null,
       "grid_template_rows": null,
       "height": null,
       "justify_content": null,
       "justify_items": null,
       "left": null,
       "margin": null,
       "max_height": null,
       "max_width": null,
       "min_height": null,
       "min_width": null,
       "object_fit": null,
       "object_position": null,
       "order": null,
       "overflow": null,
       "overflow_x": null,
       "overflow_y": null,
       "padding": null,
       "right": null,
       "top": null,
       "visibility": null,
       "width": null
      }
     },
     "ca2e7283d1334e8fa24309e81c90594b": {
      "model_module": "@jupyter-widgets/controls",
      "model_module_version": "1.5.0",
      "model_name": "HTMLModel",
      "state": {
       "_dom_classes": [],
       "_model_module": "@jupyter-widgets/controls",
       "_model_module_version": "1.5.0",
       "_model_name": "HTMLModel",
       "_view_count": null,
       "_view_module": "@jupyter-widgets/controls",
       "_view_module_version": "1.5.0",
       "_view_name": "HTMLView",
       "description": "",
       "description_tooltip": null,
       "layout": "IPY_MODEL_f9d2d6c167b24b50b66974771108fea9",
       "placeholder": "​",
       "style": "IPY_MODEL_3a96fb9f55844b0d8daaa8f1495c9aa6",
       "value": "tokenizer.json: 100%"
      }
     },
     "ce276d8104f54d909d3e3e4705c63f80": {
      "model_module": "@jupyter-widgets/base",
      "model_module_version": "1.2.0",
      "model_name": "LayoutModel",
      "state": {
       "_model_module": "@jupyter-widgets/base",
       "_model_module_version": "1.2.0",
       "_model_name": "LayoutModel",
       "_view_count": null,
       "_view_module": "@jupyter-widgets/base",
       "_view_module_version": "1.2.0",
       "_view_name": "LayoutView",
       "align_content": null,
       "align_items": null,
       "align_self": null,
       "border": null,
       "bottom": null,
       "display": null,
       "flex": null,
       "flex_flow": null,
       "grid_area": null,
       "grid_auto_columns": null,
       "grid_auto_flow": null,
       "grid_auto_rows": null,
       "grid_column": null,
       "grid_gap": null,
       "grid_row": null,
       "grid_template_areas": null,
       "grid_template_columns": null,
       "grid_template_rows": null,
       "height": null,
       "justify_content": null,
       "justify_items": null,
       "left": null,
       "margin": null,
       "max_height": null,
       "max_width": null,
       "min_height": null,
       "min_width": null,
       "object_fit": null,
       "object_position": null,
       "order": null,
       "overflow": null,
       "overflow_x": null,
       "overflow_y": null,
       "padding": null,
       "right": null,
       "top": null,
       "visibility": null,
       "width": null
      }
     },
     "d4579a16176942eebc9f7a3bfb7fcf5d": {
      "model_module": "@jupyter-widgets/base",
      "model_module_version": "1.2.0",
      "model_name": "LayoutModel",
      "state": {
       "_model_module": "@jupyter-widgets/base",
       "_model_module_version": "1.2.0",
       "_model_name": "LayoutModel",
       "_view_count": null,
       "_view_module": "@jupyter-widgets/base",
       "_view_module_version": "1.2.0",
       "_view_name": "LayoutView",
       "align_content": null,
       "align_items": null,
       "align_self": null,
       "border": null,
       "bottom": null,
       "display": null,
       "flex": null,
       "flex_flow": null,
       "grid_area": null,
       "grid_auto_columns": null,
       "grid_auto_flow": null,
       "grid_auto_rows": null,
       "grid_column": null,
       "grid_gap": null,
       "grid_row": null,
       "grid_template_areas": null,
       "grid_template_columns": null,
       "grid_template_rows": null,
       "height": null,
       "justify_content": null,
       "justify_items": null,
       "left": null,
       "margin": null,
       "max_height": null,
       "max_width": null,
       "min_height": null,
       "min_width": null,
       "object_fit": null,
       "object_position": null,
       "order": null,
       "overflow": null,
       "overflow_x": null,
       "overflow_y": null,
       "padding": null,
       "right": null,
       "top": null,
       "visibility": null,
       "width": null
      }
     },
     "d86cc174c621458782f322ca45964b8b": {
      "model_module": "@jupyter-widgets/base",
      "model_module_version": "1.2.0",
      "model_name": "LayoutModel",
      "state": {
       "_model_module": "@jupyter-widgets/base",
       "_model_module_version": "1.2.0",
       "_model_name": "LayoutModel",
       "_view_count": null,
       "_view_module": "@jupyter-widgets/base",
       "_view_module_version": "1.2.0",
       "_view_name": "LayoutView",
       "align_content": null,
       "align_items": null,
       "align_self": null,
       "border": null,
       "bottom": null,
       "display": null,
       "flex": null,
       "flex_flow": null,
       "grid_area": null,
       "grid_auto_columns": null,
       "grid_auto_flow": null,
       "grid_auto_rows": null,
       "grid_column": null,
       "grid_gap": null,
       "grid_row": null,
       "grid_template_areas": null,
       "grid_template_columns": null,
       "grid_template_rows": null,
       "height": null,
       "justify_content": null,
       "justify_items": null,
       "left": null,
       "margin": null,
       "max_height": null,
       "max_width": null,
       "min_height": null,
       "min_width": null,
       "object_fit": null,
       "object_position": null,
       "order": null,
       "overflow": null,
       "overflow_x": null,
       "overflow_y": null,
       "padding": null,
       "right": null,
       "top": null,
       "visibility": null,
       "width": null
      }
     },
     "d9160966e9ee437a89deb730a0ba57a9": {
      "model_module": "@jupyter-widgets/controls",
      "model_module_version": "1.5.0",
      "model_name": "FloatProgressModel",
      "state": {
       "_dom_classes": [],
       "_model_module": "@jupyter-widgets/controls",
       "_model_module_version": "1.5.0",
       "_model_name": "FloatProgressModel",
       "_view_count": null,
       "_view_module": "@jupyter-widgets/controls",
       "_view_module_version": "1.5.0",
       "_view_name": "ProgressView",
       "bar_style": "success",
       "description": "",
       "description_tooltip": null,
       "layout": "IPY_MODEL_52cae3c82859463fbba754143d7ad116",
       "max": 456318.0,
       "min": 0.0,
       "orientation": "horizontal",
       "style": "IPY_MODEL_e06724d24696422caddf0e3539b45fae",
       "value": 456318.0
      }
     },
     "db2f8262b58f40f4befff2abb81ce26a": {
      "model_module": "@jupyter-widgets/controls",
      "model_module_version": "1.5.0",
      "model_name": "HBoxModel",
      "state": {
       "_dom_classes": [],
       "_model_module": "@jupyter-widgets/controls",
       "_model_module_version": "1.5.0",
       "_model_name": "HBoxModel",
       "_view_count": null,
       "_view_module": "@jupyter-widgets/controls",
       "_view_module_version": "1.5.0",
       "_view_name": "HBoxView",
       "box_style": "",
       "children": [
        "IPY_MODEL_ff5c4cfbb9bd4466bad5b5dd789fb737",
        "IPY_MODEL_5147a81a007749d49aa420435be6e82d",
        "IPY_MODEL_34a9cdc6f8e94bbe8195e149079add98"
       ],
       "layout": "IPY_MODEL_ce276d8104f54d909d3e3e4705c63f80"
      }
     },
     "dc21b2aa5f2f4030a52ad6de836c8b6f": {
      "model_module": "@jupyter-widgets/controls",
      "model_module_version": "1.5.0",
      "model_name": "FloatProgressModel",
      "state": {
       "_dom_classes": [],
       "_model_module": "@jupyter-widgets/controls",
       "_model_module_version": "1.5.0",
       "_model_name": "FloatProgressModel",
       "_view_count": null,
       "_view_module": "@jupyter-widgets/controls",
       "_view_module_version": "1.5.0",
       "_view_name": "ProgressView",
       "bar_style": "success",
       "description": "",
       "description_tooltip": null,
       "layout": "IPY_MODEL_80b29547c7f14f93a0faa223f1c4f87b",
       "max": 26.0,
       "min": 0.0,
       "orientation": "horizontal",
       "style": "IPY_MODEL_19c74c08470740859f398b5e92185d88",
       "value": 26.0
      }
     },
     "dd6e73d630cd4890a9b5f17ebd82e45d": {
      "model_module": "@jupyter-widgets/controls",
      "model_module_version": "1.5.0",
      "model_name": "DescriptionStyleModel",
      "state": {
       "_model_module": "@jupyter-widgets/controls",
       "_model_module_version": "1.5.0",
       "_model_name": "DescriptionStyleModel",
       "_view_count": null,
       "_view_module": "@jupyter-widgets/base",
       "_view_module_version": "1.2.0",
       "_view_name": "StyleView",
       "description_width": ""
      }
     },
     "e06724d24696422caddf0e3539b45fae": {
      "model_module": "@jupyter-widgets/controls",
      "model_module_version": "1.5.0",
      "model_name": "ProgressStyleModel",
      "state": {
       "_model_module": "@jupyter-widgets/controls",
       "_model_module_version": "1.5.0",
       "_model_name": "ProgressStyleModel",
       "_view_count": null,
       "_view_module": "@jupyter-widgets/base",
       "_view_module_version": "1.2.0",
       "_view_name": "StyleView",
       "bar_color": null,
       "description_width": ""
      }
     },
     "ef84cd7c0ea246f8b077d59c58d03bcd": {
      "model_module": "@jupyter-widgets/base",
      "model_module_version": "1.2.0",
      "model_name": "LayoutModel",
      "state": {
       "_model_module": "@jupyter-widgets/base",
       "_model_module_version": "1.2.0",
       "_model_name": "LayoutModel",
       "_view_count": null,
       "_view_module": "@jupyter-widgets/base",
       "_view_module_version": "1.2.0",
       "_view_name": "LayoutView",
       "align_content": null,
       "align_items": null,
       "align_self": null,
       "border": null,
       "bottom": null,
       "display": null,
       "flex": null,
       "flex_flow": null,
       "grid_area": null,
       "grid_auto_columns": null,
       "grid_auto_flow": null,
       "grid_auto_rows": null,
       "grid_column": null,
       "grid_gap": null,
       "grid_row": null,
       "grid_template_areas": null,
       "grid_template_columns": null,
       "grid_template_rows": null,
       "height": null,
       "justify_content": null,
       "justify_items": null,
       "left": null,
       "margin": null,
       "max_height": null,
       "max_width": null,
       "min_height": null,
       "min_width": null,
       "object_fit": null,
       "object_position": null,
       "order": null,
       "overflow": null,
       "overflow_x": null,
       "overflow_y": null,
       "padding": null,
       "right": null,
       "top": null,
       "visibility": null,
       "width": null
      }
     },
     "f96d6721ba7e4690896bd2f8e64702de": {
      "model_module": "@jupyter-widgets/controls",
      "model_module_version": "1.5.0",
      "model_name": "ProgressStyleModel",
      "state": {
       "_model_module": "@jupyter-widgets/controls",
       "_model_module_version": "1.5.0",
       "_model_name": "ProgressStyleModel",
       "_view_count": null,
       "_view_module": "@jupyter-widgets/base",
       "_view_module_version": "1.2.0",
       "_view_name": "StyleView",
       "bar_color": null,
       "description_width": ""
      }
     },
     "f9d2d6c167b24b50b66974771108fea9": {
      "model_module": "@jupyter-widgets/base",
      "model_module_version": "1.2.0",
      "model_name": "LayoutModel",
      "state": {
       "_model_module": "@jupyter-widgets/base",
       "_model_module_version": "1.2.0",
       "_model_name": "LayoutModel",
       "_view_count": null,
       "_view_module": "@jupyter-widgets/base",
       "_view_module_version": "1.2.0",
       "_view_name": "LayoutView",
       "align_content": null,
       "align_items": null,
       "align_self": null,
       "border": null,
       "bottom": null,
       "display": null,
       "flex": null,
       "flex_flow": null,
       "grid_area": null,
       "grid_auto_columns": null,
       "grid_auto_flow": null,
       "grid_auto_rows": null,
       "grid_column": null,
       "grid_gap": null,
       "grid_row": null,
       "grid_template_areas": null,
       "grid_template_columns": null,
       "grid_template_rows": null,
       "height": null,
       "justify_content": null,
       "justify_items": null,
       "left": null,
       "margin": null,
       "max_height": null,
       "max_width": null,
       "min_height": null,
       "min_width": null,
       "object_fit": null,
       "object_position": null,
       "order": null,
       "overflow": null,
       "overflow_x": null,
       "overflow_y": null,
       "padding": null,
       "right": null,
       "top": null,
       "visibility": null,
       "width": null
      }
     },
     "fa4ac45b9d47426793273b7889a2bc76": {
      "model_module": "@jupyter-widgets/controls",
      "model_module_version": "1.5.0",
      "model_name": "HTMLModel",
      "state": {
       "_dom_classes": [],
       "_model_module": "@jupyter-widgets/controls",
       "_model_module_version": "1.5.0",
       "_model_name": "HTMLModel",
       "_view_count": null,
       "_view_module": "@jupyter-widgets/controls",
       "_view_module_version": "1.5.0",
       "_view_name": "HTMLView",
       "description": "",
       "description_tooltip": null,
       "layout": "IPY_MODEL_0cb1d7721bd14c3ba33459d2b0758b87",
       "placeholder": "​",
       "style": "IPY_MODEL_3f50d7c155ec44a79fe2cab0e64ec7f9",
       "value": " 1.36M/1.36M [00:00&lt;00:00, 3.46MB/s]"
      }
     },
     "ff5c4cfbb9bd4466bad5b5dd789fb737": {
      "model_module": "@jupyter-widgets/controls",
      "model_module_version": "1.5.0",
      "model_name": "HTMLModel",
      "state": {
       "_dom_classes": [],
       "_model_module": "@jupyter-widgets/controls",
       "_model_module_version": "1.5.0",
       "_model_name": "HTMLModel",
       "_view_count": null,
       "_view_module": "@jupyter-widgets/controls",
       "_view_module_version": "1.5.0",
       "_view_name": "HTMLView",
       "description": "",
       "description_tooltip": null,
       "layout": "IPY_MODEL_c9b7dad14e6647dc98e7db757500a7c7",
       "placeholder": "​",
       "style": "IPY_MODEL_62813019586948a89051becf3ebc5dfc",
       "value": "config.json: 100%"
      }
     }
    },
    "version_major": 2,
    "version_minor": 0
   }
  }
 },
 "nbformat": 4,
 "nbformat_minor": 5
}
