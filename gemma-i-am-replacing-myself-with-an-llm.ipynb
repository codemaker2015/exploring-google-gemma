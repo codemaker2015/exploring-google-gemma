{
 "cells": [
  {
   "cell_type": "markdown",
   "id": "b6d32754",
   "metadata": {
    "_cell_guid": "b1076dfc-b9ad-4769-8c92-a6c4dae69d19",
    "_uuid": "8f2839f25d086af736a60e9eeb907d3b93b6e0e5",
    "papermill": {
     "duration": 0.006962,
     "end_time": "2024-02-23T07:27:37.222901",
     "exception": false,
     "start_time": "2024-02-23T07:27:37.215939",
     "status": "completed"
    },
    "tags": []
   },
   "source": [
    "Looking at the state of the Kaggle forums of late, with [an explosion of AI Generated Text](https://www.kaggle.com/discussions/general/398579), I think the time has come to replace myself with the [Gemma LLM](https://storage.googleapis.com/deepmind-media/gemma/gemma-report.pdf) and from now on dedicate my time to more worthwhile endeavors.\n",
    "The quality of my replies will now be even worse than usual, and I will receive fewer medals, but I was never in it for the medals in the first place.\n",
    "\n",
    "Here we shall fine tune the [Gemma](https://www.kaggle.com/models/google/gemma) model with my historical replies scraped from the [Meta Kaggle](https://www.kaggle.com/datasets/kaggle/meta-kaggle) dataset.\n",
    "This work is extremely heavily based of the following two magnificent notebooks by [Nilay Chauhan](https://www.kaggle.com/nilaychauhan)\n",
    "* [Get started with Gemma using KerasNLP](https://www.kaggle.com/code/nilaychauhan/get-started-with-gemma-using-kerasnlp)\n",
    "* [Fine-tune Gemma models in Keras using LoRA](https://www.kaggle.com/code/nilaychauhan/fine-tune-gemma-models-in-keras-using-lora)"
   ]
  },
  {
   "cell_type": "code",
   "execution_count": 1,
   "id": "7d04c569",
   "metadata": {
    "_kg_hide-input": true,
    "_kg_hide-output": true,
    "execution": {
     "iopub.execute_input": "2024-02-23T07:27:37.237758Z",
     "iopub.status.busy": "2024-02-23T07:27:37.236737Z",
     "iopub.status.idle": "2024-02-23T07:28:19.420905Z",
     "shell.execute_reply": "2024-02-23T07:28:19.419856Z"
    },
    "papermill": {
     "duration": 42.194464,
     "end_time": "2024-02-23T07:28:19.423683",
     "exception": false,
     "start_time": "2024-02-23T07:27:37.229219",
     "status": "completed"
    },
    "tags": []
   },
   "outputs": [
    {
     "name": "stdout",
     "output_type": "stream",
     "text": [
      "\u001b[31mERROR: pip's dependency resolver does not currently take into account all the packages that are installed. This behaviour is the source of the following dependency conflicts.\r\n",
      "tensorflow 2.15.0 requires keras<2.16,>=2.15.0, but you have keras 3.0.5 which is incompatible.\r\n",
      "tensorflowjs 4.16.0 requires packaging~=23.1, but you have packaging 21.3 which is incompatible.\u001b[0m\u001b[31m\r\n",
      "\u001b[0m"
     ]
    },
    {
     "name": "stderr",
     "output_type": "stream",
     "text": [
      "2024-02-23 07:28:10.510246: E external/local_xla/xla/stream_executor/cuda/cuda_dnn.cc:9261] Unable to register cuDNN factory: Attempting to register factory for plugin cuDNN when one has already been registered\n",
      "2024-02-23 07:28:10.510355: E external/local_xla/xla/stream_executor/cuda/cuda_fft.cc:607] Unable to register cuFFT factory: Attempting to register factory for plugin cuFFT when one has already been registered\n",
      "2024-02-23 07:28:10.634999: E external/local_xla/xla/stream_executor/cuda/cuda_blas.cc:1515] Unable to register cuBLAS factory: Attempting to register factory for plugin cuBLAS when one has already been registered\n"
     ]
    }
   ],
   "source": [
    "import pandas as pd\n",
    "pd.set_option('display.max_colwidth', 256)\n",
    "import re\n",
    "# from https://www.kaggle.com/code/nilaychauhan/fine-tune-gemma-models-in-keras-using-lora\n",
    "\n",
    "# Install Keras 3 last. See https://keras.io/getting_started/ for more details.\n",
    "!pip install -q -U keras-nlp\n",
    "!pip install -q -U keras>=3\n",
    "\n",
    "import os\n",
    "\n",
    "os.environ[\"KERAS_BACKEND\"] = \"jax\"  # Or \"torch\" or \"tensorflow\".\n",
    "# Avoid memory fragmentation on JAX backend.\n",
    "os.environ[\"XLA_PYTHON_CLIENT_MEM_FRACTION\"]=\"1.00\"\n",
    "\n",
    "import keras\n",
    "import keras_nlp"
   ]
  },
  {
   "cell_type": "code",
   "execution_count": 2,
   "id": "12eb4cd0",
   "metadata": {
    "execution": {
     "iopub.execute_input": "2024-02-23T07:28:19.437071Z",
     "iopub.status.busy": "2024-02-23T07:28:19.436503Z",
     "iopub.status.idle": "2024-02-23T07:29:19.061045Z",
     "shell.execute_reply": "2024-02-23T07:29:19.060107Z"
    },
    "papermill": {
     "duration": 59.633572,
     "end_time": "2024-02-23T07:29:19.063341",
     "exception": false,
     "start_time": "2024-02-23T07:28:19.429769",
     "status": "completed"
    },
    "tags": []
   },
   "outputs": [
    {
     "name": "stderr",
     "output_type": "stream",
     "text": [
      "Attaching 'config.json' from model 'keras/gemma/keras/gemma_2b_en/2' to your Kaggle notebook...\n",
      "Attaching 'config.json' from model 'keras/gemma/keras/gemma_2b_en/2' to your Kaggle notebook...\n",
      "Attaching 'model.weights.h5' from model 'keras/gemma/keras/gemma_2b_en/2' to your Kaggle notebook...\n",
      "Attaching 'tokenizer.json' from model 'keras/gemma/keras/gemma_2b_en/2' to your Kaggle notebook...\n",
      "Attaching 'assets/tokenizer/vocabulary.spm' from model 'keras/gemma/keras/gemma_2b_en/2' to your Kaggle notebook...\n",
      "normalizer.cc(51) LOG(INFO) precompiled_charsmap is empty. use identity normalization.\n"
     ]
    },
    {
     "name": "stdout",
     "output_type": "stream",
     "text": [
      "CPU times: user 6.81 s, sys: 9.47 s, total: 16.3 s\n",
      "Wall time: 59.6 s\n"
     ]
    }
   ],
   "source": [
    "%%time\n",
    "\n",
    "gemma_lm = keras_nlp.models.GemmaCausalLM.from_preset(\"gemma_2b_en\")"
   ]
  },
  {
   "cell_type": "markdown",
   "id": "fd12c366",
   "metadata": {
    "papermill": {
     "duration": 0.006099,
     "end_time": "2024-02-23T07:29:19.075762",
     "exception": false,
     "start_time": "2024-02-23T07:29:19.069663",
     "status": "completed"
    },
    "tags": []
   },
   "source": [
    "### Before..."
   ]
  },
  {
   "cell_type": "code",
   "execution_count": 3,
   "id": "5af86974",
   "metadata": {
    "execution": {
     "iopub.execute_input": "2024-02-23T07:29:19.089511Z",
     "iopub.status.busy": "2024-02-23T07:29:19.089186Z",
     "iopub.status.idle": "2024-02-23T07:29:36.487665Z",
     "shell.execute_reply": "2024-02-23T07:29:36.486696Z"
    },
    "papermill": {
     "duration": 17.40767,
     "end_time": "2024-02-23T07:29:36.489753",
     "exception": false,
     "start_time": "2024-02-23T07:29:19.082083",
     "status": "completed"
    },
    "tags": []
   },
   "outputs": [
    {
     "name": "stdout",
     "output_type": "stream",
     "text": [
      "Will there be a private leaderboard shakeup?\n",
      "\n",
      "I'm not sure if this is a bug or not, but I've noticed that the private leaderboard is not showing up in the game. I've tried restarting the game, but it still doesn't show up.\n",
      "\n",
      "I've also noticed that the private leaderboard is not showing up in the game. I've tried restarting the game, but it still doesn't show up.\n",
      "\n",
      "I've also noticed that the private leaderboard is not showing up in the game. I've tried restarting the game, but it still doesn't show up.\n",
      "\n",
      "I've also noticed that the private leaderboard is not showing up in the game. I've tried restarting the game, but it still doesn't show up.\n",
      "\n",
      "I've also noticed that the private leaderboard is not showing up in the game. I've tried restarting the game, but it still doesn't show up.\n",
      "\n",
      "I've also noticed that the private leaderboard is not showing up in the game. I've tried restarting the game, but it still doesn't show up.\n",
      "\n",
      "I've also noticed that the private leaderboard is not showing up in the game. I've tried restarting\n"
     ]
    }
   ],
   "source": [
    "print(gemma_lm.generate(\"Will there be a private leaderboard shakeup?\", max_length=256))"
   ]
  },
  {
   "cell_type": "markdown",
   "id": "0d64e65e",
   "metadata": {
    "papermill": {
     "duration": 0.006132,
     "end_time": "2024-02-23T07:29:36.502370",
     "exception": false,
     "start_time": "2024-02-23T07:29:36.496238",
     "status": "completed"
    },
    "tags": []
   },
   "source": [
    "### Create a dataset of my Kaggle conversations obtained from [Meta Kaggle](https://www.kaggle.com/datasets/kaggle/meta-kaggle)"
   ]
  },
  {
   "cell_type": "code",
   "execution_count": 4,
   "id": "e25ad97f",
   "metadata": {
    "execution": {
     "iopub.execute_input": "2024-02-23T07:29:36.515966Z",
     "iopub.status.busy": "2024-02-23T07:29:36.515648Z",
     "iopub.status.idle": "2024-02-23T07:30:16.136503Z",
     "shell.execute_reply": "2024-02-23T07:30:16.135660Z"
    },
    "papermill": {
     "duration": 39.630188,
     "end_time": "2024-02-23T07:30:16.138814",
     "exception": false,
     "start_time": "2024-02-23T07:29:36.508626",
     "status": "completed"
    },
    "tags": []
   },
   "outputs": [],
   "source": [
    "# Get my Kaggle User Id\n",
    "Users = pd.read_csv(\"/kaggle/input/meta-kaggle/Users.csv\")\n",
    "User_Id = Users.query('UserName == \"carlmcbrideellis\"')[\"Id\"].item()"
   ]
  },
  {
   "cell_type": "code",
   "execution_count": 5,
   "id": "99667610",
   "metadata": {
    "execution": {
     "iopub.execute_input": "2024-02-23T07:30:16.154744Z",
     "iopub.status.busy": "2024-02-23T07:30:16.154112Z",
     "iopub.status.idle": "2024-02-23T07:30:38.669906Z",
     "shell.execute_reply": "2024-02-23T07:30:38.669132Z"
    },
    "papermill": {
     "duration": 22.525505,
     "end_time": "2024-02-23T07:30:38.672397",
     "exception": false,
     "start_time": "2024-02-23T07:30:16.146892",
     "status": "completed"
    },
    "tags": []
   },
   "outputs": [],
   "source": [
    "ForumMessages = pd.read_csv(\"/kaggle/input/meta-kaggle/ForumMessages.csv\")\n",
    "CME_posts = ForumMessages[(ForumMessages['PostUserId'] == User_Id)] #[\"Message\"]\n",
    "# Select only my posts that were replies\n",
    "CME_Response = CME_posts[CME_posts['ReplyToForumMessageId'].notna()]\n",
    "CME_Response = CME_Response.rename(columns={'Message': 'Response'})\n",
    "# and now get the correponding \"prompt\"\n",
    "CME_Response = CME_Response.merge(ForumMessages, left_on='ReplyToForumMessageId', right_on='Id')\n",
    "CME_Response = CME_Response.rename(columns={'Message': 'Instruction'})\n",
    "data = CME_Response[[\"Instruction\",\"Response\"]].copy()"
   ]
  },
  {
   "cell_type": "markdown",
   "id": "3843c882",
   "metadata": {
    "papermill": {
     "duration": 0.006069,
     "end_time": "2024-02-23T07:30:38.685258",
     "exception": false,
     "start_time": "2024-02-23T07:30:38.679189",
     "status": "completed"
    },
    "tags": []
   },
   "source": [
    "how many conversations are there?"
   ]
  },
  {
   "cell_type": "code",
   "execution_count": 6,
   "id": "5974fc7e",
   "metadata": {
    "execution": {
     "iopub.execute_input": "2024-02-23T07:30:38.698985Z",
     "iopub.status.busy": "2024-02-23T07:30:38.698661Z",
     "iopub.status.idle": "2024-02-23T07:30:38.705518Z",
     "shell.execute_reply": "2024-02-23T07:30:38.704620Z"
    },
    "papermill": {
     "duration": 0.015944,
     "end_time": "2024-02-23T07:30:38.707362",
     "exception": false,
     "start_time": "2024-02-23T07:30:38.691418",
     "status": "completed"
    },
    "tags": []
   },
   "outputs": [
    {
     "data": {
      "text/plain": [
       "1951"
      ]
     },
     "execution_count": 6,
     "metadata": {},
     "output_type": "execute_result"
    }
   ],
   "source": [
    "data.shape[0]"
   ]
  },
  {
   "cell_type": "markdown",
   "id": "6303210e",
   "metadata": {
    "papermill": {
     "duration": 0.006223,
     "end_time": "2024-02-23T07:30:38.719931",
     "exception": false,
     "start_time": "2024-02-23T07:30:38.713708",
     "status": "completed"
    },
    "tags": []
   },
   "source": [
    "OK, almost 2 thousand"
   ]
  },
  {
   "cell_type": "code",
   "execution_count": 7,
   "id": "0414bf4b",
   "metadata": {
    "execution": {
     "iopub.execute_input": "2024-02-23T07:30:38.733870Z",
     "iopub.status.busy": "2024-02-23T07:30:38.733553Z",
     "iopub.status.idle": "2024-02-23T07:30:39.097991Z",
     "shell.execute_reply": "2024-02-23T07:30:39.097067Z"
    },
    "papermill": {
     "duration": 0.374038,
     "end_time": "2024-02-23T07:30:39.100332",
     "exception": false,
     "start_time": "2024-02-23T07:30:38.726294",
     "status": "completed"
    },
    "tags": []
   },
   "outputs": [],
   "source": [
    "# do some basic cleaning\n",
    "\n",
    "# remove any HTML/Markdown tags\n",
    "data[\"Instruction\"] = data[\"Instruction\"].str.replace(r'<[^<>]*>', '', regex=True)\n",
    "# remove any newline\n",
    "data[\"Instruction\"] = data[\"Instruction\"].str.replace(r'\\n',' ', regex=True)\n",
    "# remove any @user tags\n",
    "data[\"Instruction\"] = data[\"Instruction\"].str.replace(r'(?<=\\s)@[\\w]+|(?<=^)@[\\w]+', '', regex=True)\n",
    "\n",
    "# repeat same cleaning for the Response column as well\n",
    "data[\"Response\"] = data[\"Response\"].str.replace(r'<[^<>]*>', '', regex=True)\n",
    "data[\"Response\"] = data[\"Response\"].str.replace(r'\\n',' ', regex=True)\n",
    "data[\"Response\"] = data[\"Response\"].str.replace(r'(?<=\\s)@[\\w]+|(?<=^)@[\\w]+', '', regex=True)"
   ]
  },
  {
   "cell_type": "code",
   "execution_count": 8,
   "id": "48db8777",
   "metadata": {
    "execution": {
     "iopub.execute_input": "2024-02-23T07:30:39.114797Z",
     "iopub.status.busy": "2024-02-23T07:30:39.114488Z",
     "iopub.status.idle": "2024-02-23T07:30:39.126748Z",
     "shell.execute_reply": "2024-02-23T07:30:39.125835Z"
    },
    "papermill": {
     "duration": 0.021779,
     "end_time": "2024-02-23T07:30:39.128815",
     "exception": false,
     "start_time": "2024-02-23T07:30:39.107036",
     "status": "completed"
    },
    "tags": []
   },
   "outputs": [
    {
     "data": {
      "text/html": [
       "<div>\n",
       "<style scoped>\n",
       "    .dataframe tbody tr th:only-of-type {\n",
       "        vertical-align: middle;\n",
       "    }\n",
       "\n",
       "    .dataframe tbody tr th {\n",
       "        vertical-align: top;\n",
       "    }\n",
       "\n",
       "    .dataframe thead th {\n",
       "        text-align: right;\n",
       "    }\n",
       "</style>\n",
       "<table border=\"1\" class=\"dataframe\">\n",
       "  <thead>\n",
       "    <tr style=\"text-align: right;\">\n",
       "      <th></th>\n",
       "      <th>Instruction</th>\n",
       "      <th>Response</th>\n",
       "    </tr>\n",
       "  </thead>\n",
       "  <tbody>\n",
       "    <tr>\n",
       "      <th>1941</th>\n",
       "      <td>Irrespective of the ML model, finding it really difficult to beat the last value benchmark with gaps while doing the cross-validation. However, the model performance is better on Jan 23 LB as compared to the last value for Jan 23.  Really confusing to ...</td>\n",
       "      <td>Dear   Indeed a simple \"last value + population correction\" model looks very good as far as the Public LB is concerned. I am not at all going down that route, but I have a horrible feeling that I am going to get my backside handed to me… All the best a...</td>\n",
       "    </tr>\n",
       "    <tr>\n",
       "      <th>1942</th>\n",
       "      <td>It's getting close ;) https://github.com/Kaggle/docker-python/pull/1231</td>\n",
       "      <td>Dear   3.10 ¡excellent! (Marking as Solved) All the best, carl</td>\n",
       "    </tr>\n",
       "    <tr>\n",
       "      <th>1943</th>\n",
       "      <td>This is also known an Classifier Two Sample Test https://arxiv.org/abs/1610.06545</td>\n",
       "      <td>Dear   Interesting paper; many thanks for the link! Un saludo muy cordial,  carl</td>\n",
       "    </tr>\n",
       "    <tr>\n",
       "      <th>1944</th>\n",
       "      <td>Comment Hi everyone. Ever since I joined Kaggle, I’ve dealt with errors in the notebooks I uploaded to Kaggle after developing them in the Anaconda environment installed in my laptop. Almost all these errors are caused by having a different python vers...</td>\n",
       "      <td>Dear   Another option is perhaps to use the same Docker container as that used by kaggle. Un saludo muy cordial, carl</td>\n",
       "    </tr>\n",
       "    <tr>\n",
       "      <th>1945</th>\n",
       "      <td>Appreciate the kind words Carl, and couldn't agree more on how awful that feeling is. Hopefully you have a way forward to salvage your competition! For a laugh, your @ mention and choice of thread title generated its own fleeting moment of panic for me...</td>\n",
       "      <td>Dear      \"Hopefully you have a way forward to salvage your competition!\"  Indeed; I managed to turn it into a learning experience on the dangers of using seemingly predictive columns in a model (phew) BTW: Did not at all intend to induce panic, but I ...</td>\n",
       "    </tr>\n",
       "    <tr>\n",
       "      <th>1946</th>\n",
       "      <td>We are excited to announce that we are experimenting with a new way to show you content in your newsfeed. Currently, we use a complex algorithm to determine which posts you see. This algorithm takes into account a variety of factors, such as the type o...</td>\n",
       "      <td>Dear      \"Don’t worry I didn’t make everyone automatically follow me!\"  I am going to follow you anyway; nice work!  I agree with  and people could end up in a filter bubble, or some sort of Matthew effect could take place where people with many follo...</td>\n",
       "    </tr>\n",
       "    <tr>\n",
       "      <th>1947</th>\n",
       "      <td>Hi, I don't know if anyone had a chance to notice but in recent days we have exceeded the limit of 500 grandmaster titles. Currently, 284 titles have been assigned in competitions, 35 in datasets, 118 in notebooks and 63 in discussions, which makes a r...</td>\n",
       "      <td>Dear   According to my script that runs daily(*) there are a total of 422 kaggle Grandmasters if one accounts for multiple GM rank achievements .  All the best,  carl (*) New GM's may take a few days to appear due to dependencies on various log files.</td>\n",
       "    </tr>\n",
       "    <tr>\n",
       "      <th>1948</th>\n",
       "      <td>Thank you for sharing the helpful script. I think your script is productive to providing dataset specialized in machine learning, but I wonder what randomly shuffling the dataset has a certain threshold. A certain threshold is that random_state 42. I a...</td>\n",
       "      <td>Dear   The reason for randomly shuffling the dataset is to reduce the possibility of data leakage, for example if the dataset has a sorted column. As for 42… All the best,  carl</td>\n",
       "    </tr>\n",
       "    <tr>\n",
       "      <th>1949</th>\n",
       "      <td>Hi  , Have you tried using VPN ?  I'm currently in an accessible region(Morocco🇲🇦), I used VPN to connect to a server in a restricted country (Sweden) and then I tried the Get an API key I encountered the same issue as you:    Access restricted        ...</td>\n",
       "      <td>What is the Kaggle/Google standpoint on using a VPN?  Is this something we could do (In particular I am thinking of the context of generating training data for the LLM - Detect AI Generated Text competition, which would be shared with the other compe...</td>\n",
       "    </tr>\n",
       "    <tr>\n",
       "      <th>1950</th>\n",
       "      <td>Hi! I am going to this page: https://ai.google.dev/tutorials/setup and when I press \"Get an API key\" I am directed to a page that looks like in the attachment. FYI: I am logged in with my google account. Could you please advice! Many thanks!</td>\n",
       "      <td>Dear   +1 🇪🇸 Spain 🇪🇸: Access restricted All the best, carl</td>\n",
       "    </tr>\n",
       "  </tbody>\n",
       "</table>\n",
       "</div>"
      ],
      "text/plain": [
       "                                                                                                                                                                                                                                                          Instruction  \\\n",
       "1941  Irrespective of the ML model, finding it really difficult to beat the last value benchmark with gaps while doing the cross-validation. However, the model performance is better on Jan 23 LB as compared to the last value for Jan 23.  Really confusing to ...   \n",
       "1942                                                                                                                                                                                          It's getting close ;) https://github.com/Kaggle/docker-python/pull/1231   \n",
       "1943                                                                                                                                                                                This is also known an Classifier Two Sample Test https://arxiv.org/abs/1610.06545   \n",
       "1944  Comment Hi everyone. Ever since I joined Kaggle, I’ve dealt with errors in the notebooks I uploaded to Kaggle after developing them in the Anaconda environment installed in my laptop. Almost all these errors are caused by having a different python vers...   \n",
       "1945  Appreciate the kind words Carl, and couldn't agree more on how awful that feeling is. Hopefully you have a way forward to salvage your competition! For a laugh, your @ mention and choice of thread title generated its own fleeting moment of panic for me...   \n",
       "1946  We are excited to announce that we are experimenting with a new way to show you content in your newsfeed. Currently, we use a complex algorithm to determine which posts you see. This algorithm takes into account a variety of factors, such as the type o...   \n",
       "1947  Hi, I don't know if anyone had a chance to notice but in recent days we have exceeded the limit of 500 grandmaster titles. Currently, 284 titles have been assigned in competitions, 35 in datasets, 118 in notebooks and 63 in discussions, which makes a r...   \n",
       "1948  Thank you for sharing the helpful script. I think your script is productive to providing dataset specialized in machine learning, but I wonder what randomly shuffling the dataset has a certain threshold. A certain threshold is that random_state 42. I a...   \n",
       "1949  Hi  , Have you tried using VPN ?  I'm currently in an accessible region(Morocco🇲🇦), I used VPN to connect to a server in a restricted country (Sweden) and then I tried the Get an API key I encountered the same issue as you:    Access restricted        ...   \n",
       "1950                Hi! I am going to this page: https://ai.google.dev/tutorials/setup and when I press \"Get an API key\" I am directed to a page that looks like in the attachment. FYI: I am logged in with my google account. Could you please advice! Many thanks!   \n",
       "\n",
       "                                                                                                                                                                                                                                                             Response  \n",
       "1941  Dear   Indeed a simple \"last value + population correction\" model looks very good as far as the Public LB is concerned. I am not at all going down that route, but I have a horrible feeling that I am going to get my backside handed to me… All the best a...  \n",
       "1942                                                                                                                                                                                                   Dear   3.10 ¡excellent! (Marking as Solved) All the best, carl  \n",
       "1943                                                                                                                                                                                 Dear   Interesting paper; many thanks for the link! Un saludo muy cordial,  carl  \n",
       "1944                                                                                                                                            Dear   Another option is perhaps to use the same Docker container as that used by kaggle. Un saludo muy cordial, carl  \n",
       "1945  Dear      \"Hopefully you have a way forward to salvage your competition!\"  Indeed; I managed to turn it into a learning experience on the dangers of using seemingly predictive columns in a model (phew) BTW: Did not at all intend to induce panic, but I ...  \n",
       "1946  Dear      \"Don’t worry I didn’t make everyone automatically follow me!\"  I am going to follow you anyway; nice work!  I agree with  and people could end up in a filter bubble, or some sort of Matthew effect could take place where people with many follo...  \n",
       "1947      Dear   According to my script that runs daily(*) there are a total of 422 kaggle Grandmasters if one accounts for multiple GM rank achievements .  All the best,  carl (*) New GM's may take a few days to appear due to dependencies on various log files.  \n",
       "1948                                                                                Dear   The reason for randomly shuffling the dataset is to reduce the possibility of data leakage, for example if the dataset has a sorted column. As for 42… All the best,  carl  \n",
       "1949    What is the Kaggle/Google standpoint on using a VPN?  Is this something we could do (In particular I am thinking of the context of generating training data for the LLM - Detect AI Generated Text competition, which would be shared with the other compe...  \n",
       "1950                                                                                                                                                                                                      Dear   +1 🇪🇸 Spain 🇪🇸: Access restricted All the best, carl  "
      ]
     },
     "execution_count": 8,
     "metadata": {},
     "output_type": "execute_result"
    }
   ],
   "source": [
    "# take a look\n",
    "data.tail(10)"
   ]
  },
  {
   "cell_type": "code",
   "execution_count": 9,
   "id": "f676c799",
   "metadata": {
    "execution": {
     "iopub.execute_input": "2024-02-23T07:30:39.144931Z",
     "iopub.status.busy": "2024-02-23T07:30:39.144614Z",
     "iopub.status.idle": "2024-02-23T07:30:39.269520Z",
     "shell.execute_reply": "2024-02-23T07:30:39.268465Z"
    },
    "papermill": {
     "duration": 0.134997,
     "end_time": "2024-02-23T07:30:39.271727",
     "exception": false,
     "start_time": "2024-02-23T07:30:39.136730",
     "status": "completed"
    },
    "tags": []
   },
   "outputs": [],
   "source": [
    "CME_dataset = []\n",
    "    \n",
    "for index, row in data.iterrows():\n",
    "    instruction, response = row['Instruction'], row['Response']\n",
    "    template = (f\"Instruction:\\n{instruction}\\n\\nResponse:\\n{response}\")\n",
    "    CME_dataset.append(template)"
   ]
  },
  {
   "cell_type": "markdown",
   "id": "f1b4fef6",
   "metadata": {
    "papermill": {
     "duration": 0.0067,
     "end_time": "2024-02-23T07:30:39.285739",
     "exception": false,
     "start_time": "2024-02-23T07:30:39.279039",
     "status": "completed"
    },
    "tags": []
   },
   "source": [
    "### LoRA fine-tuning"
   ]
  },
  {
   "cell_type": "code",
   "execution_count": 10,
   "id": "b987088d",
   "metadata": {
    "_kg_hide-input": false,
    "execution": {
     "iopub.execute_input": "2024-02-23T07:30:39.301707Z",
     "iopub.status.busy": "2024-02-23T07:30:39.300931Z",
     "iopub.status.idle": "2024-02-23T07:30:39.753378Z",
     "shell.execute_reply": "2024-02-23T07:30:39.752557Z"
    },
    "papermill": {
     "duration": 0.463183,
     "end_time": "2024-02-23T07:30:39.755803",
     "exception": false,
     "start_time": "2024-02-23T07:30:39.292620",
     "status": "completed"
    },
    "tags": []
   },
   "outputs": [],
   "source": [
    "# Enable LoRA for the model and set the LoRA rank to 64.\n",
    "gemma_lm.backbone.enable_lora(rank=64)"
   ]
  },
  {
   "cell_type": "code",
   "execution_count": 11,
   "id": "1fb629c7",
   "metadata": {
    "_kg_hide-input": true,
    "execution": {
     "iopub.execute_input": "2024-02-23T07:30:39.771895Z",
     "iopub.status.busy": "2024-02-23T07:30:39.771301Z",
     "iopub.status.idle": "2024-02-23T07:30:39.858122Z",
     "shell.execute_reply": "2024-02-23T07:30:39.857261Z"
    },
    "papermill": {
     "duration": 0.097384,
     "end_time": "2024-02-23T07:30:39.860580",
     "exception": false,
     "start_time": "2024-02-23T07:30:39.763196",
     "status": "completed"
    },
    "tags": []
   },
   "outputs": [],
   "source": [
    "# Limit the input sequence length to 512 (to control memory usage).\n",
    "gemma_lm.preprocessor.sequence_length = 512\n",
    "# Use AdamW (a common optimizer for transformer models).\n",
    "optimizer = keras.optimizers.AdamW(\n",
    "    learning_rate=5e-5,\n",
    "    weight_decay=0.01,\n",
    ")\n",
    "# Exclude layernorm and bias terms from decay.\n",
    "optimizer.exclude_from_weight_decay(var_names=[\"bias\", \"scale\"])\n",
    "\n",
    "gemma_lm.compile(\n",
    "    loss=keras.losses.SparseCategoricalCrossentropy(from_logits=True),\n",
    "    optimizer=optimizer,\n",
    "    weighted_metrics=[keras.metrics.SparseCategoricalAccuracy()],\n",
    ")"
   ]
  },
  {
   "cell_type": "code",
   "execution_count": 12,
   "id": "0f79ae60",
   "metadata": {
    "execution": {
     "iopub.execute_input": "2024-02-23T07:30:39.877129Z",
     "iopub.status.busy": "2024-02-23T07:30:39.876097Z",
     "iopub.status.idle": "2024-02-23T07:54:55.352531Z",
     "shell.execute_reply": "2024-02-23T07:54:55.351555Z"
    },
    "papermill": {
     "duration": 1455.486694,
     "end_time": "2024-02-23T07:54:55.354562",
     "exception": false,
     "start_time": "2024-02-23T07:30:39.867868",
     "status": "completed"
    },
    "tags": []
   },
   "outputs": [
    {
     "name": "stdout",
     "output_type": "stream",
     "text": [
      "\u001b[1m1951/1951\u001b[0m \u001b[32m━━━━━━━━━━━━━━━━━━━━\u001b[0m\u001b[37m\u001b[0m \u001b[1m1453s\u001b[0m 734ms/step - loss: 1.0314 - sparse_categorical_accuracy: 0.4377\n",
      "CPU times: user 24min 20s, sys: 3.23 s, total: 24min 23s\n",
      "Wall time: 24min 15s\n"
     ]
    },
    {
     "data": {
      "text/plain": [
       "<keras.src.callbacks.history.History at 0x7cd978679060>"
      ]
     },
     "execution_count": 12,
     "metadata": {},
     "output_type": "execute_result"
    }
   ],
   "source": [
    "%%time\n",
    "\n",
    "gemma_lm.fit(CME_dataset, epochs=1, batch_size=1)"
   ]
  },
  {
   "cell_type": "markdown",
   "id": "273c3e85",
   "metadata": {
    "papermill": {
     "duration": 0.163541,
     "end_time": "2024-02-23T07:54:55.683541",
     "exception": false,
     "start_time": "2024-02-23T07:54:55.520000",
     "status": "completed"
    },
    "tags": []
   },
   "source": [
    "### ...and now..."
   ]
  },
  {
   "cell_type": "code",
   "execution_count": 13,
   "id": "e87065b4",
   "metadata": {
    "execution": {
     "iopub.execute_input": "2024-02-23T07:54:56.014078Z",
     "iopub.status.busy": "2024-02-23T07:54:56.013701Z",
     "iopub.status.idle": "2024-02-23T07:55:12.793701Z",
     "shell.execute_reply": "2024-02-23T07:55:12.792733Z"
    },
    "papermill": {
     "duration": 16.948672,
     "end_time": "2024-02-23T07:55:12.796005",
     "exception": false,
     "start_time": "2024-02-23T07:54:55.847333",
     "status": "completed"
    },
    "tags": []
   },
   "outputs": [
    {
     "name": "stdout",
     "output_type": "stream",
     "text": [
      "Will there be a private leaderboard shakeup?\n",
      "\n",
      "This is the first time I've seen this.\n",
      "\n",
      "I'm not a developer, I'm not sure how the private leaderboard works (if it does) and I'm just curious.\n",
      "\n",
      "I think I've found a bug.\n",
      "\n",
      "The problem is the \"private score\" field. When I look at my score I have a 99.7% and the private score is a 99.5%.\n",
      "\n",
      "When I click the \"private\" link I get an error:\n",
      "\n",
      "\"The private leaderboard does not support this action. Please check the leaderboard rules\"\n",
      "\n",
      "I'm not sure what this means but I think this may explain the private leaderboard score being off.\n",
      "\n",
      "I've never seen a private leaderboard that works like this, it seems like a bug.\n"
     ]
    }
   ],
   "source": [
    "print(gemma_lm.generate(\"Will there be a private leaderboard shakeup?\", max_length=256))"
   ]
  },
  {
   "cell_type": "markdown",
   "id": "29a3e0cd",
   "metadata": {
    "papermill": {
     "duration": 0.209997,
     "end_time": "2024-02-23T07:55:13.173560",
     "exception": false,
     "start_time": "2024-02-23T07:55:12.963563",
     "status": "completed"
    },
    "tags": []
   },
   "source": [
    "meh, I think that should do the trick...\n",
    "\n",
    "Now, back to that tabular dataset notebook I was working on!\n",
    "\n",
    "### Related reading\n",
    "* [Gemma: Open Models Based on Gemini Research and Technology](https://storage.googleapis.com/deepmind-media/gemma/gemma-report.pdf)\n",
    "* [RAG using Llama 2, Langchain and ChromaDB](https://www.kaggle.com/code/gpreda/rag-using-llama-2-langchain-and-chromadb) by [Gabriel Preda](https://www.kaggle.com/gpreda)\n",
    "* [Gabriel Preda \"*Developing Kaggle Notebooks*\", Packt Publishing Limited (2023)](https://www.packtpub.com/product/developing-kaggle-notebooks/9781805128519) (Chapter 10)\n",
    "* [Building A Transformer (GPT) From Scratch](https://www.kaggle.com/code/kevinbnisch/building-a-transformer-gpt-from-scratch) by [TheItCrOw](https://www.kaggle.com/kevinbnisch)\n",
    "* [Get started with Gemma using KerasNLP](https://www.kaggle.com/code/nilaychauhan/get-started-with-gemma-using-kerasnlp) by [Nilay Chauhan](https://www.kaggle.com/nilaychauhan)\n",
    "* [Fine-tune Gemma models in Keras using LoRA](https://www.kaggle.com/code/nilaychauhan/fine-tune-gemma-models-in-keras-using-lora) by [Nilay Chauhan](https://www.kaggle.com/nilaychauhan)"
   ]
  }
 ],
 "metadata": {
  "kaggle": {
   "accelerator": "gpu",
   "dataSources": [
    {
     "databundleVersionId": 7669720,
     "sourceId": 64148,
     "sourceType": "competition"
    },
    {
     "datasetId": 9,
     "sourceId": 7681928,
     "sourceType": "datasetVersion"
    },
    {
     "modelInstanceId": 5171,
     "sourceId": 11371,
     "sourceType": "modelInstanceVersion"
    }
   ],
   "isGpuEnabled": true,
   "isInternetEnabled": true,
   "language": "python",
   "sourceType": "notebook"
  },
  "kernelspec": {
   "display_name": "Python 3",
   "language": "python",
   "name": "python3"
  },
  "language_info": {
   "codemirror_mode": {
    "name": "ipython",
    "version": 3
   },
   "file_extension": ".py",
   "mimetype": "text/x-python",
   "name": "python",
   "nbconvert_exporter": "python",
   "pygments_lexer": "ipython3",
   "version": "3.10.13"
  },
  "papermill": {
   "default_parameters": {},
   "duration": 1662.994842,
   "end_time": "2024-02-23T07:55:17.231736",
   "environment_variables": {},
   "exception": null,
   "input_path": "__notebook__.ipynb",
   "output_path": "__notebook__.ipynb",
   "parameters": {},
   "start_time": "2024-02-23T07:27:34.236894",
   "version": "2.5.0"
  }
 },
 "nbformat": 4,
 "nbformat_minor": 5
}
