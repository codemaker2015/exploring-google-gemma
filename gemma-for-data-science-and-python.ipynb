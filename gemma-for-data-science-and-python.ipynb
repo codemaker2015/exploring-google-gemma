{
 "cells": [
  {
   "cell_type": "code",
   "execution_count": 1,
   "id": "eda71fba",
   "metadata": {
    "_cell_guid": "b1076dfc-b9ad-4769-8c92-a6c4dae69d19",
    "_uuid": "8f2839f25d086af736a60e9eeb907d3b93b6e0e5",
    "execution": {
     "iopub.execute_input": "2024-02-28T18:24:28.568859Z",
     "iopub.status.busy": "2024-02-28T18:24:28.568472Z",
     "iopub.status.idle": "2024-02-28T18:25:02.805399Z",
     "shell.execute_reply": "2024-02-28T18:25:02.804240Z"
    },
    "papermill": {
     "duration": 34.247981,
     "end_time": "2024-02-28T18:25:02.808279",
     "exception": false,
     "start_time": "2024-02-28T18:24:28.560298",
     "status": "completed"
    },
    "tags": []
   },
   "outputs": [
    {
     "name": "stdout",
     "output_type": "stream",
     "text": [
      "\u001b[31mERROR: pip's dependency resolver does not currently take into account all the packages that are installed. This behaviour is the source of the following dependency conflicts.\r\n",
      "tensorflow 2.15.0 requires keras<2.16,>=2.15.0, but you have keras 3.0.5 which is incompatible.\r\n",
      "tensorflowjs 4.16.0 requires packaging~=23.1, but you have packaging 21.3 which is incompatible.\u001b[0m\u001b[31m\r\n",
      "\u001b[0m"
     ]
    }
   ],
   "source": [
    "import pandas as pd\n",
    "pd.set_option('display.max_colwidth', 256)\n",
    "import re\n",
    "# from https://www.kaggle.com/code/nilaychauhan/fine-tune-gemma-models-in-keras-using-lora\n",
    "\n",
    "# Install Keras 3 last. See https://keras.io/getting_started/ for more details.\n",
    "!pip install -q -U keras-nlp\n",
    "!pip install -q -U keras>=3\n",
    "\n",
    "import os\n",
    "\n",
    "os.environ[\"KERAS_BACKEND\"] = \"jax\"  # Or \"torch\" or \"tensorflow\".\n",
    "# Avoid memory fragmentation on JAX backend.\n",
    "os.environ[\"XLA_PYTHON_CLIENT_MEM_FRACTION\"]=\"1.00\""
   ]
  },
  {
   "cell_type": "code",
   "execution_count": 2,
   "id": "4abb09b6",
   "metadata": {
    "execution": {
     "iopub.execute_input": "2024-02-28T18:25:02.823632Z",
     "iopub.status.busy": "2024-02-28T18:25:02.822872Z",
     "iopub.status.idle": "2024-02-28T18:26:18.048807Z",
     "shell.execute_reply": "2024-02-28T18:26:18.047656Z"
    },
    "papermill": {
     "duration": 75.236723,
     "end_time": "2024-02-28T18:26:18.051501",
     "exception": false,
     "start_time": "2024-02-28T18:25:02.814778",
     "status": "completed"
    },
    "tags": []
   },
   "outputs": [
    {
     "name": "stderr",
     "output_type": "stream",
     "text": [
      "2024-02-28 18:25:06.950246: E external/local_xla/xla/stream_executor/cuda/cuda_dnn.cc:9261] Unable to register cuDNN factory: Attempting to register factory for plugin cuDNN when one has already been registered\n",
      "2024-02-28 18:25:06.950356: E external/local_xla/xla/stream_executor/cuda/cuda_fft.cc:607] Unable to register cuFFT factory: Attempting to register factory for plugin cuFFT when one has already been registered\n",
      "2024-02-28 18:25:07.107712: E external/local_xla/xla/stream_executor/cuda/cuda_blas.cc:1515] Unable to register cuBLAS factory: Attempting to register factory for plugin cuBLAS when one has already been registered\n",
      "Attaching 'config.json' from model 'keras/gemma/keras/gemma_2b_en/2' to your Kaggle notebook...\n",
      "Attaching 'config.json' from model 'keras/gemma/keras/gemma_2b_en/2' to your Kaggle notebook...\n",
      "Attaching 'model.weights.h5' from model 'keras/gemma/keras/gemma_2b_en/2' to your Kaggle notebook...\n",
      "Attaching 'tokenizer.json' from model 'keras/gemma/keras/gemma_2b_en/2' to your Kaggle notebook...\n",
      "Attaching 'assets/tokenizer/vocabulary.spm' from model 'keras/gemma/keras/gemma_2b_en/2' to your Kaggle notebook...\n",
      "normalizer.cc(51) LOG(INFO) precompiled_charsmap is empty. use identity normalization.\n"
     ]
    }
   ],
   "source": [
    "import keras\n",
    "import keras_nlp\n",
    "gemma_lm = keras_nlp.models.GemmaCausalLM.from_preset(\"gemma_2b_en\")"
   ]
  },
  {
   "cell_type": "code",
   "execution_count": 3,
   "id": "1176a395",
   "metadata": {
    "execution": {
     "iopub.execute_input": "2024-02-28T18:26:18.066712Z",
     "iopub.status.busy": "2024-02-28T18:26:18.066324Z",
     "iopub.status.idle": "2024-02-28T18:26:37.494614Z",
     "shell.execute_reply": "2024-02-28T18:26:37.493502Z"
    },
    "papermill": {
     "duration": 19.439218,
     "end_time": "2024-02-28T18:26:37.497586",
     "exception": false,
     "start_time": "2024-02-28T18:26:18.058368",
     "status": "completed"
    },
    "tags": []
   },
   "outputs": [
    {
     "name": "stdout",
     "output_type": "stream",
     "text": [
      "What is Matplotlib?\n",
      "\n",
      "Matplotlib is a Python library for creating 2D plots. It is used to create graphs, charts, and other types of visualizations.\n",
      "\n",
      "Matplotlib is a Python library for creating 2D plots. It is used to create graphs, charts, and other types of visualizations.\n",
      "\n",
      "Matplotlib is a Python library for creating 2D plots. It is used to create graphs, charts, and other types of visualizations.\n",
      "\n",
      "Matplotlib is a Python library for creating 2D plots. It is used to create graphs, charts, and other types of visualizations.\n",
      "\n",
      "Matplotlib is a Python library for creating 2D plots. It is used to create graphs, charts, and other types of visualizations.\n",
      "\n",
      "Matplotlib is a Python library for creating 2D plots. It is used to create graphs, charts, and other types of visualizations.\n",
      "\n",
      "Matplotlib is a Python library for creating 2D plots. It is used to create graphs, charts, and other types of visualizations.\n",
      "\n",
      "Matplotlib is a Python library for creating 2D plots. It is used to create graphs, charts, and other types of visualizations.\n",
      "\n",
      "Matplotlib is a Python library for creating 2D plots. It is used to\n"
     ]
    }
   ],
   "source": [
    "print(gemma_lm.generate(\"What is Matplotlib?\", max_length=256))"
   ]
  },
  {
   "cell_type": "code",
   "execution_count": 4,
   "id": "9cca6437",
   "metadata": {
    "_kg_hide-input": true,
    "execution": {
     "iopub.execute_input": "2024-02-28T18:26:37.514241Z",
     "iopub.status.busy": "2024-02-28T18:26:37.513806Z",
     "iopub.status.idle": "2024-02-28T18:26:37.534400Z",
     "shell.execute_reply": "2024-02-28T18:26:37.533308Z"
    },
    "papermill": {
     "duration": 0.032356,
     "end_time": "2024-02-28T18:26:37.536974",
     "exception": false,
     "start_time": "2024-02-28T18:26:37.504618",
     "status": "completed"
    },
    "tags": []
   },
   "outputs": [],
   "source": [
    "#file = open('../input/simple-dialogs-for-chatbot/dialogs.txt','r').read()\n",
    "dataset='''What is data science?\\tData science is an interdisciplinary field that uses scientific methods, algorithms, and systems to extract knowledge and insights from structured and unstructured data.\\n\n",
    "What are the key steps involved in the data science process?\\tThe key steps in the data science process include problem definition, data collection, data preparation, exploratory data analysis, modeling, evaluation, and deployment.\\n \n",
    "What is the difference between supervised and unsupervised learning?\\tSupervised learning involves training a model on labeled data, where the algorithm learns to predict the output from input data. Unsupervised learning involves training a model on unlabeled data to discover patterns or groupings within the data.\\n \n",
    "What is overfitting in machine learning?\\tOverfitting occurs when a model learns the training data too well, capturing noise or random fluctuations in the data rather than the underlying patterns. This can result in poor performance when the model is applied to new, unseen data.\\n \n",
    "What evaluation metrics can be used to assess the performance of a classification model?\\tCommon evaluation metrics for classification models include accuracy, precision, recall, F1-score, and area under the ROC curve (AUC).\\n \n",
    "What is cross-validation and why is it used in machine learning?\\tCross-validation is a technique used to assess the performance of a machine learning model by training and evaluating it multiple times on different subsets of the data. It helps to ensure that the model's performance is robust and not overly dependent on a particular subset of the data.\\n \n",
    "What is the purpose of feature engineering in machine learning?\\tFeature engineering involves transforming raw data into a format that is suitable for training machine learning models. It aims to extract relevant information from the data and create informative features that improve the performance of the models.\\n \n",
    "What are some common algorithms used in machine learning?\\tSome common algorithms used in machine learning include linear regression, logistic regression, decision trees, random forests, support vector machines (SVM), k-nearest neighbors (KNN), and neural networks.\\n \n",
    "What is the curse of dimensionality in machine learning?\\tThe curse of dimensionality refers to the problems that arise when working with high-dimensional data. As the number of features or dimensions increases, the amount of data required to effectively cover the feature space grows exponentially, making it difficult to train accurate models.\\n \n",
    "What is the difference between data mining and machine learning?\\tData mining is the process of discovering patterns, trends, and insights from large datasets, often using techniques such as clustering, association rule mining, and anomaly detection. Machine learning, on the other hand, is a subset of data mining that focuses on building predictive models from data using algorithms and statistical methods.\\n \n",
    "What are some common data preprocessing techniques used in data science?\\tCommon data preprocessing techniques include data cleaning (handling missing values, removing duplicates), data transformation (scaling, normalization), feature extraction, and feature selection.\\n \n",
    "What libraries are commonly used for data analysis and manipulation in Python?\\tCommonly used libraries for data analysis and manipulation in Python include Pandas, NumPy, and SciPy.\\n\n",
    "What is the purpose of the Pandas library in Python?\\tThe Pandas library is used for data manipulation and analysis in Python. It provides data structures and functions for efficiently handling structured data, such as dataframes for tabular data and series for one-dimensional data.\\n \n",
    "What is a dataframe in Pandas?\\tA dataframe in Pandas is a two-dimensional, size-mutable, and heterogeneous tabular data structure with labeled rows and columns. It is similar to a spreadsheet or SQL table and can store data of different types (e.g., integers, floats, strings) in each column.\\n \n",
    "How can you read a CSV file into a Pandas dataframe in Python?\\tYou can read a CSV file into a Pandas dataframe using the read_csv() function. For example: df = pd.read_csv('filename.csv')\\n \n",
    "How can you display the first few rows of a Pandas dataframe?\\tYou can display the first few rows of a Pandas dataframe using the head() function. For example: df.head()\\n\n",
    "How can you select specific columns from a Pandas dataframe?\\tYou can select specific columns from a Pandas dataframe by passing a list of column names to the square brackets indexing operator. For example: df[['column1', 'column2']]\\n \n",
    "How can you filter rows of a Pandas dataframe based on a condition?\\tYou can filter rows of a Pandas dataframe based on a condition by passing the condition as a boolean expression to the square brackets indexing operator. For example: df[df['column'] > 10]\\n \n",
    "What is NumPy and what is it used for in Python?\\tNumPy is a Python library for numerical computing. It provides support for multidimensional arrays, matrices, mathematical functions, and random number generation, making it useful for scientific and mathematical applications.\\n \n",
    "What is the purpose of arrays in NumPy?\\tArrays in NumPy are used to represent and manipulate numerical data efficiently. They provide a homogeneous data container that can store elements of the same data type and support vectorized operations, enabling fast and efficient computation.\\n \n",
    "How can you create an array in NumPy?\\tYou can create an array in NumPy using the array() function by passing a Python list or tuple containing the elements of the array. For example: np.array([1, 2, 3])\\n \n",
    "How can you perform element-wise operations on NumPy arrays?\\tYou can perform element-wise operations on NumPy arrays by applying mathematical functions or operators directly to the arrays. For example: np.array([1, 2, 3]) + np.array([4, 5, 6])\\n \n",
    "How can you reshape a NumPy array?\\tYou can reshape a NumPy array using the reshape() function by specifying the desired shape as a tuple of dimensions. For example: np.array([1, 2, 3, 4, 5, 6]).reshape(2, 3)\\n \n",
    "How can you concatenate two NumPy arrays?\\tYou can concatenate two NumPy arrays along a specified axis using the concatenate() function. For example: np.concatenate([array1, array2], axis=0)\\n \n",
    "What is SciPy and what is it used for in Python?\\tSciPy is a Python library for scientific computing and technical computing. It provides modules for optimization, integration, interpolation, linear algebra, and many other numerical tasks, making it useful for scientific and engineering applications.\\n \n",
    "How can you integrate a mathematical function numerically using SciPy?\\tYou can integrate a mathematical function numerically using the quad() function from the scipy.integrate module. For example: from scipy.integrate import quad result, error = quad(func, a, b)\\n \n",
    "How can you fit a curve to data points using SciPy?\\tYou can fit a curve to data points using the curve_fit() function from the scipy.optimize module. For example: from scipy.optimize import curve_fit params, covariance = curve_fit(func, xdata, ydata)\\n \n",
    "What is Matplotlib and what is it used for in Python?\\tMatplotlib is a Python library for creating static, interactive, and animated visualizations. It provides functions for generating plots, histograms, scatter plots, and many other types of graphs, making it useful for data analysis and presentation.\\n \n",
    "How can you create a line plot in Matplotlib?\\tYou can create a line plot in Matplotlib using the plot() function by passing the x and y coordinates of the data points. For example: plt.plot(x, y)\\n\n",
    "How can you customize the appearance of a plot in Matplotlib?\\tYou can customize the appearance of a plot in Matplotlib by using various functions and parameters to modify aspects such as the plot type, color, linestyle, marker style, axis labels, title, and legend.\\n \n",
    "How can you save a plot as an image file in Matplotlib?\\tYou can save a plot as an image file in Matplotlib using the savefig() function by specifying the desired file format (e.g., PNG, JPEG, PDF) and filename. For example: plt.savefig('filename.png')\\n \n",
    "What is Seaborn and what is it used for in Python?\\tSeaborn is a Python library for statistical data visualization based on Matplotlib. It provides a high-level interface for creating attractive and informative statistical graphics, making it useful for data exploration and analysis.\\n \n",
    "How can you create a histogram in Seaborn?\\tYou can create a histogram in Seaborn using the distplot() function by passing the data to be plotted as input. For example: sns.distplot(data)\\n \n",
    "How can you create a scatter plot in Seaborn?\\tYou can create a scatter plot in Seaborn using the scatterplot() function by specifying the x and y variables to be plotted. For example: sns.scatterplot(x='x_variable', y='y_variable', data=data)\\n \n",
    "How can you create a box plot in Seaborn?\\tYou can create a box plot in Seaborn using the boxplot() function by specifying the data and grouping variables. For example: sns.boxplot(x='group_variable', y='data_variable', data=data)\\n \n",
    "How can you create a pair plot in Seaborn?\\tYou can create a pair plot in Seaborn using the pairplot() function by passing the dataframe containing the variables to be plotted. For example: sns.pairplot(data)\\n \n",
    "What is scikit-learn and what is it used for in Python?\\tScikit-learn is a Python library for machine learning and statistical modeling. It provides a wide range of algorithms and tools for tasks such as classification, regression, clustering, dimensionality reduction, and model selection, making it useful for building and evaluating machine learning models.\\n \n",
    "How can you split a dataset into training and test sets in scikit-learn?\\tYou can split a dataset into training and test sets using the train_test_split() function from the sklearn.model_selection module. For example: from sklearn.model_selection import train_test_split X_train, X_test, y_train, y_test = train_test_split(X, y, test_size=0.2, random_state=42)\\n\n",
    "What is linear regression and how can you implement it in scikit-learn?\\tLinear regression is a supervised learning algorithm used for predicting a continuous target variable based on one or more input features. You can implement linear regression in scikit-learn using the LinearRegression class. For example: from sklearn.linear_model import LinearRegression model = LinearRegression() model.fit(X_train, y_train)\\n \n",
    "What is logistic regression and how can you implement it in scikit-learn?\\tLogistic regression is a supervised learning algorithm used for binary classification tasks. You can implement logistic regression in scikit-learn using the LogisticRegression class. For example: from sklearn.linear_model import LogisticRegression model = LogisticRegression() model.fit(X_train, y_train)\\n\n",
    "How can you evaluate the performance of a machine learning model in scikit-learn?\\tYou can evaluate the performance of a machine learning model in scikit-learn using various metrics such as accuracy, precision, recall, F1-score, and area under the ROC curve (AUC). For example: from sklearn.metrics import accuracy_score y_pred = model.predict(X_test) accuracy = accuracy_score(y_test, y_pred)\\n\n",
    "How can you perform hyperparameter tuning for a machine learning model in scikit-learn?\\tYou can perform hyperparameter tuning for a machine learning model in scikit-learn using techniques such as grid search and random search. For example: from sklearn.model_selection import GridSearchCV param_grid = {'param1': [value1, value2], 'param2': [value3, value4]} grid_search = GridSearchCV(estimator, param_grid, cv=5) grid_search.fit(X_train, y_train)\\n\n",
    "How can you integrate a mathematical function numerically using SciPy?\\tYou can integrate a mathematical function numerically using the quad() function from the scipy.integrate module. For example: from scipy.integrate import quad result, error = quad(func, a, b)\\n How can you fit a curve to data points using SciPy?\\tYou can fit a curve to data points using the curve_fit() function from the scipy.optimize module. For example: from scipy.optimize import curve_fit params, covariance = curve_fit(func, xdata, ydata)\\n What is Matplotlib and what is it used for in Python?\\tMatplotlib is a Python library for creating static, interactive, and animated visualizations. It provides functions for generating plots, histograms, scatter plots, and many other types of graphs, making it useful for data analysis and presentation.\\n How can you create a line plot in Matplotlib?\\tYou can create a line plot in Matplotlib using the plot() function by passing the x and y coordinates of the data points. For example: plt.plot(x, y)\\n How can you customize the appearance of a plot in Matplotlib?\\tYou can customize the appearance of a plot in Matplotlib by using various functions and parameters to modify aspects such as the plot type, color, linestyle, marker style, axis labels, title, and legend.\\n How can you save a plot as an image file in Matplotlib?\\tYou can save a plot as an image file in Matplotlib using the savefig() function by specifying the desired file format (e.g., PNG, JPEG, PDF) and filename. For example: plt.savefig('filename.png')\\n What is Seaborn and what is it used for in Python?\\tSeaborn is a Python library for statistical data visualization based on Matplotlib. It provides a high-level interface for creating attractive and informative statistical graphics, making it useful for data exploration and analysis.\\n How can you create a histogram in Seaborn?\\tYou can create a histogram in Seaborn using the distplot() function by passing the data to be plotted as input. For example: sns.distplot(data)\\n How can you create a scatter plot in Seaborn?\\tYou can create a scatter plot in Seaborn using the scatterplot() function by specifying the x and y variables to be plotted. For example: sns.scatterplot(x='x_variable', y='y_variable', data=data)\\n How can you create a box plot in Seaborn?\\tYou can create a box plot in Seaborn using the boxplot() function by specifying the data and grouping variables. For example: sns.boxplot(x='group_variable', y='data_variable', data=data)\\n How can you create a pair plot in Seaborn?\\tYou can create a pair plot in Seaborn using the pairplot() function by passing the dataframe containing the variables to be plotted. For example: sns.pairplot(data)\\n What is scikit-learn and what is it used for in Python?\\tScikit-learn is a Python library for machine learning and statistical modeling. It provides a wide range of algorithms and tools for tasks such as classification, regression, clustering, dimensionality reduction, and model selection, making it useful for building and evaluating machine learning models.\\n How can you split a dataset into training and test sets in scikit-learn?\\tYou can split a dataset into training and test sets using the train_test_split() function from the sklearn.model_selection module. For example: from sklearn.model_selection import train_test_split X_train, X_test, y_train, y_test = train_test_split(X, y, test_size=0.2, random_state=42)\\n What is linear regression and how can you implement it in scikit-learn?\\tLinear regression is a supervised learning algorithm used for predicting a continuous target variable based on one or more input features. You can implement linear regression in scikit-learn using the LinearRegression class. For example: from sklearn.linear_model import LinearRegression model = LinearRegression() model.fit(X_train, y_train)\\n What is logistic regression and how can you implement it in scikit-learn?\\tLogistic regression is a supervised learning algorithm used for binary classification tasks. You can implement logistic regression in scikit-learn using the LogisticRegression class. For example: from sklearn.linear_model import LogisticRegression model = LogisticRegression() model.fit(X_train, y_train)\\n How can you evaluate the performance of a machine learning model in scikit-learn?\\tYou can evaluate the performance of a machine learning model in scikit-learn using various metrics such as accuracy, precision, recall, F1-score, and area under the ROC curve (AUC). For example: from sklearn.metrics import accuracy_score y_pred = model.predict(X_test) accuracy = accuracy_score(y_test, y_pred)\\n How can you perform hyperparameter tuning for a machine learning model in scikit-learn?\\tYou can perform hyperparameter tuning for a machine learning model in scikit-learn using techniques such as grid search and random search. For example: from sklearn.model_selection import GridSearchCV param_grid = {'param1': [value1, value2], 'param2': [value3, value4]} grid_search = GridSearchCV(estimator, param_grid, cv=5) grid_search.fit(X_train, y_train)\\n '''"
   ]
  },
  {
   "cell_type": "code",
   "execution_count": 5,
   "id": "c8609fa4",
   "metadata": {
    "execution": {
     "iopub.execute_input": "2024-02-28T18:26:37.553405Z",
     "iopub.status.busy": "2024-02-28T18:26:37.552759Z",
     "iopub.status.idle": "2024-02-28T18:26:37.562645Z",
     "shell.execute_reply": "2024-02-28T18:26:37.561640Z"
    },
    "papermill": {
     "duration": 0.0204,
     "end_time": "2024-02-28T18:26:37.564796",
     "exception": false,
     "start_time": "2024-02-28T18:26:37.544396",
     "status": "completed"
    },
    "tags": []
   },
   "outputs": [],
   "source": [
    "qna_list = {'Questions':[],'Answers':[]}\n",
    "for f in dataset.split('\\n'):\n",
    "    if len(f.split('\\t'))==2:\n",
    "        qna_list['Questions'].append(f.split('\\t')[0])\n",
    "        qna_list['Answers'].append(f.split('\\t')[1])\n",
    "\n",
    "data=pd.DataFrame(qna_list)"
   ]
  },
  {
   "cell_type": "code",
   "execution_count": 6,
   "id": "f1033560",
   "metadata": {
    "execution": {
     "iopub.execute_input": "2024-02-28T18:26:37.581269Z",
     "iopub.status.busy": "2024-02-28T18:26:37.580453Z",
     "iopub.status.idle": "2024-02-28T18:26:37.598880Z",
     "shell.execute_reply": "2024-02-28T18:26:37.597791Z"
    },
    "papermill": {
     "duration": 0.02987,
     "end_time": "2024-02-28T18:26:37.601826",
     "exception": false,
     "start_time": "2024-02-28T18:26:37.571956",
     "status": "completed"
    },
    "tags": []
   },
   "outputs": [
    {
     "data": {
      "text/html": [
       "<div>\n",
       "<style scoped>\n",
       "    .dataframe tbody tr th:only-of-type {\n",
       "        vertical-align: middle;\n",
       "    }\n",
       "\n",
       "    .dataframe tbody tr th {\n",
       "        vertical-align: top;\n",
       "    }\n",
       "\n",
       "    .dataframe thead th {\n",
       "        text-align: right;\n",
       "    }\n",
       "</style>\n",
       "<table border=\"1\" class=\"dataframe\">\n",
       "  <thead>\n",
       "    <tr style=\"text-align: right;\">\n",
       "      <th></th>\n",
       "      <th>Questions</th>\n",
       "      <th>Answers</th>\n",
       "    </tr>\n",
       "  </thead>\n",
       "  <tbody>\n",
       "    <tr>\n",
       "      <th>0</th>\n",
       "      <td>What is data science?</td>\n",
       "      <td>Data science is an interdisciplinary field that uses scientific methods, algorithms, and systems to extract knowledge and insights from structured and unstructured data.</td>\n",
       "    </tr>\n",
       "    <tr>\n",
       "      <th>1</th>\n",
       "      <td>What are the key steps involved in the data science process?</td>\n",
       "      <td>The key steps in the data science process include problem definition, data collection, data preparation, exploratory data analysis, modeling, evaluation, and deployment.</td>\n",
       "    </tr>\n",
       "    <tr>\n",
       "      <th>2</th>\n",
       "      <td>What is the difference between supervised and unsupervised learning?</td>\n",
       "      <td>Supervised learning involves training a model on labeled data, where the algorithm learns to predict the output from input data. Unsupervised learning involves training a model on unlabeled data to discover patterns or groupings within the data.</td>\n",
       "    </tr>\n",
       "    <tr>\n",
       "      <th>3</th>\n",
       "      <td>What is overfitting in machine learning?</td>\n",
       "      <td>Overfitting occurs when a model learns the training data too well, capturing noise or random fluctuations in the data rather than the underlying patterns. This can result in poor performance when the model is applied to new, unseen data.</td>\n",
       "    </tr>\n",
       "    <tr>\n",
       "      <th>4</th>\n",
       "      <td>What evaluation metrics can be used to assess the performance of a classification model?</td>\n",
       "      <td>Common evaluation metrics for classification models include accuracy, precision, recall, F1-score, and area under the ROC curve (AUC).</td>\n",
       "    </tr>\n",
       "    <tr>\n",
       "      <th>5</th>\n",
       "      <td>What is cross-validation and why is it used in machine learning?</td>\n",
       "      <td>Cross-validation is a technique used to assess the performance of a machine learning model by training and evaluating it multiple times on different subsets of the data. It helps to ensure that the model's performance is robust and not overly dependent...</td>\n",
       "    </tr>\n",
       "    <tr>\n",
       "      <th>6</th>\n",
       "      <td>What is the purpose of feature engineering in machine learning?</td>\n",
       "      <td>Feature engineering involves transforming raw data into a format that is suitable for training machine learning models. It aims to extract relevant information from the data and create informative features that improve the performance of the models.</td>\n",
       "    </tr>\n",
       "    <tr>\n",
       "      <th>7</th>\n",
       "      <td>What are some common algorithms used in machine learning?</td>\n",
       "      <td>Some common algorithms used in machine learning include linear regression, logistic regression, decision trees, random forests, support vector machines (SVM), k-nearest neighbors (KNN), and neural networks.</td>\n",
       "    </tr>\n",
       "    <tr>\n",
       "      <th>8</th>\n",
       "      <td>What is the curse of dimensionality in machine learning?</td>\n",
       "      <td>The curse of dimensionality refers to the problems that arise when working with high-dimensional data. As the number of features or dimensions increases, the amount of data required to effectively cover the feature space grows exponentially, making it ...</td>\n",
       "    </tr>\n",
       "    <tr>\n",
       "      <th>9</th>\n",
       "      <td>What is the difference between data mining and machine learning?</td>\n",
       "      <td>Data mining is the process of discovering patterns, trends, and insights from large datasets, often using techniques such as clustering, association rule mining, and anomaly detection. Machine learning, on the other hand, is a subset of data mining tha...</td>\n",
       "    </tr>\n",
       "  </tbody>\n",
       "</table>\n",
       "</div>"
      ],
      "text/plain": [
       "                                                                                  Questions  \\\n",
       "0                                                                     What is data science?   \n",
       "1                              What are the key steps involved in the data science process?   \n",
       "2                      What is the difference between supervised and unsupervised learning?   \n",
       "3                                                  What is overfitting in machine learning?   \n",
       "4  What evaluation metrics can be used to assess the performance of a classification model?   \n",
       "5                          What is cross-validation and why is it used in machine learning?   \n",
       "6                           What is the purpose of feature engineering in machine learning?   \n",
       "7                                 What are some common algorithms used in machine learning?   \n",
       "8                                  What is the curse of dimensionality in machine learning?   \n",
       "9                          What is the difference between data mining and machine learning?   \n",
       "\n",
       "                                                                                                                                                                                                                                                           Answers  \n",
       "0                                                                                        Data science is an interdisciplinary field that uses scientific methods, algorithms, and systems to extract knowledge and insights from structured and unstructured data.  \n",
       "1                                                                                        The key steps in the data science process include problem definition, data collection, data preparation, exploratory data analysis, modeling, evaluation, and deployment.  \n",
       "2            Supervised learning involves training a model on labeled data, where the algorithm learns to predict the output from input data. Unsupervised learning involves training a model on unlabeled data to discover patterns or groupings within the data.  \n",
       "3                    Overfitting occurs when a model learns the training data too well, capturing noise or random fluctuations in the data rather than the underlying patterns. This can result in poor performance when the model is applied to new, unseen data.  \n",
       "4                                                                                                                           Common evaluation metrics for classification models include accuracy, precision, recall, F1-score, and area under the ROC curve (AUC).  \n",
       "5  Cross-validation is a technique used to assess the performance of a machine learning model by training and evaluating it multiple times on different subsets of the data. It helps to ensure that the model's performance is robust and not overly dependent...  \n",
       "6        Feature engineering involves transforming raw data into a format that is suitable for training machine learning models. It aims to extract relevant information from the data and create informative features that improve the performance of the models.  \n",
       "7                                                   Some common algorithms used in machine learning include linear regression, logistic regression, decision trees, random forests, support vector machines (SVM), k-nearest neighbors (KNN), and neural networks.  \n",
       "8  The curse of dimensionality refers to the problems that arise when working with high-dimensional data. As the number of features or dimensions increases, the amount of data required to effectively cover the feature space grows exponentially, making it ...  \n",
       "9  Data mining is the process of discovering patterns, trends, and insights from large datasets, often using techniques such as clustering, association rule mining, and anomaly detection. Machine learning, on the other hand, is a subset of data mining tha...  "
      ]
     },
     "execution_count": 6,
     "metadata": {},
     "output_type": "execute_result"
    }
   ],
   "source": [
    "data.head(10)"
   ]
  },
  {
   "cell_type": "markdown",
   "id": "7c059a18",
   "metadata": {
    "papermill": {
     "duration": 0.007295,
     "end_time": "2024-02-28T18:26:37.617221",
     "exception": false,
     "start_time": "2024-02-28T18:26:37.609926",
     "status": "completed"
    },
    "tags": []
   },
   "source": [
    "# Cleaning Data"
   ]
  },
  {
   "cell_type": "code",
   "execution_count": 7,
   "id": "2407ecbd",
   "metadata": {
    "execution": {
     "iopub.execute_input": "2024-02-28T18:26:37.633472Z",
     "iopub.status.busy": "2024-02-28T18:26:37.633068Z",
     "iopub.status.idle": "2024-02-28T18:26:37.650253Z",
     "shell.execute_reply": "2024-02-28T18:26:37.649044Z"
    },
    "papermill": {
     "duration": 0.027808,
     "end_time": "2024-02-28T18:26:37.652470",
     "exception": false,
     "start_time": "2024-02-28T18:26:37.624662",
     "status": "completed"
    },
    "tags": []
   },
   "outputs": [],
   "source": [
    "# remove any HTML/Markdown tags\n",
    "data['Questions'] = data['Questions'].str.replace(r'<[^<>]*>', '', regex=True)\n",
    "# remove any newline\n",
    "data['Questions'] = data['Questions'].str.replace(r'\\n',' ', regex=True)\n",
    "# remove any @user tags\n",
    "data['Questions'] = data['Questions'].str.replace(r'(?<=\\s)@[\\w]+|(?<=^)@[\\w]+', '', regex=True)\n",
    "\n",
    "# repeat same cleaning for the Response column as well\n",
    "data['Answers'] = data['Answers'].str.replace(r'<[^<>]*>', '', regex=True)\n",
    "data['Answers'] = data['Answers'].str.replace(r'\\n',' ', regex=True)\n",
    "data['Answers'] = data['Answers'].str.replace(r'(?<=\\s)@[\\w]+|(?<=^)@[\\w]+', '', regex=True)"
   ]
  },
  {
   "cell_type": "code",
   "execution_count": 8,
   "id": "1c0e513d",
   "metadata": {
    "execution": {
     "iopub.execute_input": "2024-02-28T18:26:37.670019Z",
     "iopub.status.busy": "2024-02-28T18:26:37.669598Z",
     "iopub.status.idle": "2024-02-28T18:26:37.681725Z",
     "shell.execute_reply": "2024-02-28T18:26:37.680622Z"
    },
    "papermill": {
     "duration": 0.023782,
     "end_time": "2024-02-28T18:26:37.684074",
     "exception": false,
     "start_time": "2024-02-28T18:26:37.660292",
     "status": "completed"
    },
    "tags": []
   },
   "outputs": [
    {
     "data": {
      "text/html": [
       "<div>\n",
       "<style scoped>\n",
       "    .dataframe tbody tr th:only-of-type {\n",
       "        vertical-align: middle;\n",
       "    }\n",
       "\n",
       "    .dataframe tbody tr th {\n",
       "        vertical-align: top;\n",
       "    }\n",
       "\n",
       "    .dataframe thead th {\n",
       "        text-align: right;\n",
       "    }\n",
       "</style>\n",
       "<table border=\"1\" class=\"dataframe\">\n",
       "  <thead>\n",
       "    <tr style=\"text-align: right;\">\n",
       "      <th></th>\n",
       "      <th>Questions</th>\n",
       "      <th>Answers</th>\n",
       "    </tr>\n",
       "  </thead>\n",
       "  <tbody>\n",
       "    <tr>\n",
       "      <th>0</th>\n",
       "      <td>What is data science?</td>\n",
       "      <td>Data science is an interdisciplinary field that uses scientific methods, algorithms, and systems to extract knowledge and insights from structured and unstructured data.</td>\n",
       "    </tr>\n",
       "    <tr>\n",
       "      <th>1</th>\n",
       "      <td>What are the key steps involved in the data science process?</td>\n",
       "      <td>The key steps in the data science process include problem definition, data collection, data preparation, exploratory data analysis, modeling, evaluation, and deployment.</td>\n",
       "    </tr>\n",
       "    <tr>\n",
       "      <th>2</th>\n",
       "      <td>What is the difference between supervised and unsupervised learning?</td>\n",
       "      <td>Supervised learning involves training a model on labeled data, where the algorithm learns to predict the output from input data. Unsupervised learning involves training a model on unlabeled data to discover patterns or groupings within the data.</td>\n",
       "    </tr>\n",
       "    <tr>\n",
       "      <th>3</th>\n",
       "      <td>What is overfitting in machine learning?</td>\n",
       "      <td>Overfitting occurs when a model learns the training data too well, capturing noise or random fluctuations in the data rather than the underlying patterns. This can result in poor performance when the model is applied to new, unseen data.</td>\n",
       "    </tr>\n",
       "    <tr>\n",
       "      <th>4</th>\n",
       "      <td>What evaluation metrics can be used to assess the performance of a classification model?</td>\n",
       "      <td>Common evaluation metrics for classification models include accuracy, precision, recall, F1-score, and area under the ROC curve (AUC).</td>\n",
       "    </tr>\n",
       "    <tr>\n",
       "      <th>5</th>\n",
       "      <td>What is cross-validation and why is it used in machine learning?</td>\n",
       "      <td>Cross-validation is a technique used to assess the performance of a machine learning model by training and evaluating it multiple times on different subsets of the data. It helps to ensure that the model's performance is robust and not overly dependent...</td>\n",
       "    </tr>\n",
       "    <tr>\n",
       "      <th>6</th>\n",
       "      <td>What is the purpose of feature engineering in machine learning?</td>\n",
       "      <td>Feature engineering involves transforming raw data into a format that is suitable for training machine learning models. It aims to extract relevant information from the data and create informative features that improve the performance of the models.</td>\n",
       "    </tr>\n",
       "    <tr>\n",
       "      <th>7</th>\n",
       "      <td>What are some common algorithms used in machine learning?</td>\n",
       "      <td>Some common algorithms used in machine learning include linear regression, logistic regression, decision trees, random forests, support vector machines (SVM), k-nearest neighbors (KNN), and neural networks.</td>\n",
       "    </tr>\n",
       "    <tr>\n",
       "      <th>8</th>\n",
       "      <td>What is the curse of dimensionality in machine learning?</td>\n",
       "      <td>The curse of dimensionality refers to the problems that arise when working with high-dimensional data. As the number of features or dimensions increases, the amount of data required to effectively cover the feature space grows exponentially, making it ...</td>\n",
       "    </tr>\n",
       "    <tr>\n",
       "      <th>9</th>\n",
       "      <td>What is the difference between data mining and machine learning?</td>\n",
       "      <td>Data mining is the process of discovering patterns, trends, and insights from large datasets, often using techniques such as clustering, association rule mining, and anomaly detection. Machine learning, on the other hand, is a subset of data mining tha...</td>\n",
       "    </tr>\n",
       "  </tbody>\n",
       "</table>\n",
       "</div>"
      ],
      "text/plain": [
       "                                                                                  Questions  \\\n",
       "0                                                                     What is data science?   \n",
       "1                              What are the key steps involved in the data science process?   \n",
       "2                      What is the difference between supervised and unsupervised learning?   \n",
       "3                                                  What is overfitting in machine learning?   \n",
       "4  What evaluation metrics can be used to assess the performance of a classification model?   \n",
       "5                          What is cross-validation and why is it used in machine learning?   \n",
       "6                           What is the purpose of feature engineering in machine learning?   \n",
       "7                                 What are some common algorithms used in machine learning?   \n",
       "8                                  What is the curse of dimensionality in machine learning?   \n",
       "9                          What is the difference between data mining and machine learning?   \n",
       "\n",
       "                                                                                                                                                                                                                                                           Answers  \n",
       "0                                                                                        Data science is an interdisciplinary field that uses scientific methods, algorithms, and systems to extract knowledge and insights from structured and unstructured data.  \n",
       "1                                                                                        The key steps in the data science process include problem definition, data collection, data preparation, exploratory data analysis, modeling, evaluation, and deployment.  \n",
       "2            Supervised learning involves training a model on labeled data, where the algorithm learns to predict the output from input data. Unsupervised learning involves training a model on unlabeled data to discover patterns or groupings within the data.  \n",
       "3                    Overfitting occurs when a model learns the training data too well, capturing noise or random fluctuations in the data rather than the underlying patterns. This can result in poor performance when the model is applied to new, unseen data.  \n",
       "4                                                                                                                           Common evaluation metrics for classification models include accuracy, precision, recall, F1-score, and area under the ROC curve (AUC).  \n",
       "5  Cross-validation is a technique used to assess the performance of a machine learning model by training and evaluating it multiple times on different subsets of the data. It helps to ensure that the model's performance is robust and not overly dependent...  \n",
       "6        Feature engineering involves transforming raw data into a format that is suitable for training machine learning models. It aims to extract relevant information from the data and create informative features that improve the performance of the models.  \n",
       "7                                                   Some common algorithms used in machine learning include linear regression, logistic regression, decision trees, random forests, support vector machines (SVM), k-nearest neighbors (KNN), and neural networks.  \n",
       "8  The curse of dimensionality refers to the problems that arise when working with high-dimensional data. As the number of features or dimensions increases, the amount of data required to effectively cover the feature space grows exponentially, making it ...  \n",
       "9  Data mining is the process of discovering patterns, trends, and insights from large datasets, often using techniques such as clustering, association rule mining, and anomaly detection. Machine learning, on the other hand, is a subset of data mining tha...  "
      ]
     },
     "execution_count": 8,
     "metadata": {},
     "output_type": "execute_result"
    }
   ],
   "source": [
    "data.head(10)"
   ]
  },
  {
   "cell_type": "code",
   "execution_count": 9,
   "id": "7c3b1987",
   "metadata": {
    "execution": {
     "iopub.execute_input": "2024-02-28T18:26:37.702545Z",
     "iopub.status.busy": "2024-02-28T18:26:37.702128Z",
     "iopub.status.idle": "2024-02-28T18:26:37.712894Z",
     "shell.execute_reply": "2024-02-28T18:26:37.711927Z"
    },
    "papermill": {
     "duration": 0.02185,
     "end_time": "2024-02-28T18:26:37.714992",
     "exception": false,
     "start_time": "2024-02-28T18:26:37.693142",
     "status": "completed"
    },
    "tags": []
   },
   "outputs": [],
   "source": [
    "dataset = []\n",
    "    \n",
    "for index, row in data.iterrows():\n",
    "    instruction, response = row['Questions'], row['Answers']\n",
    "    template = (f\"Instruction:\\n{instruction}\\n\\nResponse:\\n{response}\")\n",
    "    dataset.append(template)"
   ]
  },
  {
   "cell_type": "markdown",
   "id": "3d8c75de",
   "metadata": {
    "papermill": {
     "duration": 0.007482,
     "end_time": "2024-02-28T18:26:37.730245",
     "exception": false,
     "start_time": "2024-02-28T18:26:37.722763",
     "status": "completed"
    },
    "tags": []
   },
   "source": [
    "# Using LoRA fine-tuned model"
   ]
  },
  {
   "cell_type": "code",
   "execution_count": 10,
   "id": "efca5bc5",
   "metadata": {
    "execution": {
     "iopub.execute_input": "2024-02-28T18:26:37.747958Z",
     "iopub.status.busy": "2024-02-28T18:26:37.747576Z",
     "iopub.status.idle": "2024-02-28T18:26:38.230034Z",
     "shell.execute_reply": "2024-02-28T18:26:38.229086Z"
    },
    "papermill": {
     "duration": 0.494148,
     "end_time": "2024-02-28T18:26:38.232682",
     "exception": false,
     "start_time": "2024-02-28T18:26:37.738534",
     "status": "completed"
    },
    "tags": []
   },
   "outputs": [],
   "source": [
    "# Enable LoRA for the model and set the LoRA rank to 64.\n",
    "gemma_lm.backbone.enable_lora(rank=64)"
   ]
  },
  {
   "cell_type": "code",
   "execution_count": 11,
   "id": "52657e64",
   "metadata": {
    "execution": {
     "iopub.execute_input": "2024-02-28T18:26:38.250532Z",
     "iopub.status.busy": "2024-02-28T18:26:38.250122Z",
     "iopub.status.idle": "2024-02-28T18:26:38.255721Z",
     "shell.execute_reply": "2024-02-28T18:26:38.254406Z"
    },
    "papermill": {
     "duration": 0.017202,
     "end_time": "2024-02-28T18:26:38.258084",
     "exception": false,
     "start_time": "2024-02-28T18:26:38.240882",
     "status": "completed"
    },
    "tags": []
   },
   "outputs": [],
   "source": [
    "# # Limit the input sequence length to 512 (to control memory usage).\n",
    "# gemma_lm.preprocessor.sequence_length = 512\n",
    "# # Use AdamW (a common optimizer for transformer models).\n",
    "# optimizer = keras.optimizers.AdamW(\n",
    "#     learning_rate=5e-5,\n",
    "#     weight_decay=0.01,\n",
    "# )\n",
    "# # Exclude layernorm and bias terms from decay.\n",
    "# optimizer.exclude_from_weight_decay(var_names=[\"bias\", \"scale\"])\n",
    "\n",
    "# gemma_lm.compile(\n",
    "#     loss=keras.losses.SparseCategoricalCrossentropy(from_logits=True),\n",
    "#     optimizer=optimizer,\n",
    "#     weighted_metrics=[keras.metrics.SparseCategoricalAccuracy()],\n",
    "# )"
   ]
  },
  {
   "cell_type": "code",
   "execution_count": 12,
   "id": "df6bb480",
   "metadata": {
    "execution": {
     "iopub.execute_input": "2024-02-28T18:26:38.275504Z",
     "iopub.status.busy": "2024-02-28T18:26:38.274733Z",
     "iopub.status.idle": "2024-02-28T18:26:38.370106Z",
     "shell.execute_reply": "2024-02-28T18:26:38.369099Z"
    },
    "papermill": {
     "duration": 0.107118,
     "end_time": "2024-02-28T18:26:38.372708",
     "exception": false,
     "start_time": "2024-02-28T18:26:38.265590",
     "status": "completed"
    },
    "tags": []
   },
   "outputs": [],
   "source": [
    "gemma_lm.preprocessor.sequence_length = 314\n",
    "# Use AdamW (a common optimizer for transformer models).\n",
    "optimizer = keras.optimizers.AdamW(\n",
    "    learning_rate=5e-5,\n",
    "    weight_decay=0.01,\n",
    "    beta_1=0.9,          # Adjust beta_1 parameter\n",
    "    beta_2=0.999         # Adjust beta_2 parameter\n",
    ")\n",
    "# Exclude layernorm and bias terms from decay.\n",
    "optimizer.exclude_from_weight_decay(var_names=[\"bias\", \"scale\"])\n",
    "\n",
    "gemma_lm.compile(\n",
    "    loss=keras.losses.SparseCategoricalCrossentropy(from_logits=True),\n",
    "    optimizer=optimizer,\n",
    "    weighted_metrics=[keras.metrics.SparseCategoricalAccuracy()],)"
   ]
  },
  {
   "cell_type": "code",
   "execution_count": 13,
   "id": "e0ddd025",
   "metadata": {
    "execution": {
     "iopub.execute_input": "2024-02-28T18:26:38.391184Z",
     "iopub.status.busy": "2024-02-28T18:26:38.390279Z",
     "iopub.status.idle": "2024-02-28T18:39:50.685045Z",
     "shell.execute_reply": "2024-02-28T18:39:50.683904Z"
    },
    "papermill": {
     "duration": 792.306866,
     "end_time": "2024-02-28T18:39:50.687559",
     "exception": false,
     "start_time": "2024-02-28T18:26:38.380693",
     "status": "completed"
    },
    "tags": []
   },
   "outputs": [
    {
     "name": "stdout",
     "output_type": "stream",
     "text": [
      "Epoch 1/25\n",
      "\u001b[1m59/59\u001b[0m \u001b[32m━━━━━━━━━━━━━━━━━━━━\u001b[0m\u001b[37m\u001b[0m \u001b[1m54s\u001b[0m 498ms/step - loss: 0.3065 - sparse_categorical_accuracy: 0.6426\n",
      "Epoch 2/25\n",
      "\u001b[1m59/59\u001b[0m \u001b[32m━━━━━━━━━━━━━━━━━━━━\u001b[0m\u001b[37m\u001b[0m \u001b[1m29s\u001b[0m 491ms/step - loss: 0.1776 - sparse_categorical_accuracy: 0.7755\n",
      "Epoch 3/25\n",
      "\u001b[1m59/59\u001b[0m \u001b[32m━━━━━━━━━━━━━━━━━━━━\u001b[0m\u001b[37m\u001b[0m \u001b[1m29s\u001b[0m 491ms/step - loss: 0.1479 - sparse_categorical_accuracy: 0.8154\n",
      "Epoch 4/25\n",
      "\u001b[1m59/59\u001b[0m \u001b[32m━━━━━━━━━━━━━━━━━━━━\u001b[0m\u001b[37m\u001b[0m \u001b[1m29s\u001b[0m 492ms/step - loss: 0.1253 - sparse_categorical_accuracy: 0.8581\n",
      "Epoch 5/25\n",
      "\u001b[1m59/59\u001b[0m \u001b[32m━━━━━━━━━━━━━━━━━━━━\u001b[0m\u001b[37m\u001b[0m \u001b[1m29s\u001b[0m 492ms/step - loss: 0.1027 - sparse_categorical_accuracy: 0.8881\n",
      "Epoch 6/25\n",
      "\u001b[1m59/59\u001b[0m \u001b[32m━━━━━━━━━━━━━━━━━━━━\u001b[0m\u001b[37m\u001b[0m \u001b[1m29s\u001b[0m 492ms/step - loss: 0.0841 - sparse_categorical_accuracy: 0.9187\n",
      "Epoch 7/25\n",
      "\u001b[1m59/59\u001b[0m \u001b[32m━━━━━━━━━━━━━━━━━━━━\u001b[0m\u001b[37m\u001b[0m \u001b[1m29s\u001b[0m 492ms/step - loss: 0.0727 - sparse_categorical_accuracy: 0.9324\n",
      "Epoch 8/25\n",
      "\u001b[1m59/59\u001b[0m \u001b[32m━━━━━━━━━━━━━━━━━━━━\u001b[0m\u001b[37m\u001b[0m \u001b[1m29s\u001b[0m 492ms/step - loss: 0.0656 - sparse_categorical_accuracy: 0.9399\n",
      "Epoch 9/25\n",
      "\u001b[1m59/59\u001b[0m \u001b[32m━━━━━━━━━━━━━━━━━━━━\u001b[0m\u001b[37m\u001b[0m \u001b[1m42s\u001b[0m 706ms/step - loss: 0.0601 - sparse_categorical_accuracy: 0.9439\n",
      "Epoch 10/25\n",
      "\u001b[1m59/59\u001b[0m \u001b[32m━━━━━━━━━━━━━━━━━━━━\u001b[0m\u001b[37m\u001b[0m \u001b[1m29s\u001b[0m 492ms/step - loss: 0.0573 - sparse_categorical_accuracy: 0.9464\n",
      "Epoch 11/25\n",
      "\u001b[1m59/59\u001b[0m \u001b[32m━━━━━━━━━━━━━━━━━━━━\u001b[0m\u001b[37m\u001b[0m \u001b[1m29s\u001b[0m 492ms/step - loss: 0.0548 - sparse_categorical_accuracy: 0.9478\n",
      "Epoch 12/25\n",
      "\u001b[1m59/59\u001b[0m \u001b[32m━━━━━━━━━━━━━━━━━━━━\u001b[0m\u001b[37m\u001b[0m \u001b[1m29s\u001b[0m 492ms/step - loss: 0.0528 - sparse_categorical_accuracy: 0.9458\n",
      "Epoch 13/25\n",
      "\u001b[1m59/59\u001b[0m \u001b[32m━━━━━━━━━━━━━━━━━━━━\u001b[0m\u001b[37m\u001b[0m \u001b[1m42s\u001b[0m 706ms/step - loss: 0.0519 - sparse_categorical_accuracy: 0.9463\n",
      "Epoch 14/25\n",
      "\u001b[1m59/59\u001b[0m \u001b[32m━━━━━━━━━━━━━━━━━━━━\u001b[0m\u001b[37m\u001b[0m \u001b[1m42s\u001b[0m 706ms/step - loss: 0.0491 - sparse_categorical_accuracy: 0.9457\n",
      "Epoch 15/25\n",
      "\u001b[1m59/59\u001b[0m \u001b[32m━━━━━━━━━━━━━━━━━━━━\u001b[0m\u001b[37m\u001b[0m \u001b[1m29s\u001b[0m 492ms/step - loss: 0.0472 - sparse_categorical_accuracy: 0.9459\n",
      "Epoch 16/25\n",
      "\u001b[1m59/59\u001b[0m \u001b[32m━━━━━━━━━━━━━━━━━━━━\u001b[0m\u001b[37m\u001b[0m \u001b[1m29s\u001b[0m 492ms/step - loss: 0.0448 - sparse_categorical_accuracy: 0.9467\n",
      "Epoch 17/25\n",
      "\u001b[1m59/59\u001b[0m \u001b[32m━━━━━━━━━━━━━━━━━━━━\u001b[0m\u001b[37m\u001b[0m \u001b[1m29s\u001b[0m 492ms/step - loss: 0.0422 - sparse_categorical_accuracy: 0.9483\n",
      "Epoch 18/25\n",
      "\u001b[1m59/59\u001b[0m \u001b[32m━━━━━━━━━━━━━━━━━━━━\u001b[0m\u001b[37m\u001b[0m \u001b[1m29s\u001b[0m 492ms/step - loss: 0.0385 - sparse_categorical_accuracy: 0.9492\n",
      "Epoch 19/25\n",
      "\u001b[1m59/59\u001b[0m \u001b[32m━━━━━━━━━━━━━━━━━━━━\u001b[0m\u001b[37m\u001b[0m \u001b[1m29s\u001b[0m 492ms/step - loss: 0.0338 - sparse_categorical_accuracy: 0.9490\n",
      "Epoch 20/25\n",
      "\u001b[1m59/59\u001b[0m \u001b[32m━━━━━━━━━━━━━━━━━━━━\u001b[0m\u001b[37m\u001b[0m \u001b[1m29s\u001b[0m 492ms/step - loss: 0.0271 - sparse_categorical_accuracy: 0.9664\n",
      "Epoch 21/25\n",
      "\u001b[1m59/59\u001b[0m \u001b[32m━━━━━━━━━━━━━━━━━━━━\u001b[0m\u001b[37m\u001b[0m \u001b[1m29s\u001b[0m 491ms/step - loss: 0.0226 - sparse_categorical_accuracy: 0.9655\n",
      "Epoch 22/25\n",
      "\u001b[1m59/59\u001b[0m \u001b[32m━━━━━━━━━━━━━━━━━━━━\u001b[0m\u001b[37m\u001b[0m \u001b[1m29s\u001b[0m 492ms/step - loss: 0.0279 - sparse_categorical_accuracy: 0.9554\n",
      "Epoch 23/25\n",
      "\u001b[1m59/59\u001b[0m \u001b[32m━━━━━━━━━━━━━━━━━━━━\u001b[0m\u001b[37m\u001b[0m \u001b[1m29s\u001b[0m 492ms/step - loss: 0.0310 - sparse_categorical_accuracy: 0.9525\n",
      "Epoch 24/25\n",
      "\u001b[1m59/59\u001b[0m \u001b[32m━━━━━━━━━━━━━━━━━━━━\u001b[0m\u001b[37m\u001b[0m \u001b[1m29s\u001b[0m 492ms/step - loss: 0.0240 - sparse_categorical_accuracy: 0.9595\n",
      "Epoch 25/25\n",
      "\u001b[1m59/59\u001b[0m \u001b[32m━━━━━━━━━━━━━━━━━━━━\u001b[0m\u001b[37m\u001b[0m \u001b[1m29s\u001b[0m 492ms/step - loss: 0.0195 - sparse_categorical_accuracy: 0.9641\n"
     ]
    },
    {
     "data": {
      "text/plain": [
       "<keras.src.callbacks.history.History at 0x77fc38482ad0>"
      ]
     },
     "execution_count": 13,
     "metadata": {},
     "output_type": "execute_result"
    }
   ],
   "source": [
    "gemma_lm.fit(dataset, epochs=25, batch_size=1)"
   ]
  },
  {
   "cell_type": "code",
   "execution_count": 14,
   "id": "b7d514e9",
   "metadata": {
    "execution": {
     "iopub.execute_input": "2024-02-28T18:39:50.986045Z",
     "iopub.status.busy": "2024-02-28T18:39:50.985333Z",
     "iopub.status.idle": "2024-02-28T18:40:06.834139Z",
     "shell.execute_reply": "2024-02-28T18:40:06.832811Z"
    },
    "papermill": {
     "duration": 15.999001,
     "end_time": "2024-02-28T18:40:06.837015",
     "exception": false,
     "start_time": "2024-02-28T18:39:50.838014",
     "status": "completed"
    },
    "tags": []
   },
   "outputs": [
    {
     "name": "stdout",
     "output_type": "stream",
     "text": [
      "What is Matplotlib?\n",
      "\n",
      "Matplotlib is a Python library for creating static, interactive, and animated visualizations. It provides functions for generating plots, histograms, scatter plots, and many other types of graphs, making it useful for data analysis and presentation.\n"
     ]
    }
   ],
   "source": [
    "print(gemma_lm.generate(\"What is Matplotlib?\", max_length=256))"
   ]
  },
  {
   "cell_type": "code",
   "execution_count": null,
   "id": "c2565065",
   "metadata": {
    "papermill": {
     "duration": 0.145982,
     "end_time": "2024-02-28T18:40:07.128629",
     "exception": false,
     "start_time": "2024-02-28T18:40:06.982647",
     "status": "completed"
    },
    "tags": []
   },
   "outputs": [],
   "source": []
  }
 ],
 "metadata": {
  "kaggle": {
   "accelerator": "gpu",
   "dataSources": [
    {
     "databundleVersionId": 7669720,
     "sourceId": 64148,
     "sourceType": "competition"
    },
    {
     "datasetId": 715041,
     "sourceId": 1245709,
     "sourceType": "datasetVersion"
    },
    {
     "isSourceIdPinned": true,
     "modelInstanceId": 5171,
     "sourceId": 11371,
     "sourceType": "modelInstanceVersion"
    }
   ],
   "dockerImageVersionId": 30648,
   "isGpuEnabled": true,
   "isInternetEnabled": true,
   "language": "python",
   "sourceType": "notebook"
  },
  "kernelspec": {
   "display_name": "Python 3",
   "language": "python",
   "name": "python3"
  },
  "language_info": {
   "codemirror_mode": {
    "name": "ipython",
    "version": 3
   },
   "file_extension": ".py",
   "mimetype": "text/x-python",
   "name": "python",
   "nbconvert_exporter": "python",
   "pygments_lexer": "ipython3",
   "version": "3.10.13"
  },
  "papermill": {
   "default_parameters": {},
   "duration": 945.916533,
   "end_time": "2024-02-28T18:40:11.250751",
   "environment_variables": {},
   "exception": null,
   "input_path": "__notebook__.ipynb",
   "output_path": "__notebook__.ipynb",
   "parameters": {},
   "start_time": "2024-02-28T18:24:25.334218",
   "version": "2.5.0"
  }
 },
 "nbformat": 4,
 "nbformat_minor": 5
}
